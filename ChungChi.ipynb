{
 "cells": [
  {
   "attachments": {},
   "cell_type": "markdown",
   "metadata": {},
   "source": [
    "# Preprocessing\n"
   ]
  },
  {
   "cell_type": "code",
   "execution_count": 131,
   "metadata": {},
   "outputs": [],
   "source": [
    "import pandas as pd\n",
    "import numpy as np\n",
    "import plotly.graph_objects as go\n",
    "from plotly.subplots import make_subplots\n",
    "import plotly.express as px"
   ]
  },
  {
   "cell_type": "code",
   "execution_count": 132,
   "metadata": {},
   "outputs": [
    {
     "data": {
      "text/html": [
       "<div>\n",
       "<style scoped>\n",
       "    .dataframe tbody tr th:only-of-type {\n",
       "        vertical-align: middle;\n",
       "    }\n",
       "\n",
       "    .dataframe tbody tr th {\n",
       "        vertical-align: top;\n",
       "    }\n",
       "\n",
       "    .dataframe thead th {\n",
       "        text-align: right;\n",
       "    }\n",
       "</style>\n",
       "<table border=\"1\" class=\"dataframe\">\n",
       "  <thead>\n",
       "    <tr style=\"text-align: right;\">\n",
       "      <th></th>\n",
       "      <th>id</th>\n",
       "      <th>masv</th>\n",
       "      <th>ngaythi</th>\n",
       "      <th>url</th>\n",
       "      <th>loaixn</th>\n",
       "      <th>url.1</th>\n",
       "      <th>loaixn.1</th>\n",
       "      <th>listening</th>\n",
       "      <th>speaking</th>\n",
       "      <th>reading</th>\n",
       "      <th>writing</th>\n",
       "      <th>tongdiem</th>\n",
       "      <th>lydo</th>\n",
       "      <th>trangthai</th>\n",
       "      <th>ngayxl</th>\n",
       "      <th>Unnamed: 15</th>\n",
       "    </tr>\n",
       "  </thead>\n",
       "  <tbody>\n",
       "    <tr>\n",
       "      <th>0</th>\n",
       "      <td>6</td>\n",
       "      <td>12C24162XPvAibaEXe9Xnw4t0GPgx9K2sCLXkxKl</td>\n",
       "      <td>NaN</td>\n",
       "      <td>bangcap/13521066/13521066_bangcap_TOIEC_20170...</td>\n",
       "      <td>TOIEC</td>\n",
       "      <td>NaN</td>\n",
       "      <td>NaN</td>\n",
       "      <td>NaN</td>\n",
       "      <td>NaN</td>\n",
       "      <td>NaN</td>\n",
       "      <td></td>\n",
       "      <td>1</td>\n",
       "      <td>2017-09-08 13:56:09</td>\n",
       "      <td>NaN</td>\n",
       "      <td>NaN</td>\n",
       "      <td>NaN</td>\n",
       "    </tr>\n",
       "    <tr>\n",
       "      <th>1</th>\n",
       "      <td>8</td>\n",
       "      <td>9095EEE4XPvAibaEXe93PEySAJOVk2kOrJQCpxlr</td>\n",
       "      <td>NaN</td>\n",
       "      <td>bangcap/13520021/13520021_bangcap_TOIEC_20170...</td>\n",
       "      <td>TOIEC</td>\n",
       "      <td>NaN</td>\n",
       "      <td>NaN</td>\n",
       "      <td>NaN</td>\n",
       "      <td>NaN</td>\n",
       "      <td>NaN</td>\n",
       "      <td></td>\n",
       "      <td>1</td>\n",
       "      <td>2017-09-08 13:55:15</td>\n",
       "      <td>NaN</td>\n",
       "      <td>NaN</td>\n",
       "      <td>NaN</td>\n",
       "    </tr>\n",
       "    <tr>\n",
       "      <th>2</th>\n",
       "      <td>13</td>\n",
       "      <td>538FDEFEXPvAibaEXe9P07hcrvmhCe3unM2XvNXE</td>\n",
       "      <td>NaN</td>\n",
       "      <td>bangcap/13520066/13520066_bangcap_TOIEC_20170...</td>\n",
       "      <td>TOIEC</td>\n",
       "      <td>NaN</td>\n",
       "      <td>NaN</td>\n",
       "      <td>NaN</td>\n",
       "      <td>NaN</td>\n",
       "      <td>NaN</td>\n",
       "      <td></td>\n",
       "      <td>1</td>\n",
       "      <td>2017-09-08 13:55:27</td>\n",
       "      <td>NaN</td>\n",
       "      <td>NaN</td>\n",
       "      <td>NaN</td>\n",
       "    </tr>\n",
       "    <tr>\n",
       "      <th>3</th>\n",
       "      <td>14</td>\n",
       "      <td>82EB45E9XPvAibaEXe9eSUilQ3V71rLMOFZnU1bQ</td>\n",
       "      <td>NaN</td>\n",
       "      <td>bangcap/13520828/13520828_bangcap_TOIEC_20170...</td>\n",
       "      <td>TOIEC</td>\n",
       "      <td>NaN</td>\n",
       "      <td>NaN</td>\n",
       "      <td>NaN</td>\n",
       "      <td>NaN</td>\n",
       "      <td>NaN</td>\n",
       "      <td></td>\n",
       "      <td>1</td>\n",
       "      <td>2017-09-08 13:56:00</td>\n",
       "      <td>NaN</td>\n",
       "      <td>NaN</td>\n",
       "      <td>NaN</td>\n",
       "    </tr>\n",
       "    <tr>\n",
       "      <th>4</th>\n",
       "      <td>15</td>\n",
       "      <td>DDB9E00CXPvAibaEXe/Xn8KZjn44cdZNDzzd5bIQ</td>\n",
       "      <td>NaN</td>\n",
       "      <td>bangcap/13520576/13520576_bangcap_TOIEC_20170...</td>\n",
       "      <td>TOIEC</td>\n",
       "      <td>NaN</td>\n",
       "      <td>NaN</td>\n",
       "      <td>NaN</td>\n",
       "      <td>NaN</td>\n",
       "      <td>NaN</td>\n",
       "      <td></td>\n",
       "      <td>1</td>\n",
       "      <td>2017-09-08 13:55:51</td>\n",
       "      <td>NaN</td>\n",
       "      <td>NaN</td>\n",
       "      <td>NaN</td>\n",
       "    </tr>\n",
       "    <tr>\n",
       "      <th>...</th>\n",
       "      <td>...</td>\n",
       "      <td>...</td>\n",
       "      <td>...</td>\n",
       "      <td>...</td>\n",
       "      <td>...</td>\n",
       "      <td>...</td>\n",
       "      <td>...</td>\n",
       "      <td>...</td>\n",
       "      <td>...</td>\n",
       "      <td>...</td>\n",
       "      <td>...</td>\n",
       "      <td>...</td>\n",
       "      <td>...</td>\n",
       "      <td>...</td>\n",
       "      <td>...</td>\n",
       "      <td>...</td>\n",
       "    </tr>\n",
       "    <tr>\n",
       "      <th>3459</th>\n",
       "      <td>4561</td>\n",
       "      <td>B6B56B1BXPvAibaEXe87eTIiJiH6BF68s2EQH7of</td>\n",
       "      <td>'2021-04-22'</td>\n",
       "      <td>'bangcap/17521132/17521132_bangcap_TOEIC_LR_2...</td>\n",
       "      <td>'TOEIC_LR'</td>\n",
       "      <td>490.0</td>\n",
       "      <td>NaN</td>\n",
       "      <td>490.0</td>\n",
       "      <td>NaN</td>\n",
       "      <td>'980'</td>\n",
       "      <td>NaN</td>\n",
       "      <td>0</td>\n",
       "      <td>NaN</td>\n",
       "      <td>NaN</td>\n",
       "      <td>NaN</td>\n",
       "      <td>NaN</td>\n",
       "    </tr>\n",
       "    <tr>\n",
       "      <th>3460</th>\n",
       "      <td>4562</td>\n",
       "      <td>3C698118XPvAibaEXe/4loAa7cHGjkHLL0rh7RE2</td>\n",
       "      <td>'2021-05-21'</td>\n",
       "      <td>'bangcap/14520706/14520706_bangcap_TOEIC_LR_2...</td>\n",
       "      <td>'TOEIC_LR'</td>\n",
       "      <td>310.0</td>\n",
       "      <td>NaN</td>\n",
       "      <td>250.0</td>\n",
       "      <td>NaN</td>\n",
       "      <td>'560'</td>\n",
       "      <td>NaN</td>\n",
       "      <td>0</td>\n",
       "      <td>NaN</td>\n",
       "      <td>NaN</td>\n",
       "      <td>NaN</td>\n",
       "      <td>NaN</td>\n",
       "    </tr>\n",
       "    <tr>\n",
       "      <th>3461</th>\n",
       "      <td>4563</td>\n",
       "      <td>9C873A85XPvAibaEXe87eTIiJiH6BPi13N8I4rQU</td>\n",
       "      <td>'2021-04-24'</td>\n",
       "      <td>'bangcap/17521281/17521281_bangcap_TOEIC_LR_2...</td>\n",
       "      <td>'TOEIC_LR'</td>\n",
       "      <td>395.0</td>\n",
       "      <td>NaN</td>\n",
       "      <td>260.0</td>\n",
       "      <td>NaN</td>\n",
       "      <td>'655'</td>\n",
       "      <td>NaN</td>\n",
       "      <td>0</td>\n",
       "      <td>NaN</td>\n",
       "      <td>NaN</td>\n",
       "      <td>NaN</td>\n",
       "      <td>NaN</td>\n",
       "    </tr>\n",
       "    <tr>\n",
       "      <th>3462</th>\n",
       "      <td>4565</td>\n",
       "      <td>271F191EXPvAibaEXe8VMicbCMuSMGFvijn7erLn</td>\n",
       "      <td>'2021-03-20'</td>\n",
       "      <td>'bangcap/16520846/16520846_bangcap_VNU-EPT_20...</td>\n",
       "      <td>'VNU-EPT'</td>\n",
       "      <td>NaN</td>\n",
       "      <td>NaN</td>\n",
       "      <td>NaN</td>\n",
       "      <td>NaN</td>\n",
       "      <td>'269'</td>\n",
       "      <td>NaN</td>\n",
       "      <td>0</td>\n",
       "      <td>NaN</td>\n",
       "      <td>NaN</td>\n",
       "      <td>NaN</td>\n",
       "      <td>NaN</td>\n",
       "    </tr>\n",
       "    <tr>\n",
       "      <th>3463</th>\n",
       "      <td>4569</td>\n",
       "      <td>D1B96E9EXPvAibaEXe+NaxazXn6OZOteyO82dXG7</td>\n",
       "      <td>'2021-05-22'</td>\n",
       "      <td>'bangcap/17520563/17520563_bangcap_IELTS_2021...</td>\n",
       "      <td>'IELTS'</td>\n",
       "      <td>NaN</td>\n",
       "      <td>NaN</td>\n",
       "      <td>NaN</td>\n",
       "      <td>NaN</td>\n",
       "      <td>'7.0'</td>\n",
       "      <td>NaN</td>\n",
       "      <td>0</td>\n",
       "      <td>NULL);</td>\n",
       "      <td>NaN</td>\n",
       "      <td>NaN</td>\n",
       "      <td>NaN</td>\n",
       "    </tr>\n",
       "  </tbody>\n",
       "</table>\n",
       "<p>3464 rows × 16 columns</p>\n",
       "</div>"
      ],
      "text/plain": [
       "        id                                      masv        ngaythi  \\\n",
       "0        6  12C24162XPvAibaEXe9Xnw4t0GPgx9K2sCLXkxKl            NaN   \n",
       "1        8  9095EEE4XPvAibaEXe93PEySAJOVk2kOrJQCpxlr            NaN   \n",
       "2       13  538FDEFEXPvAibaEXe9P07hcrvmhCe3unM2XvNXE            NaN   \n",
       "3       14  82EB45E9XPvAibaEXe9eSUilQ3V71rLMOFZnU1bQ            NaN   \n",
       "4       15  DDB9E00CXPvAibaEXe/Xn8KZjn44cdZNDzzd5bIQ            NaN   \n",
       "...    ...                                       ...            ...   \n",
       "3459  4561  B6B56B1BXPvAibaEXe87eTIiJiH6BF68s2EQH7of   '2021-04-22'   \n",
       "3460  4562  3C698118XPvAibaEXe/4loAa7cHGjkHLL0rh7RE2   '2021-05-21'   \n",
       "3461  4563  9C873A85XPvAibaEXe87eTIiJiH6BPi13N8I4rQU   '2021-04-24'   \n",
       "3462  4565  271F191EXPvAibaEXe8VMicbCMuSMGFvijn7erLn   '2021-03-20'   \n",
       "3463  4569  D1B96E9EXPvAibaEXe+NaxazXn6OZOteyO82dXG7   '2021-05-22'   \n",
       "\n",
       "                                                    url       loaixn   url.1  \\\n",
       "0      bangcap/13521066/13521066_bangcap_TOIEC_20170...        TOIEC     NaN   \n",
       "1      bangcap/13520021/13520021_bangcap_TOIEC_20170...        TOIEC     NaN   \n",
       "2      bangcap/13520066/13520066_bangcap_TOIEC_20170...        TOIEC     NaN   \n",
       "3      bangcap/13520828/13520828_bangcap_TOIEC_20170...        TOIEC     NaN   \n",
       "4      bangcap/13520576/13520576_bangcap_TOIEC_20170...        TOIEC     NaN   \n",
       "...                                                 ...          ...     ...   \n",
       "3459   'bangcap/17521132/17521132_bangcap_TOEIC_LR_2...   'TOEIC_LR'   490.0   \n",
       "3460   'bangcap/14520706/14520706_bangcap_TOEIC_LR_2...   'TOEIC_LR'   310.0   \n",
       "3461   'bangcap/17521281/17521281_bangcap_TOEIC_LR_2...   'TOEIC_LR'   395.0   \n",
       "3462   'bangcap/16520846/16520846_bangcap_VNU-EPT_20...    'VNU-EPT'     NaN   \n",
       "3463   'bangcap/17520563/17520563_bangcap_IELTS_2021...      'IELTS'     NaN   \n",
       "\n",
       "       loaixn.1   listening   speaking  reading  writing  tongdiem  \\\n",
       "0           NaN         NaN        NaN      NaN                  1   \n",
       "1           NaN         NaN        NaN      NaN                  1   \n",
       "2           NaN         NaN        NaN      NaN                  1   \n",
       "3           NaN         NaN        NaN      NaN                  1   \n",
       "4           NaN         NaN        NaN      NaN                  1   \n",
       "...         ...         ...        ...      ...      ...       ...   \n",
       "3459        NaN       490.0        NaN    '980'      NaN         0   \n",
       "3460        NaN       250.0        NaN    '560'      NaN         0   \n",
       "3461        NaN       260.0        NaN    '655'      NaN         0   \n",
       "3462        NaN         NaN        NaN    '269'      NaN         0   \n",
       "3463        NaN         NaN        NaN    '7.0'      NaN         0   \n",
       "\n",
       "                      lydo  trangthai   ngayxl Unnamed: 15  \n",
       "0      2017-09-08 13:56:09        NaN      NaN         NaN  \n",
       "1      2017-09-08 13:55:15        NaN      NaN         NaN  \n",
       "2      2017-09-08 13:55:27        NaN      NaN         NaN  \n",
       "3      2017-09-08 13:56:00        NaN      NaN         NaN  \n",
       "4      2017-09-08 13:55:51        NaN      NaN         NaN  \n",
       "...                    ...        ...      ...         ...  \n",
       "3459                   NaN        NaN      NaN         NaN  \n",
       "3460                   NaN        NaN      NaN         NaN  \n",
       "3461                   NaN        NaN      NaN         NaN  \n",
       "3462                   NaN        NaN      NaN         NaN  \n",
       "3463                NULL);        NaN      NaN         NaN  \n",
       "\n",
       "[3464 rows x 16 columns]"
      ]
     },
     "execution_count": 132,
     "metadata": {},
     "output_type": "execute_result"
    }
   ],
   "source": [
    "df = pd.read_csv(\"Education dataset/03.sinhvien_chungchi.csv\")\n",
    "df"
   ]
  },
  {
   "cell_type": "code",
   "execution_count": 133,
   "metadata": {},
   "outputs": [
    {
     "data": {
      "text/html": [
       "<div>\n",
       "<style scoped>\n",
       "    .dataframe tbody tr th:only-of-type {\n",
       "        vertical-align: middle;\n",
       "    }\n",
       "\n",
       "    .dataframe tbody tr th {\n",
       "        vertical-align: top;\n",
       "    }\n",
       "\n",
       "    .dataframe thead th {\n",
       "        text-align: right;\n",
       "    }\n",
       "</style>\n",
       "<table border=\"1\" class=\"dataframe\">\n",
       "  <thead>\n",
       "    <tr style=\"text-align: right;\">\n",
       "      <th></th>\n",
       "      <th>id</th>\n",
       "      <th>masv</th>\n",
       "      <th>ngaythi</th>\n",
       "      <th>url</th>\n",
       "      <th>loaixn</th>\n",
       "      <th>url.1</th>\n",
       "      <th>loaixn.1</th>\n",
       "      <th>listening</th>\n",
       "      <th>speaking</th>\n",
       "      <th>reading</th>\n",
       "      <th>writing</th>\n",
       "      <th>tongdiem</th>\n",
       "      <th>lydo</th>\n",
       "      <th>trangthai</th>\n",
       "      <th>ngayxl</th>\n",
       "      <th>Unnamed: 15</th>\n",
       "    </tr>\n",
       "  </thead>\n",
       "  <tbody>\n",
       "    <tr>\n",
       "      <th>0</th>\n",
       "      <td>6</td>\n",
       "      <td>12C24162XPvAibaEXe9Xnw4t0GPgx9K2sCLXkxKl</td>\n",
       "      <td>NaN</td>\n",
       "      <td>bangcap/13521066/13521066_bangcap_TOIEC_20170...</td>\n",
       "      <td>TOIEC</td>\n",
       "      <td>NaN</td>\n",
       "      <td>NaN</td>\n",
       "      <td>NaN</td>\n",
       "      <td>NaN</td>\n",
       "      <td>NaN</td>\n",
       "      <td></td>\n",
       "      <td>1</td>\n",
       "      <td>2017-09-08 13:56:09</td>\n",
       "      <td>NaN</td>\n",
       "      <td>NaN</td>\n",
       "      <td>NaN</td>\n",
       "    </tr>\n",
       "    <tr>\n",
       "      <th>1</th>\n",
       "      <td>8</td>\n",
       "      <td>9095EEE4XPvAibaEXe93PEySAJOVk2kOrJQCpxlr</td>\n",
       "      <td>NaN</td>\n",
       "      <td>bangcap/13520021/13520021_bangcap_TOIEC_20170...</td>\n",
       "      <td>TOIEC</td>\n",
       "      <td>NaN</td>\n",
       "      <td>NaN</td>\n",
       "      <td>NaN</td>\n",
       "      <td>NaN</td>\n",
       "      <td>NaN</td>\n",
       "      <td></td>\n",
       "      <td>1</td>\n",
       "      <td>2017-09-08 13:55:15</td>\n",
       "      <td>NaN</td>\n",
       "      <td>NaN</td>\n",
       "      <td>NaN</td>\n",
       "    </tr>\n",
       "    <tr>\n",
       "      <th>2</th>\n",
       "      <td>13</td>\n",
       "      <td>538FDEFEXPvAibaEXe9P07hcrvmhCe3unM2XvNXE</td>\n",
       "      <td>NaN</td>\n",
       "      <td>bangcap/13520066/13520066_bangcap_TOIEC_20170...</td>\n",
       "      <td>TOIEC</td>\n",
       "      <td>NaN</td>\n",
       "      <td>NaN</td>\n",
       "      <td>NaN</td>\n",
       "      <td>NaN</td>\n",
       "      <td>NaN</td>\n",
       "      <td></td>\n",
       "      <td>1</td>\n",
       "      <td>2017-09-08 13:55:27</td>\n",
       "      <td>NaN</td>\n",
       "      <td>NaN</td>\n",
       "      <td>NaN</td>\n",
       "    </tr>\n",
       "    <tr>\n",
       "      <th>3</th>\n",
       "      <td>14</td>\n",
       "      <td>82EB45E9XPvAibaEXe9eSUilQ3V71rLMOFZnU1bQ</td>\n",
       "      <td>NaN</td>\n",
       "      <td>bangcap/13520828/13520828_bangcap_TOIEC_20170...</td>\n",
       "      <td>TOIEC</td>\n",
       "      <td>NaN</td>\n",
       "      <td>NaN</td>\n",
       "      <td>NaN</td>\n",
       "      <td>NaN</td>\n",
       "      <td>NaN</td>\n",
       "      <td></td>\n",
       "      <td>1</td>\n",
       "      <td>2017-09-08 13:56:00</td>\n",
       "      <td>NaN</td>\n",
       "      <td>NaN</td>\n",
       "      <td>NaN</td>\n",
       "    </tr>\n",
       "    <tr>\n",
       "      <th>4</th>\n",
       "      <td>15</td>\n",
       "      <td>DDB9E00CXPvAibaEXe/Xn8KZjn44cdZNDzzd5bIQ</td>\n",
       "      <td>NaN</td>\n",
       "      <td>bangcap/13520576/13520576_bangcap_TOIEC_20170...</td>\n",
       "      <td>TOIEC</td>\n",
       "      <td>NaN</td>\n",
       "      <td>NaN</td>\n",
       "      <td>NaN</td>\n",
       "      <td>NaN</td>\n",
       "      <td>NaN</td>\n",
       "      <td></td>\n",
       "      <td>1</td>\n",
       "      <td>2017-09-08 13:55:51</td>\n",
       "      <td>NaN</td>\n",
       "      <td>NaN</td>\n",
       "      <td>NaN</td>\n",
       "    </tr>\n",
       "    <tr>\n",
       "      <th>...</th>\n",
       "      <td>...</td>\n",
       "      <td>...</td>\n",
       "      <td>...</td>\n",
       "      <td>...</td>\n",
       "      <td>...</td>\n",
       "      <td>...</td>\n",
       "      <td>...</td>\n",
       "      <td>...</td>\n",
       "      <td>...</td>\n",
       "      <td>...</td>\n",
       "      <td>...</td>\n",
       "      <td>...</td>\n",
       "      <td>...</td>\n",
       "      <td>...</td>\n",
       "      <td>...</td>\n",
       "      <td>...</td>\n",
       "    </tr>\n",
       "    <tr>\n",
       "      <th>3443</th>\n",
       "      <td>4514</td>\n",
       "      <td>BC627900XPvAibaEXe+NaxazXn6OZIwfIIoAIp4v</td>\n",
       "      <td>'2021-04-29'</td>\n",
       "      <td>'bangcap/17520723/17520723_bangcap_TOEIC_LR_2...</td>\n",
       "      <td>'TOEIC_LR'</td>\n",
       "      <td>305.0</td>\n",
       "      <td>NaN</td>\n",
       "      <td>290.0</td>\n",
       "      <td>NaN</td>\n",
       "      <td>'595'</td>\n",
       "      <td>NaN</td>\n",
       "      <td>1</td>\n",
       "      <td>'2021-05-31 10:29:07'</td>\n",
       "      <td>NaN</td>\n",
       "      <td>NaN</td>\n",
       "      <td>NaN</td>\n",
       "    </tr>\n",
       "    <tr>\n",
       "      <th>3444</th>\n",
       "      <td>4520</td>\n",
       "      <td>37FF4853XPvAibaEXe9G+cXjMGRRwjSk/rkiEP7t</td>\n",
       "      <td>'2021-05-07'</td>\n",
       "      <td>'bangcap/16521053/16521053_bangcap_TOEIC_LR_2...</td>\n",
       "      <td>'TOEIC_LR'</td>\n",
       "      <td>275.0</td>\n",
       "      <td>NaN</td>\n",
       "      <td>205.0</td>\n",
       "      <td>NaN</td>\n",
       "      <td>'480'</td>\n",
       "      <td>NaN</td>\n",
       "      <td>1</td>\n",
       "      <td>'2021-05-27 16:17:45'</td>\n",
       "      <td>NaN</td>\n",
       "      <td>NaN</td>\n",
       "      <td>NaN</td>\n",
       "    </tr>\n",
       "    <tr>\n",
       "      <th>3445</th>\n",
       "      <td>4525</td>\n",
       "      <td>67F674E2XPvAibaEXe8VMicbCMuSMELpukC+Sfve</td>\n",
       "      <td>'2021-05-07'</td>\n",
       "      <td>'bangcap/16520401/16520401_bangcap_TOEIC_LR_2...</td>\n",
       "      <td>'TOEIC_LR'</td>\n",
       "      <td>280.0</td>\n",
       "      <td>NaN</td>\n",
       "      <td>255.0</td>\n",
       "      <td>NaN</td>\n",
       "      <td>'535'</td>\n",
       "      <td>NaN</td>\n",
       "      <td>1</td>\n",
       "      <td>'2021-05-31 10:29:07'</td>\n",
       "      <td>NaN</td>\n",
       "      <td>NaN</td>\n",
       "      <td>NaN</td>\n",
       "    </tr>\n",
       "    <tr>\n",
       "      <th>3447</th>\n",
       "      <td>4530</td>\n",
       "      <td>706A0AFDXPvAibaEXe8VMicbCMuSMHf/LA1yuozt</td>\n",
       "      <td>'2021-05-05'</td>\n",
       "      <td>'bangcap/16520954/16520954_bangcap_TOEIC_LR_2...</td>\n",
       "      <td>'TOEIC_LR'</td>\n",
       "      <td>275.0</td>\n",
       "      <td>NaN</td>\n",
       "      <td>175.0</td>\n",
       "      <td>NaN</td>\n",
       "      <td>'450'</td>\n",
       "      <td>NaN</td>\n",
       "      <td>0</td>\n",
       "      <td>NaN</td>\n",
       "      <td>NaN</td>\n",
       "      <td>NaN</td>\n",
       "      <td>NaN</td>\n",
       "    </tr>\n",
       "    <tr>\n",
       "      <th>3448</th>\n",
       "      <td>4536</td>\n",
       "      <td>C70027CBXPvAibaEXe8VMicbCMuSMEJXFLhKjcsH</td>\n",
       "      <td>'2021-04-24'</td>\n",
       "      <td>'bangcap/16520842/16520842_bangcap_TOEIC_LR_2...</td>\n",
       "      <td>'TOEIC_LR'</td>\n",
       "      <td>430.0</td>\n",
       "      <td>NaN</td>\n",
       "      <td>385.0</td>\n",
       "      <td>NaN</td>\n",
       "      <td>'815'</td>\n",
       "      <td>NaN</td>\n",
       "      <td>1</td>\n",
       "      <td>'2021-05-31 10:29:07'</td>\n",
       "      <td>NaN</td>\n",
       "      <td>NaN</td>\n",
       "      <td>NaN</td>\n",
       "    </tr>\n",
       "  </tbody>\n",
       "</table>\n",
       "<p>3335 rows × 16 columns</p>\n",
       "</div>"
      ],
      "text/plain": [
       "        id                                      masv        ngaythi  \\\n",
       "0        6  12C24162XPvAibaEXe9Xnw4t0GPgx9K2sCLXkxKl            NaN   \n",
       "1        8  9095EEE4XPvAibaEXe93PEySAJOVk2kOrJQCpxlr            NaN   \n",
       "2       13  538FDEFEXPvAibaEXe9P07hcrvmhCe3unM2XvNXE            NaN   \n",
       "3       14  82EB45E9XPvAibaEXe9eSUilQ3V71rLMOFZnU1bQ            NaN   \n",
       "4       15  DDB9E00CXPvAibaEXe/Xn8KZjn44cdZNDzzd5bIQ            NaN   \n",
       "...    ...                                       ...            ...   \n",
       "3443  4514  BC627900XPvAibaEXe+NaxazXn6OZIwfIIoAIp4v   '2021-04-29'   \n",
       "3444  4520  37FF4853XPvAibaEXe9G+cXjMGRRwjSk/rkiEP7t   '2021-05-07'   \n",
       "3445  4525  67F674E2XPvAibaEXe8VMicbCMuSMELpukC+Sfve   '2021-05-07'   \n",
       "3447  4530  706A0AFDXPvAibaEXe8VMicbCMuSMHf/LA1yuozt   '2021-05-05'   \n",
       "3448  4536  C70027CBXPvAibaEXe8VMicbCMuSMEJXFLhKjcsH   '2021-04-24'   \n",
       "\n",
       "                                                    url       loaixn   url.1  \\\n",
       "0      bangcap/13521066/13521066_bangcap_TOIEC_20170...        TOIEC     NaN   \n",
       "1      bangcap/13520021/13520021_bangcap_TOIEC_20170...        TOIEC     NaN   \n",
       "2      bangcap/13520066/13520066_bangcap_TOIEC_20170...        TOIEC     NaN   \n",
       "3      bangcap/13520828/13520828_bangcap_TOIEC_20170...        TOIEC     NaN   \n",
       "4      bangcap/13520576/13520576_bangcap_TOIEC_20170...        TOIEC     NaN   \n",
       "...                                                 ...          ...     ...   \n",
       "3443   'bangcap/17520723/17520723_bangcap_TOEIC_LR_2...   'TOEIC_LR'   305.0   \n",
       "3444   'bangcap/16521053/16521053_bangcap_TOEIC_LR_2...   'TOEIC_LR'   275.0   \n",
       "3445   'bangcap/16520401/16520401_bangcap_TOEIC_LR_2...   'TOEIC_LR'   280.0   \n",
       "3447   'bangcap/16520954/16520954_bangcap_TOEIC_LR_2...   'TOEIC_LR'   275.0   \n",
       "3448   'bangcap/16520842/16520842_bangcap_TOEIC_LR_2...   'TOEIC_LR'   430.0   \n",
       "\n",
       "       loaixn.1   listening   speaking  reading  writing  tongdiem  \\\n",
       "0           NaN         NaN        NaN      NaN                  1   \n",
       "1           NaN         NaN        NaN      NaN                  1   \n",
       "2           NaN         NaN        NaN      NaN                  1   \n",
       "3           NaN         NaN        NaN      NaN                  1   \n",
       "4           NaN         NaN        NaN      NaN                  1   \n",
       "...         ...         ...        ...      ...      ...       ...   \n",
       "3443        NaN       290.0        NaN    '595'      NaN         1   \n",
       "3444        NaN       205.0        NaN    '480'      NaN         1   \n",
       "3445        NaN       255.0        NaN    '535'      NaN         1   \n",
       "3447        NaN       175.0        NaN    '450'      NaN         0   \n",
       "3448        NaN       385.0        NaN    '815'      NaN         1   \n",
       "\n",
       "                        lydo  trangthai   ngayxl Unnamed: 15  \n",
       "0        2017-09-08 13:56:09        NaN      NaN         NaN  \n",
       "1        2017-09-08 13:55:15        NaN      NaN         NaN  \n",
       "2        2017-09-08 13:55:27        NaN      NaN         NaN  \n",
       "3        2017-09-08 13:56:00        NaN      NaN         NaN  \n",
       "4        2017-09-08 13:55:51        NaN      NaN         NaN  \n",
       "...                      ...        ...      ...         ...  \n",
       "3443   '2021-05-31 10:29:07'        NaN      NaN         NaN  \n",
       "3444   '2021-05-27 16:17:45'        NaN      NaN         NaN  \n",
       "3445   '2021-05-31 10:29:07'        NaN      NaN         NaN  \n",
       "3447                     NaN        NaN      NaN         NaN  \n",
       "3448   '2021-05-31 10:29:07'        NaN      NaN         NaN  \n",
       "\n",
       "[3335 rows x 16 columns]"
      ]
     },
     "execution_count": 133,
     "metadata": {},
     "output_type": "execute_result"
    }
   ],
   "source": [
    "\n",
    "df = df.drop_duplicates(subset=[\" masv\",\" ngaythi\"], keep=\"first\")\n",
    "df"
   ]
  },
  {
   "cell_type": "code",
   "execution_count": 134,
   "metadata": {},
   "outputs": [
    {
     "name": "stderr",
     "output_type": "stream",
     "text": [
      "C:\\Users\\ADMIN\\AppData\\Local\\Temp\\ipykernel_43020\\4052305338.py:5: SettingWithCopyWarning:\n",
      "\n",
      "\n",
      "A value is trying to be set on a copy of a slice from a DataFrame.\n",
      "Try using .loc[row_indexer,col_indexer] = value instead\n",
      "\n",
      "See the caveats in the documentation: https://pandas.pydata.org/pandas-docs/stable/user_guide/indexing.html#returning-a-view-versus-a-copy\n",
      "\n"
     ]
    }
   ],
   "source": [
    "dict = {\" 'TOEIC_LR'\": \"TOEIC_LR\", 'TOEIC_LR': \"TOEIC_LR\", \" 'IELTS'\": \"IELTS\", ' IELTS': \"IELTS\", \" 'TOEIC_SW'\": \"TOEIC_SW\",\n",
    "       'TOEIC_SW': \"TOEIC_SW\", \" 'VNU-EPT'\": \"VNU-EPT\", ' VNU-EPT': \"VNU-EPT\", ' NHAT': \"NHAT\", \" 'NHAT'\": \"NHAT\", \" 'TOIEC'\": \"TOEIC\",\n",
    "       ' TOIEC': \"TOEIC\", \" 'Cambrigde'\":\"Cambrigde\", ' Cambrigde': \"Cambrigde\", ' DGNL': \"DGNL\", \" 'DGNL'\": \"DGNL\",\n",
    "       ' TOEFL iBT': \"TOEFL iBT\", \" 'TOEFL iBT'\" : \"TOEFL iBT\", ' PHAP': \"PHAP\", \" 'PHAP'\": \"PHAP\"}\n",
    "df[\" loaixn\"] = df[\" loaixn\"].map(dict)"
   ]
  },
  {
   "cell_type": "code",
   "execution_count": 135,
   "metadata": {},
   "outputs": [],
   "source": [
    "df = df.drop([\" writing\", \" lydo\", \" tongdiem\", \" trangthai\", \" ngayxl\",\"Unnamed: 15\"], axis = 1)"
   ]
  },
  {
   "cell_type": "code",
   "execution_count": 136,
   "metadata": {},
   "outputs": [
    {
     "data": {
      "text/plain": [
       "array(['TOEIC', 'TOEIC_LR', 'VNU-EPT', 'IELTS', 'NHAT', 'Cambrigde',\n",
       "       'TOEIC_SW', nan, 'TOEFL iBT', 'PHAP', 'DGNL'], dtype=object)"
      ]
     },
     "execution_count": 136,
     "metadata": {},
     "output_type": "execute_result"
    }
   ],
   "source": [
    "df[\" loaixn\"].unique()"
   ]
  },
  {
   "attachments": {},
   "cell_type": "markdown",
   "metadata": {},
   "source": [
    "# TOEIC_LR"
   ]
  },
  {
   "cell_type": "code",
   "execution_count": 137,
   "metadata": {},
   "outputs": [
    {
     "data": {
      "text/html": [
       "<div>\n",
       "<style scoped>\n",
       "    .dataframe tbody tr th:only-of-type {\n",
       "        vertical-align: middle;\n",
       "    }\n",
       "\n",
       "    .dataframe tbody tr th {\n",
       "        vertical-align: top;\n",
       "    }\n",
       "\n",
       "    .dataframe thead th {\n",
       "        text-align: right;\n",
       "    }\n",
       "</style>\n",
       "<table border=\"1\" class=\"dataframe\">\n",
       "  <thead>\n",
       "    <tr style=\"text-align: right;\">\n",
       "      <th></th>\n",
       "      <th>id</th>\n",
       "      <th>masv</th>\n",
       "      <th>ngaythi</th>\n",
       "      <th>url</th>\n",
       "      <th>loaixn</th>\n",
       "      <th>url.1</th>\n",
       "      <th>loaixn.1</th>\n",
       "      <th>listening</th>\n",
       "      <th>speaking</th>\n",
       "      <th>reading</th>\n",
       "    </tr>\n",
       "  </thead>\n",
       "  <tbody>\n",
       "    <tr>\n",
       "      <th>22</th>\n",
       "      <td>44</td>\n",
       "      <td>9EF161A4XPvAibaEXe+gsTDvgY5pDiTxGuafuV/2</td>\n",
       "      <td>NaN</td>\n",
       "      <td>bangcap/13520888/13520888_bangcap_TOEIC_LR_20...</td>\n",
       "      <td>TOEIC_LR</td>\n",
       "      <td>185.0</td>\n",
       "      <td>NaN</td>\n",
       "      <td>265.0</td>\n",
       "      <td>NaN</td>\n",
       "      <td>NaN</td>\n",
       "    </tr>\n",
       "    <tr>\n",
       "      <th>23</th>\n",
       "      <td>47</td>\n",
       "      <td>E9BBDEFAXPvAibaEXe/Dy4K4yiQpOCeGcJ6wYi83</td>\n",
       "      <td>NaN</td>\n",
       "      <td>bangcap/13520833/13520833_bangcap_TOEIC_LR_20...</td>\n",
       "      <td>TOEIC_LR</td>\n",
       "      <td>410.0</td>\n",
       "      <td>NaN</td>\n",
       "      <td>360.0</td>\n",
       "      <td>NaN</td>\n",
       "      <td>NaN</td>\n",
       "    </tr>\n",
       "    <tr>\n",
       "      <th>24</th>\n",
       "      <td>48</td>\n",
       "      <td>99325C17XPvAibaEXe8wlx2/dthDAuX2r9IBWF/q</td>\n",
       "      <td>NaN</td>\n",
       "      <td>bangcap/13520583/13520583_bangcap_TOEIC_LR_20...</td>\n",
       "      <td>TOEIC_LR</td>\n",
       "      <td>290.0</td>\n",
       "      <td>NaN</td>\n",
       "      <td>255.0</td>\n",
       "      <td>NaN</td>\n",
       "      <td>NaN</td>\n",
       "    </tr>\n",
       "    <tr>\n",
       "      <th>25</th>\n",
       "      <td>49</td>\n",
       "      <td>DEA3783EXPvAibaEXe+yU1j0ocViqZOr0fWYBAOj</td>\n",
       "      <td>NaN</td>\n",
       "      <td>bangcap/13520202/13520202_bangcap_TOEIC_LR_20...</td>\n",
       "      <td>TOEIC_LR</td>\n",
       "      <td>450.0</td>\n",
       "      <td>NaN</td>\n",
       "      <td>385.0</td>\n",
       "      <td>NaN</td>\n",
       "      <td>NaN</td>\n",
       "    </tr>\n",
       "    <tr>\n",
       "      <th>26</th>\n",
       "      <td>50</td>\n",
       "      <td>AB4D8F99XPvAibaEXe/YKN5ysyYL7EjErJAJK5l+</td>\n",
       "      <td>NaN</td>\n",
       "      <td>bangcap/13520419/13520419_bangcap_TOEIC_LR_20...</td>\n",
       "      <td>TOEIC_LR</td>\n",
       "      <td>480.0</td>\n",
       "      <td>NaN</td>\n",
       "      <td>435.0</td>\n",
       "      <td>NaN</td>\n",
       "      <td>NaN</td>\n",
       "    </tr>\n",
       "    <tr>\n",
       "      <th>...</th>\n",
       "      <td>...</td>\n",
       "      <td>...</td>\n",
       "      <td>...</td>\n",
       "      <td>...</td>\n",
       "      <td>...</td>\n",
       "      <td>...</td>\n",
       "      <td>...</td>\n",
       "      <td>...</td>\n",
       "      <td>...</td>\n",
       "      <td>...</td>\n",
       "    </tr>\n",
       "    <tr>\n",
       "      <th>3443</th>\n",
       "      <td>4514</td>\n",
       "      <td>BC627900XPvAibaEXe+NaxazXn6OZIwfIIoAIp4v</td>\n",
       "      <td>'2021-04-29'</td>\n",
       "      <td>'bangcap/17520723/17520723_bangcap_TOEIC_LR_2...</td>\n",
       "      <td>TOEIC_LR</td>\n",
       "      <td>305.0</td>\n",
       "      <td>NaN</td>\n",
       "      <td>290.0</td>\n",
       "      <td>NaN</td>\n",
       "      <td>'595'</td>\n",
       "    </tr>\n",
       "    <tr>\n",
       "      <th>3444</th>\n",
       "      <td>4520</td>\n",
       "      <td>37FF4853XPvAibaEXe9G+cXjMGRRwjSk/rkiEP7t</td>\n",
       "      <td>'2021-05-07'</td>\n",
       "      <td>'bangcap/16521053/16521053_bangcap_TOEIC_LR_2...</td>\n",
       "      <td>TOEIC_LR</td>\n",
       "      <td>275.0</td>\n",
       "      <td>NaN</td>\n",
       "      <td>205.0</td>\n",
       "      <td>NaN</td>\n",
       "      <td>'480'</td>\n",
       "    </tr>\n",
       "    <tr>\n",
       "      <th>3445</th>\n",
       "      <td>4525</td>\n",
       "      <td>67F674E2XPvAibaEXe8VMicbCMuSMELpukC+Sfve</td>\n",
       "      <td>'2021-05-07'</td>\n",
       "      <td>'bangcap/16520401/16520401_bangcap_TOEIC_LR_2...</td>\n",
       "      <td>TOEIC_LR</td>\n",
       "      <td>280.0</td>\n",
       "      <td>NaN</td>\n",
       "      <td>255.0</td>\n",
       "      <td>NaN</td>\n",
       "      <td>'535'</td>\n",
       "    </tr>\n",
       "    <tr>\n",
       "      <th>3447</th>\n",
       "      <td>4530</td>\n",
       "      <td>706A0AFDXPvAibaEXe8VMicbCMuSMHf/LA1yuozt</td>\n",
       "      <td>'2021-05-05'</td>\n",
       "      <td>'bangcap/16520954/16520954_bangcap_TOEIC_LR_2...</td>\n",
       "      <td>TOEIC_LR</td>\n",
       "      <td>275.0</td>\n",
       "      <td>NaN</td>\n",
       "      <td>175.0</td>\n",
       "      <td>NaN</td>\n",
       "      <td>'450'</td>\n",
       "    </tr>\n",
       "    <tr>\n",
       "      <th>3448</th>\n",
       "      <td>4536</td>\n",
       "      <td>C70027CBXPvAibaEXe8VMicbCMuSMEJXFLhKjcsH</td>\n",
       "      <td>'2021-04-24'</td>\n",
       "      <td>'bangcap/16520842/16520842_bangcap_TOEIC_LR_2...</td>\n",
       "      <td>TOEIC_LR</td>\n",
       "      <td>430.0</td>\n",
       "      <td>NaN</td>\n",
       "      <td>385.0</td>\n",
       "      <td>NaN</td>\n",
       "      <td>'815'</td>\n",
       "    </tr>\n",
       "  </tbody>\n",
       "</table>\n",
       "<p>2276 rows × 10 columns</p>\n",
       "</div>"
      ],
      "text/plain": [
       "        id                                      masv        ngaythi  \\\n",
       "22      44  9EF161A4XPvAibaEXe+gsTDvgY5pDiTxGuafuV/2            NaN   \n",
       "23      47  E9BBDEFAXPvAibaEXe/Dy4K4yiQpOCeGcJ6wYi83            NaN   \n",
       "24      48  99325C17XPvAibaEXe8wlx2/dthDAuX2r9IBWF/q            NaN   \n",
       "25      49  DEA3783EXPvAibaEXe+yU1j0ocViqZOr0fWYBAOj            NaN   \n",
       "26      50  AB4D8F99XPvAibaEXe/YKN5ysyYL7EjErJAJK5l+            NaN   \n",
       "...    ...                                       ...            ...   \n",
       "3443  4514  BC627900XPvAibaEXe+NaxazXn6OZIwfIIoAIp4v   '2021-04-29'   \n",
       "3444  4520  37FF4853XPvAibaEXe9G+cXjMGRRwjSk/rkiEP7t   '2021-05-07'   \n",
       "3445  4525  67F674E2XPvAibaEXe8VMicbCMuSMELpukC+Sfve   '2021-05-07'   \n",
       "3447  4530  706A0AFDXPvAibaEXe8VMicbCMuSMHf/LA1yuozt   '2021-05-05'   \n",
       "3448  4536  C70027CBXPvAibaEXe8VMicbCMuSMEJXFLhKjcsH   '2021-04-24'   \n",
       "\n",
       "                                                    url    loaixn   url.1  \\\n",
       "22     bangcap/13520888/13520888_bangcap_TOEIC_LR_20...  TOEIC_LR   185.0   \n",
       "23     bangcap/13520833/13520833_bangcap_TOEIC_LR_20...  TOEIC_LR   410.0   \n",
       "24     bangcap/13520583/13520583_bangcap_TOEIC_LR_20...  TOEIC_LR   290.0   \n",
       "25     bangcap/13520202/13520202_bangcap_TOEIC_LR_20...  TOEIC_LR   450.0   \n",
       "26     bangcap/13520419/13520419_bangcap_TOEIC_LR_20...  TOEIC_LR   480.0   \n",
       "...                                                 ...       ...     ...   \n",
       "3443   'bangcap/17520723/17520723_bangcap_TOEIC_LR_2...  TOEIC_LR   305.0   \n",
       "3444   'bangcap/16521053/16521053_bangcap_TOEIC_LR_2...  TOEIC_LR   275.0   \n",
       "3445   'bangcap/16520401/16520401_bangcap_TOEIC_LR_2...  TOEIC_LR   280.0   \n",
       "3447   'bangcap/16520954/16520954_bangcap_TOEIC_LR_2...  TOEIC_LR   275.0   \n",
       "3448   'bangcap/16520842/16520842_bangcap_TOEIC_LR_2...  TOEIC_LR   430.0   \n",
       "\n",
       "       loaixn.1   listening   speaking  reading  \n",
       "22          NaN       265.0        NaN      NaN  \n",
       "23          NaN       360.0        NaN      NaN  \n",
       "24          NaN       255.0        NaN      NaN  \n",
       "25          NaN       385.0        NaN      NaN  \n",
       "26          NaN       435.0        NaN      NaN  \n",
       "...         ...         ...        ...      ...  \n",
       "3443        NaN       290.0        NaN    '595'  \n",
       "3444        NaN       205.0        NaN    '480'  \n",
       "3445        NaN       255.0        NaN    '535'  \n",
       "3447        NaN       175.0        NaN    '450'  \n",
       "3448        NaN       385.0        NaN    '815'  \n",
       "\n",
       "[2276 rows x 10 columns]"
      ]
     },
     "execution_count": 137,
     "metadata": {},
     "output_type": "execute_result"
    }
   ],
   "source": [
    "df_toeic_lr = df.loc[(df[\" loaixn\"] == \"TOEIC_LR\")]\n",
    "df_toeic_lr"
   ]
  },
  {
   "cell_type": "code",
   "execution_count": 138,
   "metadata": {},
   "outputs": [
    {
     "data": {
      "text/html": [
       "<div>\n",
       "<style scoped>\n",
       "    .dataframe tbody tr th:only-of-type {\n",
       "        vertical-align: middle;\n",
       "    }\n",
       "\n",
       "    .dataframe tbody tr th {\n",
       "        vertical-align: top;\n",
       "    }\n",
       "\n",
       "    .dataframe thead th {\n",
       "        text-align: right;\n",
       "    }\n",
       "</style>\n",
       "<table border=\"1\" class=\"dataframe\">\n",
       "  <thead>\n",
       "    <tr style=\"text-align: right;\">\n",
       "      <th></th>\n",
       "      <th>masv</th>\n",
       "      <th>ngaythi</th>\n",
       "      <th>loaixn</th>\n",
       "      <th>listening</th>\n",
       "      <th>speaking</th>\n",
       "      <th>reading</th>\n",
       "      <th>writing</th>\n",
       "      <th>total</th>\n",
       "    </tr>\n",
       "  </thead>\n",
       "  <tbody>\n",
       "    <tr>\n",
       "      <th>22</th>\n",
       "      <td>9EF161A4XPvAibaEXe+gsTDvgY5pDiTxGuafuV/2</td>\n",
       "      <td>NaN</td>\n",
       "      <td>TOEIC_LR</td>\n",
       "      <td>185.0</td>\n",
       "      <td>NaN</td>\n",
       "      <td>265.0</td>\n",
       "      <td>NaN</td>\n",
       "      <td>450</td>\n",
       "    </tr>\n",
       "    <tr>\n",
       "      <th>23</th>\n",
       "      <td>E9BBDEFAXPvAibaEXe/Dy4K4yiQpOCeGcJ6wYi83</td>\n",
       "      <td>NaN</td>\n",
       "      <td>TOEIC_LR</td>\n",
       "      <td>410.0</td>\n",
       "      <td>NaN</td>\n",
       "      <td>360.0</td>\n",
       "      <td>NaN</td>\n",
       "      <td>770</td>\n",
       "    </tr>\n",
       "    <tr>\n",
       "      <th>24</th>\n",
       "      <td>99325C17XPvAibaEXe8wlx2/dthDAuX2r9IBWF/q</td>\n",
       "      <td>NaN</td>\n",
       "      <td>TOEIC_LR</td>\n",
       "      <td>290.0</td>\n",
       "      <td>NaN</td>\n",
       "      <td>255.0</td>\n",
       "      <td>NaN</td>\n",
       "      <td>545</td>\n",
       "    </tr>\n",
       "    <tr>\n",
       "      <th>25</th>\n",
       "      <td>DEA3783EXPvAibaEXe+yU1j0ocViqZOr0fWYBAOj</td>\n",
       "      <td>NaN</td>\n",
       "      <td>TOEIC_LR</td>\n",
       "      <td>450.0</td>\n",
       "      <td>NaN</td>\n",
       "      <td>385.0</td>\n",
       "      <td>NaN</td>\n",
       "      <td>835</td>\n",
       "    </tr>\n",
       "    <tr>\n",
       "      <th>26</th>\n",
       "      <td>AB4D8F99XPvAibaEXe/YKN5ysyYL7EjErJAJK5l+</td>\n",
       "      <td>NaN</td>\n",
       "      <td>TOEIC_LR</td>\n",
       "      <td>480.0</td>\n",
       "      <td>NaN</td>\n",
       "      <td>435.0</td>\n",
       "      <td>NaN</td>\n",
       "      <td>915</td>\n",
       "    </tr>\n",
       "    <tr>\n",
       "      <th>...</th>\n",
       "      <td>...</td>\n",
       "      <td>...</td>\n",
       "      <td>...</td>\n",
       "      <td>...</td>\n",
       "      <td>...</td>\n",
       "      <td>...</td>\n",
       "      <td>...</td>\n",
       "      <td>...</td>\n",
       "    </tr>\n",
       "    <tr>\n",
       "      <th>3443</th>\n",
       "      <td>BC627900XPvAibaEXe+NaxazXn6OZIwfIIoAIp4v</td>\n",
       "      <td>'2021-04-29'</td>\n",
       "      <td>TOEIC_LR</td>\n",
       "      <td>305.0</td>\n",
       "      <td>NaN</td>\n",
       "      <td>290.0</td>\n",
       "      <td>NaN</td>\n",
       "      <td>595</td>\n",
       "    </tr>\n",
       "    <tr>\n",
       "      <th>3444</th>\n",
       "      <td>37FF4853XPvAibaEXe9G+cXjMGRRwjSk/rkiEP7t</td>\n",
       "      <td>'2021-05-07'</td>\n",
       "      <td>TOEIC_LR</td>\n",
       "      <td>275.0</td>\n",
       "      <td>NaN</td>\n",
       "      <td>205.0</td>\n",
       "      <td>NaN</td>\n",
       "      <td>480</td>\n",
       "    </tr>\n",
       "    <tr>\n",
       "      <th>3445</th>\n",
       "      <td>67F674E2XPvAibaEXe8VMicbCMuSMELpukC+Sfve</td>\n",
       "      <td>'2021-05-07'</td>\n",
       "      <td>TOEIC_LR</td>\n",
       "      <td>280.0</td>\n",
       "      <td>NaN</td>\n",
       "      <td>255.0</td>\n",
       "      <td>NaN</td>\n",
       "      <td>535</td>\n",
       "    </tr>\n",
       "    <tr>\n",
       "      <th>3447</th>\n",
       "      <td>706A0AFDXPvAibaEXe8VMicbCMuSMHf/LA1yuozt</td>\n",
       "      <td>'2021-05-05'</td>\n",
       "      <td>TOEIC_LR</td>\n",
       "      <td>275.0</td>\n",
       "      <td>NaN</td>\n",
       "      <td>175.0</td>\n",
       "      <td>NaN</td>\n",
       "      <td>450</td>\n",
       "    </tr>\n",
       "    <tr>\n",
       "      <th>3448</th>\n",
       "      <td>C70027CBXPvAibaEXe8VMicbCMuSMEJXFLhKjcsH</td>\n",
       "      <td>'2021-04-24'</td>\n",
       "      <td>TOEIC_LR</td>\n",
       "      <td>430.0</td>\n",
       "      <td>NaN</td>\n",
       "      <td>385.0</td>\n",
       "      <td>NaN</td>\n",
       "      <td>815</td>\n",
       "    </tr>\n",
       "  </tbody>\n",
       "</table>\n",
       "<p>2276 rows × 8 columns</p>\n",
       "</div>"
      ],
      "text/plain": [
       "                                          masv        ngaythi    loaixn  \\\n",
       "22    9EF161A4XPvAibaEXe+gsTDvgY5pDiTxGuafuV/2            NaN  TOEIC_LR   \n",
       "23    E9BBDEFAXPvAibaEXe/Dy4K4yiQpOCeGcJ6wYi83            NaN  TOEIC_LR   \n",
       "24    99325C17XPvAibaEXe8wlx2/dthDAuX2r9IBWF/q            NaN  TOEIC_LR   \n",
       "25    DEA3783EXPvAibaEXe+yU1j0ocViqZOr0fWYBAOj            NaN  TOEIC_LR   \n",
       "26    AB4D8F99XPvAibaEXe/YKN5ysyYL7EjErJAJK5l+            NaN  TOEIC_LR   \n",
       "...                                        ...            ...       ...   \n",
       "3443  BC627900XPvAibaEXe+NaxazXn6OZIwfIIoAIp4v   '2021-04-29'  TOEIC_LR   \n",
       "3444  37FF4853XPvAibaEXe9G+cXjMGRRwjSk/rkiEP7t   '2021-05-07'  TOEIC_LR   \n",
       "3445  67F674E2XPvAibaEXe8VMicbCMuSMELpukC+Sfve   '2021-05-07'  TOEIC_LR   \n",
       "3447  706A0AFDXPvAibaEXe8VMicbCMuSMHf/LA1yuozt   '2021-05-05'  TOEIC_LR   \n",
       "3448  C70027CBXPvAibaEXe8VMicbCMuSMEJXFLhKjcsH   '2021-04-24'  TOEIC_LR   \n",
       "\n",
       "      listening  speaking  reading  writing  total  \n",
       "22        185.0       NaN    265.0      NaN    450  \n",
       "23        410.0       NaN    360.0      NaN    770  \n",
       "24        290.0       NaN    255.0      NaN    545  \n",
       "25        450.0       NaN    385.0      NaN    835  \n",
       "26        480.0       NaN    435.0      NaN    915  \n",
       "...         ...       ...      ...      ...    ...  \n",
       "3443      305.0       NaN    290.0      NaN    595  \n",
       "3444      275.0       NaN    205.0      NaN    480  \n",
       "3445      280.0       NaN    255.0      NaN    535  \n",
       "3447      275.0       NaN    175.0      NaN    450  \n",
       "3448      430.0       NaN    385.0      NaN    815  \n",
       "\n",
       "[2276 rows x 8 columns]"
      ]
     },
     "execution_count": 138,
     "metadata": {},
     "output_type": "execute_result"
    }
   ],
   "source": [
    "df_toeic_lr = df_toeic_lr.drop([\"id\",\" url\"], axis = 1).rename(columns= {\" url.1\": \"listening\", \" loaixn.1\": \"speaking\",\n",
    "                             \" listening\": \"reading\",\" speaking\": \"writing\", \" reading\": \"total\"})\n",
    "df_toeic_lr[\"total\"] = df_toeic_lr[\"listening\"].astype(\"int\") + df_toeic_lr[\"reading\"].astype(\"int\")\n",
    "df_toeic_lr"
   ]
  },
  {
   "cell_type": "code",
   "execution_count": 139,
   "metadata": {},
   "outputs": [],
   "source": [
    "# fig = px.bar(df_toeic_lr, x=df_toeic_lr[\"listening\"].value_counts().index, \n",
    "#              y=df_toeic_lr[\"listening\"].value_counts().values,\n",
    "#              color=df_toeic_lr[\"listening\"].value_counts().values,\n",
    "#              labels = {\"x\":\"listening score\",\n",
    "#                        \"y\": \"Số lượng\"},\n",
    "#              title=\"Dữ liệu điểm listening của chứng chỉ TOEIC_LR\")\n",
    "\n",
    "# fig"
   ]
  },
  {
   "cell_type": "code",
   "execution_count": 140,
   "metadata": {},
   "outputs": [],
   "source": [
    "# fig = px.bar(df_toeic_lr, x=df_toeic_lr[\"reading\"].value_counts().index, \n",
    "#              y=df_toeic_lr[\"reading\"].value_counts().values,\n",
    "#              color=df_toeic_lr[\"reading\"].value_counts().values,\n",
    "#              labels = {\"x\":\"reading\",\n",
    "#                        \"y\": \"Số lượng\"},\n",
    "#              title=\"Dữ liệu điểm reading của chứng chỉ TOEIC_LR\")\n",
    "# fig"
   ]
  },
  {
   "cell_type": "code",
   "execution_count": 141,
   "metadata": {},
   "outputs": [
    {
     "data": {
      "application/vnd.plotly.v1+json": {
       "config": {
        "plotlyServerURL": "https://plot.ly"
       },
       "data": [
        {
         "alignmentgroup": "True",
         "hovertemplate": "total=%{x}<br>Số lượng=%{y}<br>color=%{marker.color}<extra></extra>",
         "legendgroup": "",
         "marker": {
          "color": [
           50,
           46,
           46,
           42,
           42,
           42,
           41,
           40,
           38,
           38,
           37,
           36,
           36,
           36,
           35,
           34,
           34,
           34,
           34,
           34,
           32,
           32,
           30,
           30,
           28,
           28,
           28,
           28,
           28,
           28,
           28,
           26,
           26,
           26,
           26,
           26,
           26,
           26,
           24,
           22,
           22,
           22,
           22,
           20,
           20,
           20,
           20,
           18,
           18,
           18,
           18,
           16,
           16,
           16,
           16,
           16,
           16,
           16,
           15,
           15,
           14,
           14,
           14,
           14,
           14,
           14,
           14,
           14,
           14,
           14,
           12,
           12,
           12,
           12,
           12,
           12,
           12,
           12,
           12,
           12,
           12,
           10,
           10,
           10,
           10,
           10,
           10,
           10,
           10,
           10,
           8,
           8,
           8,
           8,
           8,
           8,
           8,
           8,
           8,
           6,
           6,
           6,
           6,
           6,
           6,
           6,
           6,
           6,
           6,
           6,
           6,
           6,
           6,
           4,
           4,
           4,
           4,
           4,
           4,
           4,
           4,
           4,
           4,
           4,
           4,
           4,
           2,
           2,
           2,
           2,
           2,
           2,
           2,
           2,
           2,
           2,
           2,
           1
          ],
          "coloraxis": "coloraxis",
          "pattern": {
           "shape": ""
          }
         },
         "name": "",
         "offsetgroup": "",
         "orientation": "v",
         "showlegend": false,
         "textposition": "auto",
         "type": "bar",
         "x": [
          500,
          455,
          465,
          450,
          525,
          460,
          490,
          615,
          555,
          515,
          560,
          590,
          545,
          495,
          540,
          505,
          550,
          520,
          480,
          635,
          595,
          580,
          485,
          685,
          640,
          575,
          530,
          660,
          475,
          535,
          620,
          470,
          605,
          570,
          700,
          625,
          670,
          725,
          585,
          565,
          690,
          610,
          740,
          645,
          730,
          695,
          665,
          705,
          650,
          710,
          440,
          805,
          770,
          675,
          815,
          800,
          600,
          630,
          655,
          760,
          870,
          825,
          795,
          745,
          840,
          420,
          510,
          365,
          775,
          780,
          790,
          735,
          820,
          895,
          385,
          680,
          845,
          715,
          835,
          920,
          430,
          860,
          865,
          720,
          765,
          875,
          375,
          910,
          390,
          810,
          755,
          405,
          415,
          335,
          435,
          885,
          880,
          750,
          355,
          855,
          890,
          935,
          380,
          930,
          350,
          400,
          395,
          785,
          915,
          360,
          965,
          445,
          940,
          300,
          410,
          900,
          425,
          850,
          925,
          960,
          315,
          905,
          830,
          325,
          330,
          345,
          955,
          950,
          970,
          945,
          340,
          370,
          305,
          320,
          990,
          310,
          975,
          980
         ],
         "xaxis": "x",
         "y": [
          50,
          46,
          46,
          42,
          42,
          42,
          41,
          40,
          38,
          38,
          37,
          36,
          36,
          36,
          35,
          34,
          34,
          34,
          34,
          34,
          32,
          32,
          30,
          30,
          28,
          28,
          28,
          28,
          28,
          28,
          28,
          26,
          26,
          26,
          26,
          26,
          26,
          26,
          24,
          22,
          22,
          22,
          22,
          20,
          20,
          20,
          20,
          18,
          18,
          18,
          18,
          16,
          16,
          16,
          16,
          16,
          16,
          16,
          15,
          15,
          14,
          14,
          14,
          14,
          14,
          14,
          14,
          14,
          14,
          14,
          12,
          12,
          12,
          12,
          12,
          12,
          12,
          12,
          12,
          12,
          12,
          10,
          10,
          10,
          10,
          10,
          10,
          10,
          10,
          10,
          8,
          8,
          8,
          8,
          8,
          8,
          8,
          8,
          8,
          6,
          6,
          6,
          6,
          6,
          6,
          6,
          6,
          6,
          6,
          6,
          6,
          6,
          6,
          4,
          4,
          4,
          4,
          4,
          4,
          4,
          4,
          4,
          4,
          4,
          4,
          4,
          2,
          2,
          2,
          2,
          2,
          2,
          2,
          2,
          2,
          2,
          2,
          1
         ],
         "yaxis": "y"
        }
       ],
       "layout": {
        "barmode": "relative",
        "coloraxis": {
         "colorbar": {
          "title": {
           "text": "color"
          }
         },
         "colorscale": [
          [
           0,
           "#0d0887"
          ],
          [
           0.1111111111111111,
           "#46039f"
          ],
          [
           0.2222222222222222,
           "#7201a8"
          ],
          [
           0.3333333333333333,
           "#9c179e"
          ],
          [
           0.4444444444444444,
           "#bd3786"
          ],
          [
           0.5555555555555556,
           "#d8576b"
          ],
          [
           0.6666666666666666,
           "#ed7953"
          ],
          [
           0.7777777777777778,
           "#fb9f3a"
          ],
          [
           0.8888888888888888,
           "#fdca26"
          ],
          [
           1,
           "#f0f921"
          ]
         ]
        },
        "legend": {
         "tracegroupgap": 0
        },
        "template": {
         "data": {
          "bar": [
           {
            "error_x": {
             "color": "#2a3f5f"
            },
            "error_y": {
             "color": "#2a3f5f"
            },
            "marker": {
             "line": {
              "color": "#E5ECF6",
              "width": 0.5
             },
             "pattern": {
              "fillmode": "overlay",
              "size": 10,
              "solidity": 0.2
             }
            },
            "type": "bar"
           }
          ],
          "barpolar": [
           {
            "marker": {
             "line": {
              "color": "#E5ECF6",
              "width": 0.5
             },
             "pattern": {
              "fillmode": "overlay",
              "size": 10,
              "solidity": 0.2
             }
            },
            "type": "barpolar"
           }
          ],
          "carpet": [
           {
            "aaxis": {
             "endlinecolor": "#2a3f5f",
             "gridcolor": "white",
             "linecolor": "white",
             "minorgridcolor": "white",
             "startlinecolor": "#2a3f5f"
            },
            "baxis": {
             "endlinecolor": "#2a3f5f",
             "gridcolor": "white",
             "linecolor": "white",
             "minorgridcolor": "white",
             "startlinecolor": "#2a3f5f"
            },
            "type": "carpet"
           }
          ],
          "choropleth": [
           {
            "colorbar": {
             "outlinewidth": 0,
             "ticks": ""
            },
            "type": "choropleth"
           }
          ],
          "contour": [
           {
            "colorbar": {
             "outlinewidth": 0,
             "ticks": ""
            },
            "colorscale": [
             [
              0,
              "#0d0887"
             ],
             [
              0.1111111111111111,
              "#46039f"
             ],
             [
              0.2222222222222222,
              "#7201a8"
             ],
             [
              0.3333333333333333,
              "#9c179e"
             ],
             [
              0.4444444444444444,
              "#bd3786"
             ],
             [
              0.5555555555555556,
              "#d8576b"
             ],
             [
              0.6666666666666666,
              "#ed7953"
             ],
             [
              0.7777777777777778,
              "#fb9f3a"
             ],
             [
              0.8888888888888888,
              "#fdca26"
             ],
             [
              1,
              "#f0f921"
             ]
            ],
            "type": "contour"
           }
          ],
          "contourcarpet": [
           {
            "colorbar": {
             "outlinewidth": 0,
             "ticks": ""
            },
            "type": "contourcarpet"
           }
          ],
          "heatmap": [
           {
            "colorbar": {
             "outlinewidth": 0,
             "ticks": ""
            },
            "colorscale": [
             [
              0,
              "#0d0887"
             ],
             [
              0.1111111111111111,
              "#46039f"
             ],
             [
              0.2222222222222222,
              "#7201a8"
             ],
             [
              0.3333333333333333,
              "#9c179e"
             ],
             [
              0.4444444444444444,
              "#bd3786"
             ],
             [
              0.5555555555555556,
              "#d8576b"
             ],
             [
              0.6666666666666666,
              "#ed7953"
             ],
             [
              0.7777777777777778,
              "#fb9f3a"
             ],
             [
              0.8888888888888888,
              "#fdca26"
             ],
             [
              1,
              "#f0f921"
             ]
            ],
            "type": "heatmap"
           }
          ],
          "heatmapgl": [
           {
            "colorbar": {
             "outlinewidth": 0,
             "ticks": ""
            },
            "colorscale": [
             [
              0,
              "#0d0887"
             ],
             [
              0.1111111111111111,
              "#46039f"
             ],
             [
              0.2222222222222222,
              "#7201a8"
             ],
             [
              0.3333333333333333,
              "#9c179e"
             ],
             [
              0.4444444444444444,
              "#bd3786"
             ],
             [
              0.5555555555555556,
              "#d8576b"
             ],
             [
              0.6666666666666666,
              "#ed7953"
             ],
             [
              0.7777777777777778,
              "#fb9f3a"
             ],
             [
              0.8888888888888888,
              "#fdca26"
             ],
             [
              1,
              "#f0f921"
             ]
            ],
            "type": "heatmapgl"
           }
          ],
          "histogram": [
           {
            "marker": {
             "pattern": {
              "fillmode": "overlay",
              "size": 10,
              "solidity": 0.2
             }
            },
            "type": "histogram"
           }
          ],
          "histogram2d": [
           {
            "colorbar": {
             "outlinewidth": 0,
             "ticks": ""
            },
            "colorscale": [
             [
              0,
              "#0d0887"
             ],
             [
              0.1111111111111111,
              "#46039f"
             ],
             [
              0.2222222222222222,
              "#7201a8"
             ],
             [
              0.3333333333333333,
              "#9c179e"
             ],
             [
              0.4444444444444444,
              "#bd3786"
             ],
             [
              0.5555555555555556,
              "#d8576b"
             ],
             [
              0.6666666666666666,
              "#ed7953"
             ],
             [
              0.7777777777777778,
              "#fb9f3a"
             ],
             [
              0.8888888888888888,
              "#fdca26"
             ],
             [
              1,
              "#f0f921"
             ]
            ],
            "type": "histogram2d"
           }
          ],
          "histogram2dcontour": [
           {
            "colorbar": {
             "outlinewidth": 0,
             "ticks": ""
            },
            "colorscale": [
             [
              0,
              "#0d0887"
             ],
             [
              0.1111111111111111,
              "#46039f"
             ],
             [
              0.2222222222222222,
              "#7201a8"
             ],
             [
              0.3333333333333333,
              "#9c179e"
             ],
             [
              0.4444444444444444,
              "#bd3786"
             ],
             [
              0.5555555555555556,
              "#d8576b"
             ],
             [
              0.6666666666666666,
              "#ed7953"
             ],
             [
              0.7777777777777778,
              "#fb9f3a"
             ],
             [
              0.8888888888888888,
              "#fdca26"
             ],
             [
              1,
              "#f0f921"
             ]
            ],
            "type": "histogram2dcontour"
           }
          ],
          "mesh3d": [
           {
            "colorbar": {
             "outlinewidth": 0,
             "ticks": ""
            },
            "type": "mesh3d"
           }
          ],
          "parcoords": [
           {
            "line": {
             "colorbar": {
              "outlinewidth": 0,
              "ticks": ""
             }
            },
            "type": "parcoords"
           }
          ],
          "pie": [
           {
            "automargin": true,
            "type": "pie"
           }
          ],
          "scatter": [
           {
            "fillpattern": {
             "fillmode": "overlay",
             "size": 10,
             "solidity": 0.2
            },
            "type": "scatter"
           }
          ],
          "scatter3d": [
           {
            "line": {
             "colorbar": {
              "outlinewidth": 0,
              "ticks": ""
             }
            },
            "marker": {
             "colorbar": {
              "outlinewidth": 0,
              "ticks": ""
             }
            },
            "type": "scatter3d"
           }
          ],
          "scattercarpet": [
           {
            "marker": {
             "colorbar": {
              "outlinewidth": 0,
              "ticks": ""
             }
            },
            "type": "scattercarpet"
           }
          ],
          "scattergeo": [
           {
            "marker": {
             "colorbar": {
              "outlinewidth": 0,
              "ticks": ""
             }
            },
            "type": "scattergeo"
           }
          ],
          "scattergl": [
           {
            "marker": {
             "colorbar": {
              "outlinewidth": 0,
              "ticks": ""
             }
            },
            "type": "scattergl"
           }
          ],
          "scattermapbox": [
           {
            "marker": {
             "colorbar": {
              "outlinewidth": 0,
              "ticks": ""
             }
            },
            "type": "scattermapbox"
           }
          ],
          "scatterpolar": [
           {
            "marker": {
             "colorbar": {
              "outlinewidth": 0,
              "ticks": ""
             }
            },
            "type": "scatterpolar"
           }
          ],
          "scatterpolargl": [
           {
            "marker": {
             "colorbar": {
              "outlinewidth": 0,
              "ticks": ""
             }
            },
            "type": "scatterpolargl"
           }
          ],
          "scatterternary": [
           {
            "marker": {
             "colorbar": {
              "outlinewidth": 0,
              "ticks": ""
             }
            },
            "type": "scatterternary"
           }
          ],
          "surface": [
           {
            "colorbar": {
             "outlinewidth": 0,
             "ticks": ""
            },
            "colorscale": [
             [
              0,
              "#0d0887"
             ],
             [
              0.1111111111111111,
              "#46039f"
             ],
             [
              0.2222222222222222,
              "#7201a8"
             ],
             [
              0.3333333333333333,
              "#9c179e"
             ],
             [
              0.4444444444444444,
              "#bd3786"
             ],
             [
              0.5555555555555556,
              "#d8576b"
             ],
             [
              0.6666666666666666,
              "#ed7953"
             ],
             [
              0.7777777777777778,
              "#fb9f3a"
             ],
             [
              0.8888888888888888,
              "#fdca26"
             ],
             [
              1,
              "#f0f921"
             ]
            ],
            "type": "surface"
           }
          ],
          "table": [
           {
            "cells": {
             "fill": {
              "color": "#EBF0F8"
             },
             "line": {
              "color": "white"
             }
            },
            "header": {
             "fill": {
              "color": "#C8D4E3"
             },
             "line": {
              "color": "white"
             }
            },
            "type": "table"
           }
          ]
         },
         "layout": {
          "annotationdefaults": {
           "arrowcolor": "#2a3f5f",
           "arrowhead": 0,
           "arrowwidth": 1
          },
          "autotypenumbers": "strict",
          "coloraxis": {
           "colorbar": {
            "outlinewidth": 0,
            "ticks": ""
           }
          },
          "colorscale": {
           "diverging": [
            [
             0,
             "#8e0152"
            ],
            [
             0.1,
             "#c51b7d"
            ],
            [
             0.2,
             "#de77ae"
            ],
            [
             0.3,
             "#f1b6da"
            ],
            [
             0.4,
             "#fde0ef"
            ],
            [
             0.5,
             "#f7f7f7"
            ],
            [
             0.6,
             "#e6f5d0"
            ],
            [
             0.7,
             "#b8e186"
            ],
            [
             0.8,
             "#7fbc41"
            ],
            [
             0.9,
             "#4d9221"
            ],
            [
             1,
             "#276419"
            ]
           ],
           "sequential": [
            [
             0,
             "#0d0887"
            ],
            [
             0.1111111111111111,
             "#46039f"
            ],
            [
             0.2222222222222222,
             "#7201a8"
            ],
            [
             0.3333333333333333,
             "#9c179e"
            ],
            [
             0.4444444444444444,
             "#bd3786"
            ],
            [
             0.5555555555555556,
             "#d8576b"
            ],
            [
             0.6666666666666666,
             "#ed7953"
            ],
            [
             0.7777777777777778,
             "#fb9f3a"
            ],
            [
             0.8888888888888888,
             "#fdca26"
            ],
            [
             1,
             "#f0f921"
            ]
           ],
           "sequentialminus": [
            [
             0,
             "#0d0887"
            ],
            [
             0.1111111111111111,
             "#46039f"
            ],
            [
             0.2222222222222222,
             "#7201a8"
            ],
            [
             0.3333333333333333,
             "#9c179e"
            ],
            [
             0.4444444444444444,
             "#bd3786"
            ],
            [
             0.5555555555555556,
             "#d8576b"
            ],
            [
             0.6666666666666666,
             "#ed7953"
            ],
            [
             0.7777777777777778,
             "#fb9f3a"
            ],
            [
             0.8888888888888888,
             "#fdca26"
            ],
            [
             1,
             "#f0f921"
            ]
           ]
          },
          "colorway": [
           "#636efa",
           "#EF553B",
           "#00cc96",
           "#ab63fa",
           "#FFA15A",
           "#19d3f3",
           "#FF6692",
           "#B6E880",
           "#FF97FF",
           "#FECB52"
          ],
          "font": {
           "color": "#2a3f5f"
          },
          "geo": {
           "bgcolor": "white",
           "lakecolor": "white",
           "landcolor": "#E5ECF6",
           "showlakes": true,
           "showland": true,
           "subunitcolor": "white"
          },
          "hoverlabel": {
           "align": "left"
          },
          "hovermode": "closest",
          "mapbox": {
           "style": "light"
          },
          "paper_bgcolor": "white",
          "plot_bgcolor": "#E5ECF6",
          "polar": {
           "angularaxis": {
            "gridcolor": "white",
            "linecolor": "white",
            "ticks": ""
           },
           "bgcolor": "#E5ECF6",
           "radialaxis": {
            "gridcolor": "white",
            "linecolor": "white",
            "ticks": ""
           }
          },
          "scene": {
           "xaxis": {
            "backgroundcolor": "#E5ECF6",
            "gridcolor": "white",
            "gridwidth": 2,
            "linecolor": "white",
            "showbackground": true,
            "ticks": "",
            "zerolinecolor": "white"
           },
           "yaxis": {
            "backgroundcolor": "#E5ECF6",
            "gridcolor": "white",
            "gridwidth": 2,
            "linecolor": "white",
            "showbackground": true,
            "ticks": "",
            "zerolinecolor": "white"
           },
           "zaxis": {
            "backgroundcolor": "#E5ECF6",
            "gridcolor": "white",
            "gridwidth": 2,
            "linecolor": "white",
            "showbackground": true,
            "ticks": "",
            "zerolinecolor": "white"
           }
          },
          "shapedefaults": {
           "line": {
            "color": "#2a3f5f"
           }
          },
          "ternary": {
           "aaxis": {
            "gridcolor": "white",
            "linecolor": "white",
            "ticks": ""
           },
           "baxis": {
            "gridcolor": "white",
            "linecolor": "white",
            "ticks": ""
           },
           "bgcolor": "#E5ECF6",
           "caxis": {
            "gridcolor": "white",
            "linecolor": "white",
            "ticks": ""
           }
          },
          "title": {
           "x": 0.05
          },
          "xaxis": {
           "automargin": true,
           "gridcolor": "white",
           "linecolor": "white",
           "ticks": "",
           "title": {
            "standoff": 15
           },
           "zerolinecolor": "white",
           "zerolinewidth": 2
          },
          "yaxis": {
           "automargin": true,
           "gridcolor": "white",
           "linecolor": "white",
           "ticks": "",
           "title": {
            "standoff": 15
           },
           "zerolinecolor": "white",
           "zerolinewidth": 2
          }
         }
        },
        "title": {
         "text": "Dữ liệu tổng điểm của chứng chỉ TOEIC_LR"
        },
        "xaxis": {
         "anchor": "y",
         "domain": [
          0,
          1
         ],
         "title": {
          "text": "total"
         }
        },
        "yaxis": {
         "anchor": "x",
         "domain": [
          0,
          1
         ],
         "title": {
          "text": "Số lượng"
         }
        }
       }
      }
     },
     "metadata": {},
     "output_type": "display_data"
    }
   ],
   "source": [
    "fig = px.bar(df_toeic_lr, x=df_toeic_lr[\"total\"].value_counts().index, \n",
    "             y=df_toeic_lr[\"total\"].value_counts().values,\n",
    "             color=df_toeic_lr[\"total\"].value_counts().values,\n",
    "             labels = {\"x\":\"total\",\n",
    "                       \"y\": \"Số lượng\"},\n",
    "             title=\"Dữ liệu tổng điểm của chứng chỉ TOEIC_LR\")\n",
    "fig"
   ]
  },
  {
   "cell_type": "code",
   "execution_count": 142,
   "metadata": {},
   "outputs": [
    {
     "data": {
      "application/vnd.plotly.v1+json": {
       "config": {
        "plotlyServerURL": "https://plot.ly"
       },
       "data": [
        {
         "name": "Reading",
         "type": "bar",
         "x": [
          220,
          280,
          230,
          255,
          225,
          240,
          295,
          270,
          305,
          275,
          265,
          235,
          250,
          300,
          260,
          285,
          345,
          310,
          215,
          385,
          355,
          320,
          210,
          325,
          290,
          315,
          365,
          360,
          245,
          205,
          340,
          200,
          330,
          390,
          335,
          375,
          380,
          350,
          395,
          425,
          190,
          185,
          405,
          400,
          370,
          195,
          160,
          450,
          435,
          440,
          410,
          180,
          175,
          445,
          165,
          415,
          155,
          170,
          420,
          140,
          150,
          455,
          470,
          145,
          135,
          110,
          475,
          465,
          430,
          120,
          130,
          495,
          460,
          480,
          490
         ],
         "y": [
          78,
          76,
          68,
          67,
          62,
          60,
          58,
          58,
          56,
          54,
          54,
          54,
          53,
          52,
          49,
          48,
          48,
          48,
          46,
          46,
          44,
          44,
          41,
          40,
          38,
          38,
          38,
          38,
          36,
          36,
          34,
          34,
          34,
          33,
          32,
          32,
          30,
          28,
          28,
          26,
          26,
          26,
          24,
          24,
          24,
          24,
          22,
          20,
          18,
          18,
          18,
          16,
          16,
          14,
          12,
          12,
          10,
          10,
          10,
          10,
          10,
          10,
          8,
          8,
          8,
          6,
          6,
          6,
          6,
          4,
          4,
          2,
          2,
          2,
          1
         ]
        },
        {
         "name": "Listening",
         "type": "bar",
         "x": [
          275,
          270,
          290,
          250,
          235,
          245,
          280,
          315,
          320,
          255,
          260,
          345,
          325,
          285,
          265,
          305,
          340,
          335,
          240,
          300,
          360,
          350,
          330,
          230,
          370,
          295,
          310,
          220,
          225,
          215,
          395,
          375,
          400,
          430,
          460,
          410,
          495,
          420,
          380,
          205,
          435,
          425,
          415,
          210,
          355,
          190,
          365,
          445,
          440,
          385,
          475,
          195,
          470,
          185,
          390,
          455,
          405,
          465,
          480,
          490,
          450,
          200,
          485,
          160,
          180,
          175,
          170,
          145,
          125,
          135,
          140,
          165
         ],
         "y": [
          72,
          70,
          66,
          66,
          64,
          64,
          63,
          62,
          58,
          56,
          56,
          54,
          54,
          53,
          52,
          52,
          50,
          48,
          48,
          48,
          46,
          46,
          44,
          42,
          41,
          40,
          39,
          38,
          36,
          34,
          33,
          32,
          30,
          30,
          28,
          28,
          26,
          26,
          26,
          24,
          24,
          22,
          22,
          22,
          22,
          20,
          20,
          20,
          18,
          18,
          16,
          16,
          16,
          16,
          16,
          16,
          14,
          14,
          14,
          13,
          12,
          12,
          12,
          8,
          6,
          6,
          6,
          2,
          2,
          2,
          2,
          2
         ]
        }
       ],
       "layout": {
        "template": {
         "data": {
          "bar": [
           {
            "error_x": {
             "color": "#2a3f5f"
            },
            "error_y": {
             "color": "#2a3f5f"
            },
            "marker": {
             "line": {
              "color": "#E5ECF6",
              "width": 0.5
             },
             "pattern": {
              "fillmode": "overlay",
              "size": 10,
              "solidity": 0.2
             }
            },
            "type": "bar"
           }
          ],
          "barpolar": [
           {
            "marker": {
             "line": {
              "color": "#E5ECF6",
              "width": 0.5
             },
             "pattern": {
              "fillmode": "overlay",
              "size": 10,
              "solidity": 0.2
             }
            },
            "type": "barpolar"
           }
          ],
          "carpet": [
           {
            "aaxis": {
             "endlinecolor": "#2a3f5f",
             "gridcolor": "white",
             "linecolor": "white",
             "minorgridcolor": "white",
             "startlinecolor": "#2a3f5f"
            },
            "baxis": {
             "endlinecolor": "#2a3f5f",
             "gridcolor": "white",
             "linecolor": "white",
             "minorgridcolor": "white",
             "startlinecolor": "#2a3f5f"
            },
            "type": "carpet"
           }
          ],
          "choropleth": [
           {
            "colorbar": {
             "outlinewidth": 0,
             "ticks": ""
            },
            "type": "choropleth"
           }
          ],
          "contour": [
           {
            "colorbar": {
             "outlinewidth": 0,
             "ticks": ""
            },
            "colorscale": [
             [
              0,
              "#0d0887"
             ],
             [
              0.1111111111111111,
              "#46039f"
             ],
             [
              0.2222222222222222,
              "#7201a8"
             ],
             [
              0.3333333333333333,
              "#9c179e"
             ],
             [
              0.4444444444444444,
              "#bd3786"
             ],
             [
              0.5555555555555556,
              "#d8576b"
             ],
             [
              0.6666666666666666,
              "#ed7953"
             ],
             [
              0.7777777777777778,
              "#fb9f3a"
             ],
             [
              0.8888888888888888,
              "#fdca26"
             ],
             [
              1,
              "#f0f921"
             ]
            ],
            "type": "contour"
           }
          ],
          "contourcarpet": [
           {
            "colorbar": {
             "outlinewidth": 0,
             "ticks": ""
            },
            "type": "contourcarpet"
           }
          ],
          "heatmap": [
           {
            "colorbar": {
             "outlinewidth": 0,
             "ticks": ""
            },
            "colorscale": [
             [
              0,
              "#0d0887"
             ],
             [
              0.1111111111111111,
              "#46039f"
             ],
             [
              0.2222222222222222,
              "#7201a8"
             ],
             [
              0.3333333333333333,
              "#9c179e"
             ],
             [
              0.4444444444444444,
              "#bd3786"
             ],
             [
              0.5555555555555556,
              "#d8576b"
             ],
             [
              0.6666666666666666,
              "#ed7953"
             ],
             [
              0.7777777777777778,
              "#fb9f3a"
             ],
             [
              0.8888888888888888,
              "#fdca26"
             ],
             [
              1,
              "#f0f921"
             ]
            ],
            "type": "heatmap"
           }
          ],
          "heatmapgl": [
           {
            "colorbar": {
             "outlinewidth": 0,
             "ticks": ""
            },
            "colorscale": [
             [
              0,
              "#0d0887"
             ],
             [
              0.1111111111111111,
              "#46039f"
             ],
             [
              0.2222222222222222,
              "#7201a8"
             ],
             [
              0.3333333333333333,
              "#9c179e"
             ],
             [
              0.4444444444444444,
              "#bd3786"
             ],
             [
              0.5555555555555556,
              "#d8576b"
             ],
             [
              0.6666666666666666,
              "#ed7953"
             ],
             [
              0.7777777777777778,
              "#fb9f3a"
             ],
             [
              0.8888888888888888,
              "#fdca26"
             ],
             [
              1,
              "#f0f921"
             ]
            ],
            "type": "heatmapgl"
           }
          ],
          "histogram": [
           {
            "marker": {
             "pattern": {
              "fillmode": "overlay",
              "size": 10,
              "solidity": 0.2
             }
            },
            "type": "histogram"
           }
          ],
          "histogram2d": [
           {
            "colorbar": {
             "outlinewidth": 0,
             "ticks": ""
            },
            "colorscale": [
             [
              0,
              "#0d0887"
             ],
             [
              0.1111111111111111,
              "#46039f"
             ],
             [
              0.2222222222222222,
              "#7201a8"
             ],
             [
              0.3333333333333333,
              "#9c179e"
             ],
             [
              0.4444444444444444,
              "#bd3786"
             ],
             [
              0.5555555555555556,
              "#d8576b"
             ],
             [
              0.6666666666666666,
              "#ed7953"
             ],
             [
              0.7777777777777778,
              "#fb9f3a"
             ],
             [
              0.8888888888888888,
              "#fdca26"
             ],
             [
              1,
              "#f0f921"
             ]
            ],
            "type": "histogram2d"
           }
          ],
          "histogram2dcontour": [
           {
            "colorbar": {
             "outlinewidth": 0,
             "ticks": ""
            },
            "colorscale": [
             [
              0,
              "#0d0887"
             ],
             [
              0.1111111111111111,
              "#46039f"
             ],
             [
              0.2222222222222222,
              "#7201a8"
             ],
             [
              0.3333333333333333,
              "#9c179e"
             ],
             [
              0.4444444444444444,
              "#bd3786"
             ],
             [
              0.5555555555555556,
              "#d8576b"
             ],
             [
              0.6666666666666666,
              "#ed7953"
             ],
             [
              0.7777777777777778,
              "#fb9f3a"
             ],
             [
              0.8888888888888888,
              "#fdca26"
             ],
             [
              1,
              "#f0f921"
             ]
            ],
            "type": "histogram2dcontour"
           }
          ],
          "mesh3d": [
           {
            "colorbar": {
             "outlinewidth": 0,
             "ticks": ""
            },
            "type": "mesh3d"
           }
          ],
          "parcoords": [
           {
            "line": {
             "colorbar": {
              "outlinewidth": 0,
              "ticks": ""
             }
            },
            "type": "parcoords"
           }
          ],
          "pie": [
           {
            "automargin": true,
            "type": "pie"
           }
          ],
          "scatter": [
           {
            "fillpattern": {
             "fillmode": "overlay",
             "size": 10,
             "solidity": 0.2
            },
            "type": "scatter"
           }
          ],
          "scatter3d": [
           {
            "line": {
             "colorbar": {
              "outlinewidth": 0,
              "ticks": ""
             }
            },
            "marker": {
             "colorbar": {
              "outlinewidth": 0,
              "ticks": ""
             }
            },
            "type": "scatter3d"
           }
          ],
          "scattercarpet": [
           {
            "marker": {
             "colorbar": {
              "outlinewidth": 0,
              "ticks": ""
             }
            },
            "type": "scattercarpet"
           }
          ],
          "scattergeo": [
           {
            "marker": {
             "colorbar": {
              "outlinewidth": 0,
              "ticks": ""
             }
            },
            "type": "scattergeo"
           }
          ],
          "scattergl": [
           {
            "marker": {
             "colorbar": {
              "outlinewidth": 0,
              "ticks": ""
             }
            },
            "type": "scattergl"
           }
          ],
          "scattermapbox": [
           {
            "marker": {
             "colorbar": {
              "outlinewidth": 0,
              "ticks": ""
             }
            },
            "type": "scattermapbox"
           }
          ],
          "scatterpolar": [
           {
            "marker": {
             "colorbar": {
              "outlinewidth": 0,
              "ticks": ""
             }
            },
            "type": "scatterpolar"
           }
          ],
          "scatterpolargl": [
           {
            "marker": {
             "colorbar": {
              "outlinewidth": 0,
              "ticks": ""
             }
            },
            "type": "scatterpolargl"
           }
          ],
          "scatterternary": [
           {
            "marker": {
             "colorbar": {
              "outlinewidth": 0,
              "ticks": ""
             }
            },
            "type": "scatterternary"
           }
          ],
          "surface": [
           {
            "colorbar": {
             "outlinewidth": 0,
             "ticks": ""
            },
            "colorscale": [
             [
              0,
              "#0d0887"
             ],
             [
              0.1111111111111111,
              "#46039f"
             ],
             [
              0.2222222222222222,
              "#7201a8"
             ],
             [
              0.3333333333333333,
              "#9c179e"
             ],
             [
              0.4444444444444444,
              "#bd3786"
             ],
             [
              0.5555555555555556,
              "#d8576b"
             ],
             [
              0.6666666666666666,
              "#ed7953"
             ],
             [
              0.7777777777777778,
              "#fb9f3a"
             ],
             [
              0.8888888888888888,
              "#fdca26"
             ],
             [
              1,
              "#f0f921"
             ]
            ],
            "type": "surface"
           }
          ],
          "table": [
           {
            "cells": {
             "fill": {
              "color": "#EBF0F8"
             },
             "line": {
              "color": "white"
             }
            },
            "header": {
             "fill": {
              "color": "#C8D4E3"
             },
             "line": {
              "color": "white"
             }
            },
            "type": "table"
           }
          ]
         },
         "layout": {
          "annotationdefaults": {
           "arrowcolor": "#2a3f5f",
           "arrowhead": 0,
           "arrowwidth": 1
          },
          "autotypenumbers": "strict",
          "coloraxis": {
           "colorbar": {
            "outlinewidth": 0,
            "ticks": ""
           }
          },
          "colorscale": {
           "diverging": [
            [
             0,
             "#8e0152"
            ],
            [
             0.1,
             "#c51b7d"
            ],
            [
             0.2,
             "#de77ae"
            ],
            [
             0.3,
             "#f1b6da"
            ],
            [
             0.4,
             "#fde0ef"
            ],
            [
             0.5,
             "#f7f7f7"
            ],
            [
             0.6,
             "#e6f5d0"
            ],
            [
             0.7,
             "#b8e186"
            ],
            [
             0.8,
             "#7fbc41"
            ],
            [
             0.9,
             "#4d9221"
            ],
            [
             1,
             "#276419"
            ]
           ],
           "sequential": [
            [
             0,
             "#0d0887"
            ],
            [
             0.1111111111111111,
             "#46039f"
            ],
            [
             0.2222222222222222,
             "#7201a8"
            ],
            [
             0.3333333333333333,
             "#9c179e"
            ],
            [
             0.4444444444444444,
             "#bd3786"
            ],
            [
             0.5555555555555556,
             "#d8576b"
            ],
            [
             0.6666666666666666,
             "#ed7953"
            ],
            [
             0.7777777777777778,
             "#fb9f3a"
            ],
            [
             0.8888888888888888,
             "#fdca26"
            ],
            [
             1,
             "#f0f921"
            ]
           ],
           "sequentialminus": [
            [
             0,
             "#0d0887"
            ],
            [
             0.1111111111111111,
             "#46039f"
            ],
            [
             0.2222222222222222,
             "#7201a8"
            ],
            [
             0.3333333333333333,
             "#9c179e"
            ],
            [
             0.4444444444444444,
             "#bd3786"
            ],
            [
             0.5555555555555556,
             "#d8576b"
            ],
            [
             0.6666666666666666,
             "#ed7953"
            ],
            [
             0.7777777777777778,
             "#fb9f3a"
            ],
            [
             0.8888888888888888,
             "#fdca26"
            ],
            [
             1,
             "#f0f921"
            ]
           ]
          },
          "colorway": [
           "#636efa",
           "#EF553B",
           "#00cc96",
           "#ab63fa",
           "#FFA15A",
           "#19d3f3",
           "#FF6692",
           "#B6E880",
           "#FF97FF",
           "#FECB52"
          ],
          "font": {
           "color": "#2a3f5f"
          },
          "geo": {
           "bgcolor": "white",
           "lakecolor": "white",
           "landcolor": "#E5ECF6",
           "showlakes": true,
           "showland": true,
           "subunitcolor": "white"
          },
          "hoverlabel": {
           "align": "left"
          },
          "hovermode": "closest",
          "mapbox": {
           "style": "light"
          },
          "paper_bgcolor": "white",
          "plot_bgcolor": "#E5ECF6",
          "polar": {
           "angularaxis": {
            "gridcolor": "white",
            "linecolor": "white",
            "ticks": ""
           },
           "bgcolor": "#E5ECF6",
           "radialaxis": {
            "gridcolor": "white",
            "linecolor": "white",
            "ticks": ""
           }
          },
          "scene": {
           "xaxis": {
            "backgroundcolor": "#E5ECF6",
            "gridcolor": "white",
            "gridwidth": 2,
            "linecolor": "white",
            "showbackground": true,
            "ticks": "",
            "zerolinecolor": "white"
           },
           "yaxis": {
            "backgroundcolor": "#E5ECF6",
            "gridcolor": "white",
            "gridwidth": 2,
            "linecolor": "white",
            "showbackground": true,
            "ticks": "",
            "zerolinecolor": "white"
           },
           "zaxis": {
            "backgroundcolor": "#E5ECF6",
            "gridcolor": "white",
            "gridwidth": 2,
            "linecolor": "white",
            "showbackground": true,
            "ticks": "",
            "zerolinecolor": "white"
           }
          },
          "shapedefaults": {
           "line": {
            "color": "#2a3f5f"
           }
          },
          "ternary": {
           "aaxis": {
            "gridcolor": "white",
            "linecolor": "white",
            "ticks": ""
           },
           "baxis": {
            "gridcolor": "white",
            "linecolor": "white",
            "ticks": ""
           },
           "bgcolor": "#E5ECF6",
           "caxis": {
            "gridcolor": "white",
            "linecolor": "white",
            "ticks": ""
           }
          },
          "title": {
           "x": 0.05
          },
          "xaxis": {
           "automargin": true,
           "gridcolor": "white",
           "linecolor": "white",
           "ticks": "",
           "title": {
            "standoff": 15
           },
           "zerolinecolor": "white",
           "zerolinewidth": 2
          },
          "yaxis": {
           "automargin": true,
           "gridcolor": "white",
           "linecolor": "white",
           "ticks": "",
           "title": {
            "standoff": 15
           },
           "zerolinecolor": "white",
           "zerolinewidth": 2
          }
         }
        }
       }
      }
     },
     "metadata": {},
     "output_type": "display_data"
    }
   ],
   "source": [
    "fig = go.Figure()\n",
    "fig.add_trace(\n",
    "    go.Bar(x = df_toeic_lr[\"reading\"].value_counts().index,\n",
    "           y = df_toeic_lr[\"reading\"].value_counts().values, name = \"Reading\")\n",
    ")\n",
    "fig.add_trace(\n",
    "    go.Bar(x = df_toeic_lr[\"listening\"].value_counts().index,\n",
    "           y = df_toeic_lr[\"listening\"].value_counts().values, name=\"Listening\")\n",
    ")"
   ]
  },
  {
   "attachments": {},
   "cell_type": "markdown",
   "metadata": {},
   "source": [
    "# IELTS "
   ]
  },
  {
   "cell_type": "code",
   "execution_count": 143,
   "metadata": {},
   "outputs": [
    {
     "data": {
      "text/html": [
       "<div>\n",
       "<style scoped>\n",
       "    .dataframe tbody tr th:only-of-type {\n",
       "        vertical-align: middle;\n",
       "    }\n",
       "\n",
       "    .dataframe tbody tr th {\n",
       "        vertical-align: top;\n",
       "    }\n",
       "\n",
       "    .dataframe thead th {\n",
       "        text-align: right;\n",
       "    }\n",
       "</style>\n",
       "<table border=\"1\" class=\"dataframe\">\n",
       "  <thead>\n",
       "    <tr style=\"text-align: right;\">\n",
       "      <th></th>\n",
       "      <th>id</th>\n",
       "      <th>masv</th>\n",
       "      <th>ngaythi</th>\n",
       "      <th>url</th>\n",
       "      <th>loaixn</th>\n",
       "      <th>url.1</th>\n",
       "      <th>loaixn.1</th>\n",
       "      <th>listening</th>\n",
       "      <th>speaking</th>\n",
       "      <th>reading</th>\n",
       "    </tr>\n",
       "  </thead>\n",
       "  <tbody>\n",
       "    <tr>\n",
       "      <th>30</th>\n",
       "      <td>58</td>\n",
       "      <td>15B88849XPvAibaEXe+9tOqtJ+TlMgs05RMBFJt2</td>\n",
       "      <td>NaN</td>\n",
       "      <td>https://qldt.uit.edu.vn/sites/default/files/s...</td>\n",
       "      <td>IELTS</td>\n",
       "      <td>NaN</td>\n",
       "      <td>NaN</td>\n",
       "      <td>NaN</td>\n",
       "      <td>NaN</td>\n",
       "      <td>NaN</td>\n",
       "    </tr>\n",
       "    <tr>\n",
       "      <th>38</th>\n",
       "      <td>70</td>\n",
       "      <td>999A85F6XPvAibaEXe+SrLE9JUD3pKt4JI3o/RBG</td>\n",
       "      <td>NaN</td>\n",
       "      <td>https://qldt.uit.edu.vn/sites/default/files/s...</td>\n",
       "      <td>IELTS</td>\n",
       "      <td>NaN</td>\n",
       "      <td>NaN</td>\n",
       "      <td>NaN</td>\n",
       "      <td>NaN</td>\n",
       "      <td>NaN</td>\n",
       "    </tr>\n",
       "    <tr>\n",
       "      <th>57</th>\n",
       "      <td>96</td>\n",
       "      <td>88C15831XPvAibaEXe879+AOg1gh8uMWWp9sXQnJ</td>\n",
       "      <td>NaN</td>\n",
       "      <td>bangcap/13520007/13520007_bangcap_IELTS_20180...</td>\n",
       "      <td>IELTS</td>\n",
       "      <td>NaN</td>\n",
       "      <td>NaN</td>\n",
       "      <td>NaN</td>\n",
       "      <td>NaN</td>\n",
       "      <td>NaN</td>\n",
       "    </tr>\n",
       "    <tr>\n",
       "      <th>60</th>\n",
       "      <td>100</td>\n",
       "      <td>F585674DXPvAibaEXe93PEySAJOVk6T3mUZtHkOx</td>\n",
       "      <td>NaN</td>\n",
       "      <td>bangcap/13520020/13520020_bangcap_IELTS_20180...</td>\n",
       "      <td>IELTS</td>\n",
       "      <td>NaN</td>\n",
       "      <td>NaN</td>\n",
       "      <td>NaN</td>\n",
       "      <td>NaN</td>\n",
       "      <td>NaN</td>\n",
       "    </tr>\n",
       "    <tr>\n",
       "      <th>67</th>\n",
       "      <td>108</td>\n",
       "      <td>CD52678BXPvAibaEXe97hU2RTHdNnHA5E5DKdC+D</td>\n",
       "      <td>NaN</td>\n",
       "      <td>bangcap/13520776/13520776_bangcap_IELTS_20180...</td>\n",
       "      <td>IELTS</td>\n",
       "      <td>NaN</td>\n",
       "      <td>NaN</td>\n",
       "      <td>NaN</td>\n",
       "      <td>NaN</td>\n",
       "      <td>NaN</td>\n",
       "    </tr>\n",
       "    <tr>\n",
       "      <th>...</th>\n",
       "      <td>...</td>\n",
       "      <td>...</td>\n",
       "      <td>...</td>\n",
       "      <td>...</td>\n",
       "      <td>...</td>\n",
       "      <td>...</td>\n",
       "      <td>...</td>\n",
       "      <td>...</td>\n",
       "      <td>...</td>\n",
       "      <td>...</td>\n",
       "    </tr>\n",
       "    <tr>\n",
       "      <th>3357</th>\n",
       "      <td>4295</td>\n",
       "      <td>FEA68FFDXPvAibaEXe+NaxazXn6OZBUcskoCOWop</td>\n",
       "      <td>'2021-03-27'</td>\n",
       "      <td>'bangcap/17520549/17520549_bangcap_IELTS_2021...</td>\n",
       "      <td>IELTS</td>\n",
       "      <td>NaN</td>\n",
       "      <td>NaN</td>\n",
       "      <td>NaN</td>\n",
       "      <td>NaN</td>\n",
       "      <td>'5.5'</td>\n",
       "    </tr>\n",
       "    <tr>\n",
       "      <th>3365</th>\n",
       "      <td>4315</td>\n",
       "      <td>62379DF6XPvAibaEXe+NaxazXn6OZEplJrdOrIqa</td>\n",
       "      <td>'2021-03-27'</td>\n",
       "      <td>'bangcap/17520976/17520976_bangcap_IELTS_2021...</td>\n",
       "      <td>IELTS</td>\n",
       "      <td>NaN</td>\n",
       "      <td>NaN</td>\n",
       "      <td>NaN</td>\n",
       "      <td>NaN</td>\n",
       "      <td>'29.5'</td>\n",
       "    </tr>\n",
       "    <tr>\n",
       "      <th>3415</th>\n",
       "      <td>4438</td>\n",
       "      <td>A2FA5A2AXPvAibaEXe8VMicbCMuSMEgH+ilAnQLI</td>\n",
       "      <td>'2021-04-26'</td>\n",
       "      <td>'bangcap/16520399/16520399_bangcap_IELTS_2021...</td>\n",
       "      <td>IELTS</td>\n",
       "      <td>NaN</td>\n",
       "      <td>NaN</td>\n",
       "      <td>NaN</td>\n",
       "      <td>NaN</td>\n",
       "      <td>'6.0'</td>\n",
       "    </tr>\n",
       "    <tr>\n",
       "      <th>3422</th>\n",
       "      <td>4459</td>\n",
       "      <td>C43D3565XPvAibaEXe8HzJP81YpvniuPNLWPDFc1</td>\n",
       "      <td>'2021-03-27'</td>\n",
       "      <td>'bangcap/19520109/19520109_bangcap_IELTS_2021...</td>\n",
       "      <td>IELTS</td>\n",
       "      <td>NaN</td>\n",
       "      <td>NaN</td>\n",
       "      <td>NaN</td>\n",
       "      <td>NaN</td>\n",
       "      <td>'6.0'</td>\n",
       "    </tr>\n",
       "    <tr>\n",
       "      <th>3436</th>\n",
       "      <td>4497</td>\n",
       "      <td>F28C5073XPvAibaEXe9G+cXjMGRRwuO5J0G9v1kF</td>\n",
       "      <td>'2021-04-29'</td>\n",
       "      <td>'bangcap/16521386/16521386_bangcap_IELTS_2021...</td>\n",
       "      <td>IELTS</td>\n",
       "      <td>NaN</td>\n",
       "      <td>NaN</td>\n",
       "      <td>NaN</td>\n",
       "      <td>NaN</td>\n",
       "      <td>'7'</td>\n",
       "    </tr>\n",
       "  </tbody>\n",
       "</table>\n",
       "<p>378 rows × 10 columns</p>\n",
       "</div>"
      ],
      "text/plain": [
       "        id                                      masv        ngaythi  \\\n",
       "30      58  15B88849XPvAibaEXe+9tOqtJ+TlMgs05RMBFJt2            NaN   \n",
       "38      70  999A85F6XPvAibaEXe+SrLE9JUD3pKt4JI3o/RBG            NaN   \n",
       "57      96  88C15831XPvAibaEXe879+AOg1gh8uMWWp9sXQnJ            NaN   \n",
       "60     100  F585674DXPvAibaEXe93PEySAJOVk6T3mUZtHkOx            NaN   \n",
       "67     108  CD52678BXPvAibaEXe97hU2RTHdNnHA5E5DKdC+D            NaN   \n",
       "...    ...                                       ...            ...   \n",
       "3357  4295  FEA68FFDXPvAibaEXe+NaxazXn6OZBUcskoCOWop   '2021-03-27'   \n",
       "3365  4315  62379DF6XPvAibaEXe+NaxazXn6OZEplJrdOrIqa   '2021-03-27'   \n",
       "3415  4438  A2FA5A2AXPvAibaEXe8VMicbCMuSMEgH+ilAnQLI   '2021-04-26'   \n",
       "3422  4459  C43D3565XPvAibaEXe8HzJP81YpvniuPNLWPDFc1   '2021-03-27'   \n",
       "3436  4497  F28C5073XPvAibaEXe9G+cXjMGRRwuO5J0G9v1kF   '2021-04-29'   \n",
       "\n",
       "                                                    url  loaixn   url.1  \\\n",
       "30     https://qldt.uit.edu.vn/sites/default/files/s...   IELTS     NaN   \n",
       "38     https://qldt.uit.edu.vn/sites/default/files/s...   IELTS     NaN   \n",
       "57     bangcap/13520007/13520007_bangcap_IELTS_20180...   IELTS     NaN   \n",
       "60     bangcap/13520020/13520020_bangcap_IELTS_20180...   IELTS     NaN   \n",
       "67     bangcap/13520776/13520776_bangcap_IELTS_20180...   IELTS     NaN   \n",
       "...                                                 ...     ...     ...   \n",
       "3357   'bangcap/17520549/17520549_bangcap_IELTS_2021...   IELTS     NaN   \n",
       "3365   'bangcap/17520976/17520976_bangcap_IELTS_2021...   IELTS     NaN   \n",
       "3415   'bangcap/16520399/16520399_bangcap_IELTS_2021...   IELTS     NaN   \n",
       "3422   'bangcap/19520109/19520109_bangcap_IELTS_2021...   IELTS     NaN   \n",
       "3436   'bangcap/16521386/16521386_bangcap_IELTS_2021...   IELTS     NaN   \n",
       "\n",
       "       loaixn.1   listening   speaking  reading  \n",
       "30          NaN         NaN        NaN      NaN  \n",
       "38          NaN         NaN        NaN      NaN  \n",
       "57          NaN         NaN        NaN      NaN  \n",
       "60          NaN         NaN        NaN      NaN  \n",
       "67          NaN         NaN        NaN      NaN  \n",
       "...         ...         ...        ...      ...  \n",
       "3357        NaN         NaN        NaN    '5.5'  \n",
       "3365        NaN         NaN        NaN   '29.5'  \n",
       "3415        NaN         NaN        NaN    '6.0'  \n",
       "3422        NaN         NaN        NaN    '6.0'  \n",
       "3436        NaN         NaN        NaN      '7'  \n",
       "\n",
       "[378 rows x 10 columns]"
      ]
     },
     "execution_count": 143,
     "metadata": {},
     "output_type": "execute_result"
    }
   ],
   "source": [
    "df_ielts = df.loc[(df[\" loaixn\"] == \"IELTS\")]\n",
    "df_ielts"
   ]
  },
  {
   "cell_type": "code",
   "execution_count": 144,
   "metadata": {},
   "outputs": [],
   "source": [
    "dict = {'6': 6.0, \" '6.0'\": 6.0, \"5.5\": 5.5, \" '5.5'\": 5.5, \" '6.5'\":6.5, \" '7.0'\":7.0, '7':7.0, '6.5':6.5, '7.5':7.5,\n",
    "       \" '7.5'\":7.5, '5':5.0, \" '6'\": 6.0, \" '5.0'\": 5.0, \" '7'\": 7.0, '29.5':29.5, '4.5':4.5, \" '4.5'\":4.5,\n",
    "       \" '5'\":5.0, \" '29.5'\":29.5}\n",
    "df_ielts = df_ielts.drop([\"id\",\" url\"], axis = 1).rename(columns= {\" url.1\": \"listening\", \" loaixn.1\": \"speaking\",\n",
    "                             \" listening\": \"reading\",\" speaking\": \"writing\", \" reading\": \"total\"})\n",
    "df_ielts[\"total\"] = df_ielts[\"total\"].map(dict)"
   ]
  },
  {
   "cell_type": "code",
   "execution_count": 145,
   "metadata": {},
   "outputs": [
    {
     "data": {
      "application/vnd.plotly.v1+json": {
       "config": {
        "plotlyServerURL": "https://plot.ly"
       },
       "data": [
        {
         "alignmentgroup": "True",
         "hovertemplate": "IELTS Score=%{x}<br>Số lượng=%{y}<br>color=%{marker.color}<extra></extra>",
         "legendgroup": "",
         "marker": {
          "color": [
           34,
           22,
           21,
           19,
           14,
           10,
           2
          ],
          "coloraxis": "coloraxis",
          "pattern": {
           "shape": ""
          }
         },
         "name": "",
         "offsetgroup": "",
         "orientation": "v",
         "showlegend": false,
         "textposition": "auto",
         "type": "bar",
         "x": [
          6,
          5.5,
          7,
          6.5,
          7.5,
          5,
          4.5
         ],
         "xaxis": "x",
         "y": [
          34,
          22,
          21,
          19,
          14,
          10,
          2
         ],
         "yaxis": "y"
        }
       ],
       "layout": {
        "barmode": "relative",
        "coloraxis": {
         "colorbar": {
          "title": {
           "text": "color"
          }
         },
         "colorscale": [
          [
           0,
           "#0d0887"
          ],
          [
           0.1111111111111111,
           "#46039f"
          ],
          [
           0.2222222222222222,
           "#7201a8"
          ],
          [
           0.3333333333333333,
           "#9c179e"
          ],
          [
           0.4444444444444444,
           "#bd3786"
          ],
          [
           0.5555555555555556,
           "#d8576b"
          ],
          [
           0.6666666666666666,
           "#ed7953"
          ],
          [
           0.7777777777777778,
           "#fb9f3a"
          ],
          [
           0.8888888888888888,
           "#fdca26"
          ],
          [
           1,
           "#f0f921"
          ]
         ]
        },
        "legend": {
         "tracegroupgap": 0
        },
        "template": {
         "data": {
          "bar": [
           {
            "error_x": {
             "color": "#2a3f5f"
            },
            "error_y": {
             "color": "#2a3f5f"
            },
            "marker": {
             "line": {
              "color": "#E5ECF6",
              "width": 0.5
             },
             "pattern": {
              "fillmode": "overlay",
              "size": 10,
              "solidity": 0.2
             }
            },
            "type": "bar"
           }
          ],
          "barpolar": [
           {
            "marker": {
             "line": {
              "color": "#E5ECF6",
              "width": 0.5
             },
             "pattern": {
              "fillmode": "overlay",
              "size": 10,
              "solidity": 0.2
             }
            },
            "type": "barpolar"
           }
          ],
          "carpet": [
           {
            "aaxis": {
             "endlinecolor": "#2a3f5f",
             "gridcolor": "white",
             "linecolor": "white",
             "minorgridcolor": "white",
             "startlinecolor": "#2a3f5f"
            },
            "baxis": {
             "endlinecolor": "#2a3f5f",
             "gridcolor": "white",
             "linecolor": "white",
             "minorgridcolor": "white",
             "startlinecolor": "#2a3f5f"
            },
            "type": "carpet"
           }
          ],
          "choropleth": [
           {
            "colorbar": {
             "outlinewidth": 0,
             "ticks": ""
            },
            "type": "choropleth"
           }
          ],
          "contour": [
           {
            "colorbar": {
             "outlinewidth": 0,
             "ticks": ""
            },
            "colorscale": [
             [
              0,
              "#0d0887"
             ],
             [
              0.1111111111111111,
              "#46039f"
             ],
             [
              0.2222222222222222,
              "#7201a8"
             ],
             [
              0.3333333333333333,
              "#9c179e"
             ],
             [
              0.4444444444444444,
              "#bd3786"
             ],
             [
              0.5555555555555556,
              "#d8576b"
             ],
             [
              0.6666666666666666,
              "#ed7953"
             ],
             [
              0.7777777777777778,
              "#fb9f3a"
             ],
             [
              0.8888888888888888,
              "#fdca26"
             ],
             [
              1,
              "#f0f921"
             ]
            ],
            "type": "contour"
           }
          ],
          "contourcarpet": [
           {
            "colorbar": {
             "outlinewidth": 0,
             "ticks": ""
            },
            "type": "contourcarpet"
           }
          ],
          "heatmap": [
           {
            "colorbar": {
             "outlinewidth": 0,
             "ticks": ""
            },
            "colorscale": [
             [
              0,
              "#0d0887"
             ],
             [
              0.1111111111111111,
              "#46039f"
             ],
             [
              0.2222222222222222,
              "#7201a8"
             ],
             [
              0.3333333333333333,
              "#9c179e"
             ],
             [
              0.4444444444444444,
              "#bd3786"
             ],
             [
              0.5555555555555556,
              "#d8576b"
             ],
             [
              0.6666666666666666,
              "#ed7953"
             ],
             [
              0.7777777777777778,
              "#fb9f3a"
             ],
             [
              0.8888888888888888,
              "#fdca26"
             ],
             [
              1,
              "#f0f921"
             ]
            ],
            "type": "heatmap"
           }
          ],
          "heatmapgl": [
           {
            "colorbar": {
             "outlinewidth": 0,
             "ticks": ""
            },
            "colorscale": [
             [
              0,
              "#0d0887"
             ],
             [
              0.1111111111111111,
              "#46039f"
             ],
             [
              0.2222222222222222,
              "#7201a8"
             ],
             [
              0.3333333333333333,
              "#9c179e"
             ],
             [
              0.4444444444444444,
              "#bd3786"
             ],
             [
              0.5555555555555556,
              "#d8576b"
             ],
             [
              0.6666666666666666,
              "#ed7953"
             ],
             [
              0.7777777777777778,
              "#fb9f3a"
             ],
             [
              0.8888888888888888,
              "#fdca26"
             ],
             [
              1,
              "#f0f921"
             ]
            ],
            "type": "heatmapgl"
           }
          ],
          "histogram": [
           {
            "marker": {
             "pattern": {
              "fillmode": "overlay",
              "size": 10,
              "solidity": 0.2
             }
            },
            "type": "histogram"
           }
          ],
          "histogram2d": [
           {
            "colorbar": {
             "outlinewidth": 0,
             "ticks": ""
            },
            "colorscale": [
             [
              0,
              "#0d0887"
             ],
             [
              0.1111111111111111,
              "#46039f"
             ],
             [
              0.2222222222222222,
              "#7201a8"
             ],
             [
              0.3333333333333333,
              "#9c179e"
             ],
             [
              0.4444444444444444,
              "#bd3786"
             ],
             [
              0.5555555555555556,
              "#d8576b"
             ],
             [
              0.6666666666666666,
              "#ed7953"
             ],
             [
              0.7777777777777778,
              "#fb9f3a"
             ],
             [
              0.8888888888888888,
              "#fdca26"
             ],
             [
              1,
              "#f0f921"
             ]
            ],
            "type": "histogram2d"
           }
          ],
          "histogram2dcontour": [
           {
            "colorbar": {
             "outlinewidth": 0,
             "ticks": ""
            },
            "colorscale": [
             [
              0,
              "#0d0887"
             ],
             [
              0.1111111111111111,
              "#46039f"
             ],
             [
              0.2222222222222222,
              "#7201a8"
             ],
             [
              0.3333333333333333,
              "#9c179e"
             ],
             [
              0.4444444444444444,
              "#bd3786"
             ],
             [
              0.5555555555555556,
              "#d8576b"
             ],
             [
              0.6666666666666666,
              "#ed7953"
             ],
             [
              0.7777777777777778,
              "#fb9f3a"
             ],
             [
              0.8888888888888888,
              "#fdca26"
             ],
             [
              1,
              "#f0f921"
             ]
            ],
            "type": "histogram2dcontour"
           }
          ],
          "mesh3d": [
           {
            "colorbar": {
             "outlinewidth": 0,
             "ticks": ""
            },
            "type": "mesh3d"
           }
          ],
          "parcoords": [
           {
            "line": {
             "colorbar": {
              "outlinewidth": 0,
              "ticks": ""
             }
            },
            "type": "parcoords"
           }
          ],
          "pie": [
           {
            "automargin": true,
            "type": "pie"
           }
          ],
          "scatter": [
           {
            "fillpattern": {
             "fillmode": "overlay",
             "size": 10,
             "solidity": 0.2
            },
            "type": "scatter"
           }
          ],
          "scatter3d": [
           {
            "line": {
             "colorbar": {
              "outlinewidth": 0,
              "ticks": ""
             }
            },
            "marker": {
             "colorbar": {
              "outlinewidth": 0,
              "ticks": ""
             }
            },
            "type": "scatter3d"
           }
          ],
          "scattercarpet": [
           {
            "marker": {
             "colorbar": {
              "outlinewidth": 0,
              "ticks": ""
             }
            },
            "type": "scattercarpet"
           }
          ],
          "scattergeo": [
           {
            "marker": {
             "colorbar": {
              "outlinewidth": 0,
              "ticks": ""
             }
            },
            "type": "scattergeo"
           }
          ],
          "scattergl": [
           {
            "marker": {
             "colorbar": {
              "outlinewidth": 0,
              "ticks": ""
             }
            },
            "type": "scattergl"
           }
          ],
          "scattermapbox": [
           {
            "marker": {
             "colorbar": {
              "outlinewidth": 0,
              "ticks": ""
             }
            },
            "type": "scattermapbox"
           }
          ],
          "scatterpolar": [
           {
            "marker": {
             "colorbar": {
              "outlinewidth": 0,
              "ticks": ""
             }
            },
            "type": "scatterpolar"
           }
          ],
          "scatterpolargl": [
           {
            "marker": {
             "colorbar": {
              "outlinewidth": 0,
              "ticks": ""
             }
            },
            "type": "scatterpolargl"
           }
          ],
          "scatterternary": [
           {
            "marker": {
             "colorbar": {
              "outlinewidth": 0,
              "ticks": ""
             }
            },
            "type": "scatterternary"
           }
          ],
          "surface": [
           {
            "colorbar": {
             "outlinewidth": 0,
             "ticks": ""
            },
            "colorscale": [
             [
              0,
              "#0d0887"
             ],
             [
              0.1111111111111111,
              "#46039f"
             ],
             [
              0.2222222222222222,
              "#7201a8"
             ],
             [
              0.3333333333333333,
              "#9c179e"
             ],
             [
              0.4444444444444444,
              "#bd3786"
             ],
             [
              0.5555555555555556,
              "#d8576b"
             ],
             [
              0.6666666666666666,
              "#ed7953"
             ],
             [
              0.7777777777777778,
              "#fb9f3a"
             ],
             [
              0.8888888888888888,
              "#fdca26"
             ],
             [
              1,
              "#f0f921"
             ]
            ],
            "type": "surface"
           }
          ],
          "table": [
           {
            "cells": {
             "fill": {
              "color": "#EBF0F8"
             },
             "line": {
              "color": "white"
             }
            },
            "header": {
             "fill": {
              "color": "#C8D4E3"
             },
             "line": {
              "color": "white"
             }
            },
            "type": "table"
           }
          ]
         },
         "layout": {
          "annotationdefaults": {
           "arrowcolor": "#2a3f5f",
           "arrowhead": 0,
           "arrowwidth": 1
          },
          "autotypenumbers": "strict",
          "coloraxis": {
           "colorbar": {
            "outlinewidth": 0,
            "ticks": ""
           }
          },
          "colorscale": {
           "diverging": [
            [
             0,
             "#8e0152"
            ],
            [
             0.1,
             "#c51b7d"
            ],
            [
             0.2,
             "#de77ae"
            ],
            [
             0.3,
             "#f1b6da"
            ],
            [
             0.4,
             "#fde0ef"
            ],
            [
             0.5,
             "#f7f7f7"
            ],
            [
             0.6,
             "#e6f5d0"
            ],
            [
             0.7,
             "#b8e186"
            ],
            [
             0.8,
             "#7fbc41"
            ],
            [
             0.9,
             "#4d9221"
            ],
            [
             1,
             "#276419"
            ]
           ],
           "sequential": [
            [
             0,
             "#0d0887"
            ],
            [
             0.1111111111111111,
             "#46039f"
            ],
            [
             0.2222222222222222,
             "#7201a8"
            ],
            [
             0.3333333333333333,
             "#9c179e"
            ],
            [
             0.4444444444444444,
             "#bd3786"
            ],
            [
             0.5555555555555556,
             "#d8576b"
            ],
            [
             0.6666666666666666,
             "#ed7953"
            ],
            [
             0.7777777777777778,
             "#fb9f3a"
            ],
            [
             0.8888888888888888,
             "#fdca26"
            ],
            [
             1,
             "#f0f921"
            ]
           ],
           "sequentialminus": [
            [
             0,
             "#0d0887"
            ],
            [
             0.1111111111111111,
             "#46039f"
            ],
            [
             0.2222222222222222,
             "#7201a8"
            ],
            [
             0.3333333333333333,
             "#9c179e"
            ],
            [
             0.4444444444444444,
             "#bd3786"
            ],
            [
             0.5555555555555556,
             "#d8576b"
            ],
            [
             0.6666666666666666,
             "#ed7953"
            ],
            [
             0.7777777777777778,
             "#fb9f3a"
            ],
            [
             0.8888888888888888,
             "#fdca26"
            ],
            [
             1,
             "#f0f921"
            ]
           ]
          },
          "colorway": [
           "#636efa",
           "#EF553B",
           "#00cc96",
           "#ab63fa",
           "#FFA15A",
           "#19d3f3",
           "#FF6692",
           "#B6E880",
           "#FF97FF",
           "#FECB52"
          ],
          "font": {
           "color": "#2a3f5f"
          },
          "geo": {
           "bgcolor": "white",
           "lakecolor": "white",
           "landcolor": "#E5ECF6",
           "showlakes": true,
           "showland": true,
           "subunitcolor": "white"
          },
          "hoverlabel": {
           "align": "left"
          },
          "hovermode": "closest",
          "mapbox": {
           "style": "light"
          },
          "paper_bgcolor": "white",
          "plot_bgcolor": "#E5ECF6",
          "polar": {
           "angularaxis": {
            "gridcolor": "white",
            "linecolor": "white",
            "ticks": ""
           },
           "bgcolor": "#E5ECF6",
           "radialaxis": {
            "gridcolor": "white",
            "linecolor": "white",
            "ticks": ""
           }
          },
          "scene": {
           "xaxis": {
            "backgroundcolor": "#E5ECF6",
            "gridcolor": "white",
            "gridwidth": 2,
            "linecolor": "white",
            "showbackground": true,
            "ticks": "",
            "zerolinecolor": "white"
           },
           "yaxis": {
            "backgroundcolor": "#E5ECF6",
            "gridcolor": "white",
            "gridwidth": 2,
            "linecolor": "white",
            "showbackground": true,
            "ticks": "",
            "zerolinecolor": "white"
           },
           "zaxis": {
            "backgroundcolor": "#E5ECF6",
            "gridcolor": "white",
            "gridwidth": 2,
            "linecolor": "white",
            "showbackground": true,
            "ticks": "",
            "zerolinecolor": "white"
           }
          },
          "shapedefaults": {
           "line": {
            "color": "#2a3f5f"
           }
          },
          "ternary": {
           "aaxis": {
            "gridcolor": "white",
            "linecolor": "white",
            "ticks": ""
           },
           "baxis": {
            "gridcolor": "white",
            "linecolor": "white",
            "ticks": ""
           },
           "bgcolor": "#E5ECF6",
           "caxis": {
            "gridcolor": "white",
            "linecolor": "white",
            "ticks": ""
           }
          },
          "title": {
           "x": 0.05
          },
          "xaxis": {
           "automargin": true,
           "gridcolor": "white",
           "linecolor": "white",
           "ticks": "",
           "title": {
            "standoff": 15
           },
           "zerolinecolor": "white",
           "zerolinewidth": 2
          },
          "yaxis": {
           "automargin": true,
           "gridcolor": "white",
           "linecolor": "white",
           "ticks": "",
           "title": {
            "standoff": 15
           },
           "zerolinecolor": "white",
           "zerolinewidth": 2
          }
         }
        },
        "title": {
         "text": "Dữ liệu tổng điểm của chứng chỉ IELTS"
        },
        "xaxis": {
         "anchor": "y",
         "domain": [
          0,
          1
         ],
         "title": {
          "text": "IELTS Score"
         }
        },
        "yaxis": {
         "anchor": "x",
         "domain": [
          0,
          1
         ],
         "title": {
          "text": "Số lượng"
         }
        }
       }
      }
     },
     "metadata": {},
     "output_type": "display_data"
    }
   ],
   "source": [
    "df_ielts = df_ielts.dropna(subset=[\"total\"])\n",
    "df_ielts = df_ielts.loc[(df_ielts[\"total\"] <= 9.0)]\n",
    "fig = px.bar(df_ielts, x=df_ielts[\"total\"].value_counts().index, \n",
    "             y=df_ielts[\"total\"].value_counts().values,\n",
    "             color=df_ielts[\"total\"].value_counts().values,\n",
    "             labels = {\"x\":\"IELTS Score\",\n",
    "                       \"y\": \"Số lượng\"},\n",
    "             title=\"Dữ liệu tổng điểm của chứng chỉ IELTS\")\n",
    "fig"
   ]
  },
  {
   "attachments": {},
   "cell_type": "markdown",
   "metadata": {},
   "source": [
    "# TOEIC_SW"
   ]
  },
  {
   "cell_type": "code",
   "execution_count": 146,
   "metadata": {},
   "outputs": [
    {
     "data": {
      "text/html": [
       "<div>\n",
       "<style scoped>\n",
       "    .dataframe tbody tr th:only-of-type {\n",
       "        vertical-align: middle;\n",
       "    }\n",
       "\n",
       "    .dataframe tbody tr th {\n",
       "        vertical-align: top;\n",
       "    }\n",
       "\n",
       "    .dataframe thead th {\n",
       "        text-align: right;\n",
       "    }\n",
       "</style>\n",
       "<table border=\"1\" class=\"dataframe\">\n",
       "  <thead>\n",
       "    <tr style=\"text-align: right;\">\n",
       "      <th></th>\n",
       "      <th>id</th>\n",
       "      <th>masv</th>\n",
       "      <th>ngaythi</th>\n",
       "      <th>url</th>\n",
       "      <th>loaixn</th>\n",
       "      <th>url.1</th>\n",
       "      <th>loaixn.1</th>\n",
       "      <th>listening</th>\n",
       "      <th>speaking</th>\n",
       "      <th>reading</th>\n",
       "    </tr>\n",
       "  </thead>\n",
       "  <tbody>\n",
       "    <tr>\n",
       "      <th>242</th>\n",
       "      <td>378</td>\n",
       "      <td>D5FA45FAXPvAibaEXe+Om5b1Z5BSka3wiqaJgWti</td>\n",
       "      <td>2018-10-14</td>\n",
       "      <td>bangcap/15520370/15520370_bangcap_TOEIC_SW_20...</td>\n",
       "      <td>TOEIC_SW</td>\n",
       "      <td>NaN</td>\n",
       "      <td>100.0</td>\n",
       "      <td>NaN</td>\n",
       "      <td>130.0</td>\n",
       "      <td>NaN</td>\n",
       "    </tr>\n",
       "    <tr>\n",
       "      <th>258</th>\n",
       "      <td>406</td>\n",
       "      <td>8C53D0BDXPvAibaEXe8zBeLfIMmoBPnGRTUU76bE</td>\n",
       "      <td>2018-12-02</td>\n",
       "      <td>bangcap/14520345/14520345_bangcap_TOEIC_SW_20...</td>\n",
       "      <td>TOEIC_SW</td>\n",
       "      <td>NaN</td>\n",
       "      <td>110.0</td>\n",
       "      <td>NaN</td>\n",
       "      <td>100.0</td>\n",
       "      <td>NaN</td>\n",
       "    </tr>\n",
       "    <tr>\n",
       "      <th>294</th>\n",
       "      <td>460</td>\n",
       "      <td>DAA05B2CXPvAibaEXe/JKySBFnJ8IgkxHvBufbd3</td>\n",
       "      <td>2019-01-17</td>\n",
       "      <td>bangcap/14520248/14520248_bangcap_TOEIC_SW_20...</td>\n",
       "      <td>TOEIC_SW</td>\n",
       "      <td>NaN</td>\n",
       "      <td>110.0</td>\n",
       "      <td>NaN</td>\n",
       "      <td>120.0</td>\n",
       "      <td>NaN</td>\n",
       "    </tr>\n",
       "    <tr>\n",
       "      <th>299</th>\n",
       "      <td>467</td>\n",
       "      <td>FD98FF70XPvAibaEXe88tz7NL7l/gpmosb/DWOS+</td>\n",
       "      <td>2018-11-25</td>\n",
       "      <td>bangcap/14520979/14520979_bangcap_TOEIC_SW_20...</td>\n",
       "      <td>TOEIC_SW</td>\n",
       "      <td>NaN</td>\n",
       "      <td>90.0</td>\n",
       "      <td>NaN</td>\n",
       "      <td>115.0</td>\n",
       "      <td>NaN</td>\n",
       "    </tr>\n",
       "    <tr>\n",
       "      <th>330</th>\n",
       "      <td>520</td>\n",
       "      <td>118F3451XPvAibaEXe+xw+0gOjOR0LX1Iih/kDxx</td>\n",
       "      <td>2019-02-21</td>\n",
       "      <td>bangcap/14520716/14520716_bangcap_TOEIC_SW_20...</td>\n",
       "      <td>TOEIC_SW</td>\n",
       "      <td>NaN</td>\n",
       "      <td>115.0</td>\n",
       "      <td>NaN</td>\n",
       "      <td>115.0</td>\n",
       "      <td>NaN</td>\n",
       "    </tr>\n",
       "    <tr>\n",
       "      <th>...</th>\n",
       "      <td>...</td>\n",
       "      <td>...</td>\n",
       "      <td>...</td>\n",
       "      <td>...</td>\n",
       "      <td>...</td>\n",
       "      <td>...</td>\n",
       "      <td>...</td>\n",
       "      <td>...</td>\n",
       "      <td>...</td>\n",
       "      <td>...</td>\n",
       "    </tr>\n",
       "    <tr>\n",
       "      <th>3404</th>\n",
       "      <td>4402</td>\n",
       "      <td>A3BB1346XPvAibaEXe/ggdm4YTR3EzeDsR18exVD</td>\n",
       "      <td>'2021-03-20'</td>\n",
       "      <td>'bangcap/15520361/15520361_bangcap_TOEIC_SW_2...</td>\n",
       "      <td>TOEIC_SW</td>\n",
       "      <td>NaN</td>\n",
       "      <td>115.0</td>\n",
       "      <td>NaN</td>\n",
       "      <td>120.0</td>\n",
       "      <td>'235'</td>\n",
       "    </tr>\n",
       "    <tr>\n",
       "      <th>3408</th>\n",
       "      <td>4417</td>\n",
       "      <td>EF8A3F17XPvAibaEXe8v/8WpHvRKTnEWd4wFF8fQ</td>\n",
       "      <td>'2020-11-18'</td>\n",
       "      <td>'bangcap/18520171/18520171_bangcap_TOEIC_SW_2...</td>\n",
       "      <td>TOEIC_SW</td>\n",
       "      <td>NaN</td>\n",
       "      <td>155.0</td>\n",
       "      <td>NaN</td>\n",
       "      <td>140.0</td>\n",
       "      <td>'295'</td>\n",
       "    </tr>\n",
       "    <tr>\n",
       "      <th>3414</th>\n",
       "      <td>4430</td>\n",
       "      <td>C8870312XPvAibaEXe/ggdm4YTR3E0rDwdEhrVkf</td>\n",
       "      <td>'2021-04-17'</td>\n",
       "      <td>'bangcap/15520386/15520386_bangcap_TOEIC_SW_2...</td>\n",
       "      <td>TOEIC_SW</td>\n",
       "      <td>NaN</td>\n",
       "      <td>95.0</td>\n",
       "      <td>NaN</td>\n",
       "      <td>110.0</td>\n",
       "      <td>'205'</td>\n",
       "    </tr>\n",
       "    <tr>\n",
       "      <th>3424</th>\n",
       "      <td>4463</td>\n",
       "      <td>E9DF598BXPvAibaEXe8VMicbCMuSMLnvtON9COoy</td>\n",
       "      <td>'2021-04-17'</td>\n",
       "      <td>'bangcap/16520973/16520973_bangcap_TOEIC_SW_2...</td>\n",
       "      <td>TOEIC_SW</td>\n",
       "      <td>NaN</td>\n",
       "      <td>140.0</td>\n",
       "      <td>NaN</td>\n",
       "      <td>105.0</td>\n",
       "      <td>'245'</td>\n",
       "    </tr>\n",
       "    <tr>\n",
       "      <th>3426</th>\n",
       "      <td>4467</td>\n",
       "      <td>8F304F0CXPvAibaEXe+NaxazXn6OZBkD99pdogQN</td>\n",
       "      <td>'2021-04-11'</td>\n",
       "      <td>'bangcap/17520505/17520505_bangcap_TOEIC_SW_2...</td>\n",
       "      <td>TOEIC_SW</td>\n",
       "      <td>NaN</td>\n",
       "      <td>160.0</td>\n",
       "      <td>NaN</td>\n",
       "      <td>105.0</td>\n",
       "      <td>'265'</td>\n",
       "    </tr>\n",
       "  </tbody>\n",
       "</table>\n",
       "<p>284 rows × 10 columns</p>\n",
       "</div>"
      ],
      "text/plain": [
       "        id                                      masv        ngaythi  \\\n",
       "242    378  D5FA45FAXPvAibaEXe+Om5b1Z5BSka3wiqaJgWti     2018-10-14   \n",
       "258    406  8C53D0BDXPvAibaEXe8zBeLfIMmoBPnGRTUU76bE     2018-12-02   \n",
       "294    460  DAA05B2CXPvAibaEXe/JKySBFnJ8IgkxHvBufbd3     2019-01-17   \n",
       "299    467  FD98FF70XPvAibaEXe88tz7NL7l/gpmosb/DWOS+     2018-11-25   \n",
       "330    520  118F3451XPvAibaEXe+xw+0gOjOR0LX1Iih/kDxx     2019-02-21   \n",
       "...    ...                                       ...            ...   \n",
       "3404  4402  A3BB1346XPvAibaEXe/ggdm4YTR3EzeDsR18exVD   '2021-03-20'   \n",
       "3408  4417  EF8A3F17XPvAibaEXe8v/8WpHvRKTnEWd4wFF8fQ   '2020-11-18'   \n",
       "3414  4430  C8870312XPvAibaEXe/ggdm4YTR3E0rDwdEhrVkf   '2021-04-17'   \n",
       "3424  4463  E9DF598BXPvAibaEXe8VMicbCMuSMLnvtON9COoy   '2021-04-17'   \n",
       "3426  4467  8F304F0CXPvAibaEXe+NaxazXn6OZBkD99pdogQN   '2021-04-11'   \n",
       "\n",
       "                                                    url    loaixn   url.1  \\\n",
       "242    bangcap/15520370/15520370_bangcap_TOEIC_SW_20...  TOEIC_SW     NaN   \n",
       "258    bangcap/14520345/14520345_bangcap_TOEIC_SW_20...  TOEIC_SW     NaN   \n",
       "294    bangcap/14520248/14520248_bangcap_TOEIC_SW_20...  TOEIC_SW     NaN   \n",
       "299    bangcap/14520979/14520979_bangcap_TOEIC_SW_20...  TOEIC_SW     NaN   \n",
       "330    bangcap/14520716/14520716_bangcap_TOEIC_SW_20...  TOEIC_SW     NaN   \n",
       "...                                                 ...       ...     ...   \n",
       "3404   'bangcap/15520361/15520361_bangcap_TOEIC_SW_2...  TOEIC_SW     NaN   \n",
       "3408   'bangcap/18520171/18520171_bangcap_TOEIC_SW_2...  TOEIC_SW     NaN   \n",
       "3414   'bangcap/15520386/15520386_bangcap_TOEIC_SW_2...  TOEIC_SW     NaN   \n",
       "3424   'bangcap/16520973/16520973_bangcap_TOEIC_SW_2...  TOEIC_SW     NaN   \n",
       "3426   'bangcap/17520505/17520505_bangcap_TOEIC_SW_2...  TOEIC_SW     NaN   \n",
       "\n",
       "       loaixn.1   listening   speaking  reading  \n",
       "242       100.0         NaN      130.0      NaN  \n",
       "258       110.0         NaN      100.0      NaN  \n",
       "294       110.0         NaN      120.0      NaN  \n",
       "299        90.0         NaN      115.0      NaN  \n",
       "330       115.0         NaN      115.0      NaN  \n",
       "...         ...         ...        ...      ...  \n",
       "3404      115.0         NaN      120.0    '235'  \n",
       "3408      155.0         NaN      140.0    '295'  \n",
       "3414       95.0         NaN      110.0    '205'  \n",
       "3424      140.0         NaN      105.0    '245'  \n",
       "3426      160.0         NaN      105.0    '265'  \n",
       "\n",
       "[284 rows x 10 columns]"
      ]
     },
     "execution_count": 146,
     "metadata": {},
     "output_type": "execute_result"
    }
   ],
   "source": [
    "df_toeic_sw = df.loc[(df[\" loaixn\"] == \"TOEIC_SW\")]\n",
    "df_toeic_sw"
   ]
  },
  {
   "cell_type": "code",
   "execution_count": 147,
   "metadata": {},
   "outputs": [
    {
     "data": {
      "text/html": [
       "<div>\n",
       "<style scoped>\n",
       "    .dataframe tbody tr th:only-of-type {\n",
       "        vertical-align: middle;\n",
       "    }\n",
       "\n",
       "    .dataframe tbody tr th {\n",
       "        vertical-align: top;\n",
       "    }\n",
       "\n",
       "    .dataframe thead th {\n",
       "        text-align: right;\n",
       "    }\n",
       "</style>\n",
       "<table border=\"1\" class=\"dataframe\">\n",
       "  <thead>\n",
       "    <tr style=\"text-align: right;\">\n",
       "      <th></th>\n",
       "      <th>masv</th>\n",
       "      <th>ngaythi</th>\n",
       "      <th>loaixn</th>\n",
       "      <th>listening</th>\n",
       "      <th>speaking</th>\n",
       "      <th>reading</th>\n",
       "      <th>writing</th>\n",
       "      <th>total</th>\n",
       "    </tr>\n",
       "  </thead>\n",
       "  <tbody>\n",
       "    <tr>\n",
       "      <th>242</th>\n",
       "      <td>D5FA45FAXPvAibaEXe+Om5b1Z5BSka3wiqaJgWti</td>\n",
       "      <td>2018-10-14</td>\n",
       "      <td>TOEIC_SW</td>\n",
       "      <td>NaN</td>\n",
       "      <td>100.0</td>\n",
       "      <td>NaN</td>\n",
       "      <td>130.0</td>\n",
       "      <td>230</td>\n",
       "    </tr>\n",
       "    <tr>\n",
       "      <th>258</th>\n",
       "      <td>8C53D0BDXPvAibaEXe8zBeLfIMmoBPnGRTUU76bE</td>\n",
       "      <td>2018-12-02</td>\n",
       "      <td>TOEIC_SW</td>\n",
       "      <td>NaN</td>\n",
       "      <td>110.0</td>\n",
       "      <td>NaN</td>\n",
       "      <td>100.0</td>\n",
       "      <td>210</td>\n",
       "    </tr>\n",
       "    <tr>\n",
       "      <th>294</th>\n",
       "      <td>DAA05B2CXPvAibaEXe/JKySBFnJ8IgkxHvBufbd3</td>\n",
       "      <td>2019-01-17</td>\n",
       "      <td>TOEIC_SW</td>\n",
       "      <td>NaN</td>\n",
       "      <td>110.0</td>\n",
       "      <td>NaN</td>\n",
       "      <td>120.0</td>\n",
       "      <td>230</td>\n",
       "    </tr>\n",
       "    <tr>\n",
       "      <th>299</th>\n",
       "      <td>FD98FF70XPvAibaEXe88tz7NL7l/gpmosb/DWOS+</td>\n",
       "      <td>2018-11-25</td>\n",
       "      <td>TOEIC_SW</td>\n",
       "      <td>NaN</td>\n",
       "      <td>90.0</td>\n",
       "      <td>NaN</td>\n",
       "      <td>115.0</td>\n",
       "      <td>205</td>\n",
       "    </tr>\n",
       "    <tr>\n",
       "      <th>330</th>\n",
       "      <td>118F3451XPvAibaEXe+xw+0gOjOR0LX1Iih/kDxx</td>\n",
       "      <td>2019-02-21</td>\n",
       "      <td>TOEIC_SW</td>\n",
       "      <td>NaN</td>\n",
       "      <td>115.0</td>\n",
       "      <td>NaN</td>\n",
       "      <td>115.0</td>\n",
       "      <td>230</td>\n",
       "    </tr>\n",
       "    <tr>\n",
       "      <th>...</th>\n",
       "      <td>...</td>\n",
       "      <td>...</td>\n",
       "      <td>...</td>\n",
       "      <td>...</td>\n",
       "      <td>...</td>\n",
       "      <td>...</td>\n",
       "      <td>...</td>\n",
       "      <td>...</td>\n",
       "    </tr>\n",
       "    <tr>\n",
       "      <th>3404</th>\n",
       "      <td>A3BB1346XPvAibaEXe/ggdm4YTR3EzeDsR18exVD</td>\n",
       "      <td>'2021-03-20'</td>\n",
       "      <td>TOEIC_SW</td>\n",
       "      <td>NaN</td>\n",
       "      <td>115.0</td>\n",
       "      <td>NaN</td>\n",
       "      <td>120.0</td>\n",
       "      <td>235</td>\n",
       "    </tr>\n",
       "    <tr>\n",
       "      <th>3408</th>\n",
       "      <td>EF8A3F17XPvAibaEXe8v/8WpHvRKTnEWd4wFF8fQ</td>\n",
       "      <td>'2020-11-18'</td>\n",
       "      <td>TOEIC_SW</td>\n",
       "      <td>NaN</td>\n",
       "      <td>155.0</td>\n",
       "      <td>NaN</td>\n",
       "      <td>140.0</td>\n",
       "      <td>295</td>\n",
       "    </tr>\n",
       "    <tr>\n",
       "      <th>3414</th>\n",
       "      <td>C8870312XPvAibaEXe/ggdm4YTR3E0rDwdEhrVkf</td>\n",
       "      <td>'2021-04-17'</td>\n",
       "      <td>TOEIC_SW</td>\n",
       "      <td>NaN</td>\n",
       "      <td>95.0</td>\n",
       "      <td>NaN</td>\n",
       "      <td>110.0</td>\n",
       "      <td>205</td>\n",
       "    </tr>\n",
       "    <tr>\n",
       "      <th>3424</th>\n",
       "      <td>E9DF598BXPvAibaEXe8VMicbCMuSMLnvtON9COoy</td>\n",
       "      <td>'2021-04-17'</td>\n",
       "      <td>TOEIC_SW</td>\n",
       "      <td>NaN</td>\n",
       "      <td>140.0</td>\n",
       "      <td>NaN</td>\n",
       "      <td>105.0</td>\n",
       "      <td>245</td>\n",
       "    </tr>\n",
       "    <tr>\n",
       "      <th>3426</th>\n",
       "      <td>8F304F0CXPvAibaEXe+NaxazXn6OZBkD99pdogQN</td>\n",
       "      <td>'2021-04-11'</td>\n",
       "      <td>TOEIC_SW</td>\n",
       "      <td>NaN</td>\n",
       "      <td>160.0</td>\n",
       "      <td>NaN</td>\n",
       "      <td>105.0</td>\n",
       "      <td>265</td>\n",
       "    </tr>\n",
       "  </tbody>\n",
       "</table>\n",
       "<p>284 rows × 8 columns</p>\n",
       "</div>"
      ],
      "text/plain": [
       "                                          masv        ngaythi    loaixn  \\\n",
       "242   D5FA45FAXPvAibaEXe+Om5b1Z5BSka3wiqaJgWti     2018-10-14  TOEIC_SW   \n",
       "258   8C53D0BDXPvAibaEXe8zBeLfIMmoBPnGRTUU76bE     2018-12-02  TOEIC_SW   \n",
       "294   DAA05B2CXPvAibaEXe/JKySBFnJ8IgkxHvBufbd3     2019-01-17  TOEIC_SW   \n",
       "299   FD98FF70XPvAibaEXe88tz7NL7l/gpmosb/DWOS+     2018-11-25  TOEIC_SW   \n",
       "330   118F3451XPvAibaEXe+xw+0gOjOR0LX1Iih/kDxx     2019-02-21  TOEIC_SW   \n",
       "...                                        ...            ...       ...   \n",
       "3404  A3BB1346XPvAibaEXe/ggdm4YTR3EzeDsR18exVD   '2021-03-20'  TOEIC_SW   \n",
       "3408  EF8A3F17XPvAibaEXe8v/8WpHvRKTnEWd4wFF8fQ   '2020-11-18'  TOEIC_SW   \n",
       "3414  C8870312XPvAibaEXe/ggdm4YTR3E0rDwdEhrVkf   '2021-04-17'  TOEIC_SW   \n",
       "3424  E9DF598BXPvAibaEXe8VMicbCMuSMLnvtON9COoy   '2021-04-17'  TOEIC_SW   \n",
       "3426  8F304F0CXPvAibaEXe+NaxazXn6OZBkD99pdogQN   '2021-04-11'  TOEIC_SW   \n",
       "\n",
       "      listening  speaking  reading  writing  total  \n",
       "242         NaN     100.0      NaN    130.0    230  \n",
       "258         NaN     110.0      NaN    100.0    210  \n",
       "294         NaN     110.0      NaN    120.0    230  \n",
       "299         NaN      90.0      NaN    115.0    205  \n",
       "330         NaN     115.0      NaN    115.0    230  \n",
       "...         ...       ...      ...      ...    ...  \n",
       "3404        NaN     115.0      NaN    120.0    235  \n",
       "3408        NaN     155.0      NaN    140.0    295  \n",
       "3414        NaN      95.0      NaN    110.0    205  \n",
       "3424        NaN     140.0      NaN    105.0    245  \n",
       "3426        NaN     160.0      NaN    105.0    265  \n",
       "\n",
       "[284 rows x 8 columns]"
      ]
     },
     "execution_count": 147,
     "metadata": {},
     "output_type": "execute_result"
    }
   ],
   "source": [
    "df_toeic_sw = df_toeic_sw.drop([\"id\",\" url\"], axis = 1).rename(columns= {\" url.1\": \"listening\", \" loaixn.1\": \"speaking\",\n",
    "                             \" listening\": \"reading\",\" speaking\": \"writing\", \" reading\": \"total\"})\n",
    "df_toeic_sw[\"total\"] = df_toeic_sw[\"speaking\"].astype(\"int\") + df_toeic_sw[\"writing\"].astype(\"int\")\n",
    "df_toeic_sw"
   ]
  },
  {
   "cell_type": "code",
   "execution_count": 148,
   "metadata": {},
   "outputs": [
    {
     "data": {
      "application/vnd.plotly.v1+json": {
       "config": {
        "plotlyServerURL": "https://plot.ly"
       },
       "data": [
        {
         "name": "Speaking",
         "type": "bar",
         "x": [
          110,
          100,
          115,
          130,
          95,
          120,
          125,
          90,
          105,
          155,
          80,
          140,
          135,
          85,
          150,
          70,
          145,
          75,
          175,
          170,
          160
         ],
         "y": [
          42,
          34,
          30,
          22,
          22,
          20,
          16,
          13,
          12,
          10,
          10,
          8,
          8,
          8,
          6,
          6,
          6,
          5,
          2,
          2,
          2
         ]
        },
        {
         "name": "Writing",
         "type": "bar",
         "x": [
          115,
          110,
          105,
          120,
          100,
          125,
          95,
          150,
          90,
          130,
          160,
          145,
          155,
          140,
          135,
          190,
          170,
          180
         ],
         "y": [
          52,
          40,
          38,
          28,
          26,
          26,
          16,
          14,
          10,
          8,
          6,
          4,
          4,
          4,
          2,
          2,
          2,
          2
         ]
        }
       ],
       "layout": {
        "template": {
         "data": {
          "bar": [
           {
            "error_x": {
             "color": "#2a3f5f"
            },
            "error_y": {
             "color": "#2a3f5f"
            },
            "marker": {
             "line": {
              "color": "#E5ECF6",
              "width": 0.5
             },
             "pattern": {
              "fillmode": "overlay",
              "size": 10,
              "solidity": 0.2
             }
            },
            "type": "bar"
           }
          ],
          "barpolar": [
           {
            "marker": {
             "line": {
              "color": "#E5ECF6",
              "width": 0.5
             },
             "pattern": {
              "fillmode": "overlay",
              "size": 10,
              "solidity": 0.2
             }
            },
            "type": "barpolar"
           }
          ],
          "carpet": [
           {
            "aaxis": {
             "endlinecolor": "#2a3f5f",
             "gridcolor": "white",
             "linecolor": "white",
             "minorgridcolor": "white",
             "startlinecolor": "#2a3f5f"
            },
            "baxis": {
             "endlinecolor": "#2a3f5f",
             "gridcolor": "white",
             "linecolor": "white",
             "minorgridcolor": "white",
             "startlinecolor": "#2a3f5f"
            },
            "type": "carpet"
           }
          ],
          "choropleth": [
           {
            "colorbar": {
             "outlinewidth": 0,
             "ticks": ""
            },
            "type": "choropleth"
           }
          ],
          "contour": [
           {
            "colorbar": {
             "outlinewidth": 0,
             "ticks": ""
            },
            "colorscale": [
             [
              0,
              "#0d0887"
             ],
             [
              0.1111111111111111,
              "#46039f"
             ],
             [
              0.2222222222222222,
              "#7201a8"
             ],
             [
              0.3333333333333333,
              "#9c179e"
             ],
             [
              0.4444444444444444,
              "#bd3786"
             ],
             [
              0.5555555555555556,
              "#d8576b"
             ],
             [
              0.6666666666666666,
              "#ed7953"
             ],
             [
              0.7777777777777778,
              "#fb9f3a"
             ],
             [
              0.8888888888888888,
              "#fdca26"
             ],
             [
              1,
              "#f0f921"
             ]
            ],
            "type": "contour"
           }
          ],
          "contourcarpet": [
           {
            "colorbar": {
             "outlinewidth": 0,
             "ticks": ""
            },
            "type": "contourcarpet"
           }
          ],
          "heatmap": [
           {
            "colorbar": {
             "outlinewidth": 0,
             "ticks": ""
            },
            "colorscale": [
             [
              0,
              "#0d0887"
             ],
             [
              0.1111111111111111,
              "#46039f"
             ],
             [
              0.2222222222222222,
              "#7201a8"
             ],
             [
              0.3333333333333333,
              "#9c179e"
             ],
             [
              0.4444444444444444,
              "#bd3786"
             ],
             [
              0.5555555555555556,
              "#d8576b"
             ],
             [
              0.6666666666666666,
              "#ed7953"
             ],
             [
              0.7777777777777778,
              "#fb9f3a"
             ],
             [
              0.8888888888888888,
              "#fdca26"
             ],
             [
              1,
              "#f0f921"
             ]
            ],
            "type": "heatmap"
           }
          ],
          "heatmapgl": [
           {
            "colorbar": {
             "outlinewidth": 0,
             "ticks": ""
            },
            "colorscale": [
             [
              0,
              "#0d0887"
             ],
             [
              0.1111111111111111,
              "#46039f"
             ],
             [
              0.2222222222222222,
              "#7201a8"
             ],
             [
              0.3333333333333333,
              "#9c179e"
             ],
             [
              0.4444444444444444,
              "#bd3786"
             ],
             [
              0.5555555555555556,
              "#d8576b"
             ],
             [
              0.6666666666666666,
              "#ed7953"
             ],
             [
              0.7777777777777778,
              "#fb9f3a"
             ],
             [
              0.8888888888888888,
              "#fdca26"
             ],
             [
              1,
              "#f0f921"
             ]
            ],
            "type": "heatmapgl"
           }
          ],
          "histogram": [
           {
            "marker": {
             "pattern": {
              "fillmode": "overlay",
              "size": 10,
              "solidity": 0.2
             }
            },
            "type": "histogram"
           }
          ],
          "histogram2d": [
           {
            "colorbar": {
             "outlinewidth": 0,
             "ticks": ""
            },
            "colorscale": [
             [
              0,
              "#0d0887"
             ],
             [
              0.1111111111111111,
              "#46039f"
             ],
             [
              0.2222222222222222,
              "#7201a8"
             ],
             [
              0.3333333333333333,
              "#9c179e"
             ],
             [
              0.4444444444444444,
              "#bd3786"
             ],
             [
              0.5555555555555556,
              "#d8576b"
             ],
             [
              0.6666666666666666,
              "#ed7953"
             ],
             [
              0.7777777777777778,
              "#fb9f3a"
             ],
             [
              0.8888888888888888,
              "#fdca26"
             ],
             [
              1,
              "#f0f921"
             ]
            ],
            "type": "histogram2d"
           }
          ],
          "histogram2dcontour": [
           {
            "colorbar": {
             "outlinewidth": 0,
             "ticks": ""
            },
            "colorscale": [
             [
              0,
              "#0d0887"
             ],
             [
              0.1111111111111111,
              "#46039f"
             ],
             [
              0.2222222222222222,
              "#7201a8"
             ],
             [
              0.3333333333333333,
              "#9c179e"
             ],
             [
              0.4444444444444444,
              "#bd3786"
             ],
             [
              0.5555555555555556,
              "#d8576b"
             ],
             [
              0.6666666666666666,
              "#ed7953"
             ],
             [
              0.7777777777777778,
              "#fb9f3a"
             ],
             [
              0.8888888888888888,
              "#fdca26"
             ],
             [
              1,
              "#f0f921"
             ]
            ],
            "type": "histogram2dcontour"
           }
          ],
          "mesh3d": [
           {
            "colorbar": {
             "outlinewidth": 0,
             "ticks": ""
            },
            "type": "mesh3d"
           }
          ],
          "parcoords": [
           {
            "line": {
             "colorbar": {
              "outlinewidth": 0,
              "ticks": ""
             }
            },
            "type": "parcoords"
           }
          ],
          "pie": [
           {
            "automargin": true,
            "type": "pie"
           }
          ],
          "scatter": [
           {
            "fillpattern": {
             "fillmode": "overlay",
             "size": 10,
             "solidity": 0.2
            },
            "type": "scatter"
           }
          ],
          "scatter3d": [
           {
            "line": {
             "colorbar": {
              "outlinewidth": 0,
              "ticks": ""
             }
            },
            "marker": {
             "colorbar": {
              "outlinewidth": 0,
              "ticks": ""
             }
            },
            "type": "scatter3d"
           }
          ],
          "scattercarpet": [
           {
            "marker": {
             "colorbar": {
              "outlinewidth": 0,
              "ticks": ""
             }
            },
            "type": "scattercarpet"
           }
          ],
          "scattergeo": [
           {
            "marker": {
             "colorbar": {
              "outlinewidth": 0,
              "ticks": ""
             }
            },
            "type": "scattergeo"
           }
          ],
          "scattergl": [
           {
            "marker": {
             "colorbar": {
              "outlinewidth": 0,
              "ticks": ""
             }
            },
            "type": "scattergl"
           }
          ],
          "scattermapbox": [
           {
            "marker": {
             "colorbar": {
              "outlinewidth": 0,
              "ticks": ""
             }
            },
            "type": "scattermapbox"
           }
          ],
          "scatterpolar": [
           {
            "marker": {
             "colorbar": {
              "outlinewidth": 0,
              "ticks": ""
             }
            },
            "type": "scatterpolar"
           }
          ],
          "scatterpolargl": [
           {
            "marker": {
             "colorbar": {
              "outlinewidth": 0,
              "ticks": ""
             }
            },
            "type": "scatterpolargl"
           }
          ],
          "scatterternary": [
           {
            "marker": {
             "colorbar": {
              "outlinewidth": 0,
              "ticks": ""
             }
            },
            "type": "scatterternary"
           }
          ],
          "surface": [
           {
            "colorbar": {
             "outlinewidth": 0,
             "ticks": ""
            },
            "colorscale": [
             [
              0,
              "#0d0887"
             ],
             [
              0.1111111111111111,
              "#46039f"
             ],
             [
              0.2222222222222222,
              "#7201a8"
             ],
             [
              0.3333333333333333,
              "#9c179e"
             ],
             [
              0.4444444444444444,
              "#bd3786"
             ],
             [
              0.5555555555555556,
              "#d8576b"
             ],
             [
              0.6666666666666666,
              "#ed7953"
             ],
             [
              0.7777777777777778,
              "#fb9f3a"
             ],
             [
              0.8888888888888888,
              "#fdca26"
             ],
             [
              1,
              "#f0f921"
             ]
            ],
            "type": "surface"
           }
          ],
          "table": [
           {
            "cells": {
             "fill": {
              "color": "#EBF0F8"
             },
             "line": {
              "color": "white"
             }
            },
            "header": {
             "fill": {
              "color": "#C8D4E3"
             },
             "line": {
              "color": "white"
             }
            },
            "type": "table"
           }
          ]
         },
         "layout": {
          "annotationdefaults": {
           "arrowcolor": "#2a3f5f",
           "arrowhead": 0,
           "arrowwidth": 1
          },
          "autotypenumbers": "strict",
          "coloraxis": {
           "colorbar": {
            "outlinewidth": 0,
            "ticks": ""
           }
          },
          "colorscale": {
           "diverging": [
            [
             0,
             "#8e0152"
            ],
            [
             0.1,
             "#c51b7d"
            ],
            [
             0.2,
             "#de77ae"
            ],
            [
             0.3,
             "#f1b6da"
            ],
            [
             0.4,
             "#fde0ef"
            ],
            [
             0.5,
             "#f7f7f7"
            ],
            [
             0.6,
             "#e6f5d0"
            ],
            [
             0.7,
             "#b8e186"
            ],
            [
             0.8,
             "#7fbc41"
            ],
            [
             0.9,
             "#4d9221"
            ],
            [
             1,
             "#276419"
            ]
           ],
           "sequential": [
            [
             0,
             "#0d0887"
            ],
            [
             0.1111111111111111,
             "#46039f"
            ],
            [
             0.2222222222222222,
             "#7201a8"
            ],
            [
             0.3333333333333333,
             "#9c179e"
            ],
            [
             0.4444444444444444,
             "#bd3786"
            ],
            [
             0.5555555555555556,
             "#d8576b"
            ],
            [
             0.6666666666666666,
             "#ed7953"
            ],
            [
             0.7777777777777778,
             "#fb9f3a"
            ],
            [
             0.8888888888888888,
             "#fdca26"
            ],
            [
             1,
             "#f0f921"
            ]
           ],
           "sequentialminus": [
            [
             0,
             "#0d0887"
            ],
            [
             0.1111111111111111,
             "#46039f"
            ],
            [
             0.2222222222222222,
             "#7201a8"
            ],
            [
             0.3333333333333333,
             "#9c179e"
            ],
            [
             0.4444444444444444,
             "#bd3786"
            ],
            [
             0.5555555555555556,
             "#d8576b"
            ],
            [
             0.6666666666666666,
             "#ed7953"
            ],
            [
             0.7777777777777778,
             "#fb9f3a"
            ],
            [
             0.8888888888888888,
             "#fdca26"
            ],
            [
             1,
             "#f0f921"
            ]
           ]
          },
          "colorway": [
           "#636efa",
           "#EF553B",
           "#00cc96",
           "#ab63fa",
           "#FFA15A",
           "#19d3f3",
           "#FF6692",
           "#B6E880",
           "#FF97FF",
           "#FECB52"
          ],
          "font": {
           "color": "#2a3f5f"
          },
          "geo": {
           "bgcolor": "white",
           "lakecolor": "white",
           "landcolor": "#E5ECF6",
           "showlakes": true,
           "showland": true,
           "subunitcolor": "white"
          },
          "hoverlabel": {
           "align": "left"
          },
          "hovermode": "closest",
          "mapbox": {
           "style": "light"
          },
          "paper_bgcolor": "white",
          "plot_bgcolor": "#E5ECF6",
          "polar": {
           "angularaxis": {
            "gridcolor": "white",
            "linecolor": "white",
            "ticks": ""
           },
           "bgcolor": "#E5ECF6",
           "radialaxis": {
            "gridcolor": "white",
            "linecolor": "white",
            "ticks": ""
           }
          },
          "scene": {
           "xaxis": {
            "backgroundcolor": "#E5ECF6",
            "gridcolor": "white",
            "gridwidth": 2,
            "linecolor": "white",
            "showbackground": true,
            "ticks": "",
            "zerolinecolor": "white"
           },
           "yaxis": {
            "backgroundcolor": "#E5ECF6",
            "gridcolor": "white",
            "gridwidth": 2,
            "linecolor": "white",
            "showbackground": true,
            "ticks": "",
            "zerolinecolor": "white"
           },
           "zaxis": {
            "backgroundcolor": "#E5ECF6",
            "gridcolor": "white",
            "gridwidth": 2,
            "linecolor": "white",
            "showbackground": true,
            "ticks": "",
            "zerolinecolor": "white"
           }
          },
          "shapedefaults": {
           "line": {
            "color": "#2a3f5f"
           }
          },
          "ternary": {
           "aaxis": {
            "gridcolor": "white",
            "linecolor": "white",
            "ticks": ""
           },
           "baxis": {
            "gridcolor": "white",
            "linecolor": "white",
            "ticks": ""
           },
           "bgcolor": "#E5ECF6",
           "caxis": {
            "gridcolor": "white",
            "linecolor": "white",
            "ticks": ""
           }
          },
          "title": {
           "x": 0.05
          },
          "xaxis": {
           "automargin": true,
           "gridcolor": "white",
           "linecolor": "white",
           "ticks": "",
           "title": {
            "standoff": 15
           },
           "zerolinecolor": "white",
           "zerolinewidth": 2
          },
          "yaxis": {
           "automargin": true,
           "gridcolor": "white",
           "linecolor": "white",
           "ticks": "",
           "title": {
            "standoff": 15
           },
           "zerolinecolor": "white",
           "zerolinewidth": 2
          }
         }
        }
       }
      }
     },
     "metadata": {},
     "output_type": "display_data"
    }
   ],
   "source": [
    "fig = go.Figure()\n",
    "fig.add_trace(\n",
    "    go.Bar(x = df_toeic_sw[\"speaking\"].value_counts().index,\n",
    "           y = df_toeic_sw[\"speaking\"].value_counts().values, name = \"Speaking\")\n",
    ")\n",
    "fig.add_trace(\n",
    "    go.Bar(x = df_toeic_sw[\"writing\"].value_counts().index,\n",
    "           y = df_toeic_sw[\"writing\"].value_counts().values, name=\"Writing\")\n",
    ")"
   ]
  },
  {
   "cell_type": "code",
   "execution_count": 149,
   "metadata": {},
   "outputs": [
    {
     "data": {
      "application/vnd.plotly.v1+json": {
       "config": {
        "plotlyServerURL": "https://plot.ly"
       },
       "data": [
        {
         "alignmentgroup": "True",
         "hovertemplate": "total=%{x}<br>Số lượng=%{y}<br>color=%{marker.color}<extra></extra>",
         "legendgroup": "",
         "marker": {
          "color": [
           26,
           22,
           22,
           20,
           18,
           16,
           16,
           15,
           14,
           14,
           14,
           14,
           12,
           10,
           10,
           8,
           7,
           6,
           4,
           4,
           2,
           2,
           2,
           2,
           2,
           2
          ],
          "coloraxis": "coloraxis",
          "pattern": {
           "shape": ""
          }
         },
         "name": "",
         "offsetgroup": "",
         "orientation": "v",
         "showlegend": false,
         "textposition": "auto",
         "type": "bar",
         "x": [
          215,
          230,
          195,
          210,
          225,
          235,
          200,
          205,
          220,
          185,
          240,
          250,
          280,
          265,
          245,
          270,
          190,
          255,
          310,
          295,
          360,
          320,
          275,
          305,
          285,
          260
         ],
         "xaxis": "x",
         "y": [
          26,
          22,
          22,
          20,
          18,
          16,
          16,
          15,
          14,
          14,
          14,
          14,
          12,
          10,
          10,
          8,
          7,
          6,
          4,
          4,
          2,
          2,
          2,
          2,
          2,
          2
         ],
         "yaxis": "y"
        }
       ],
       "layout": {
        "barmode": "relative",
        "coloraxis": {
         "colorbar": {
          "title": {
           "text": "color"
          }
         },
         "colorscale": [
          [
           0,
           "#0d0887"
          ],
          [
           0.1111111111111111,
           "#46039f"
          ],
          [
           0.2222222222222222,
           "#7201a8"
          ],
          [
           0.3333333333333333,
           "#9c179e"
          ],
          [
           0.4444444444444444,
           "#bd3786"
          ],
          [
           0.5555555555555556,
           "#d8576b"
          ],
          [
           0.6666666666666666,
           "#ed7953"
          ],
          [
           0.7777777777777778,
           "#fb9f3a"
          ],
          [
           0.8888888888888888,
           "#fdca26"
          ],
          [
           1,
           "#f0f921"
          ]
         ]
        },
        "legend": {
         "tracegroupgap": 0
        },
        "template": {
         "data": {
          "bar": [
           {
            "error_x": {
             "color": "#2a3f5f"
            },
            "error_y": {
             "color": "#2a3f5f"
            },
            "marker": {
             "line": {
              "color": "#E5ECF6",
              "width": 0.5
             },
             "pattern": {
              "fillmode": "overlay",
              "size": 10,
              "solidity": 0.2
             }
            },
            "type": "bar"
           }
          ],
          "barpolar": [
           {
            "marker": {
             "line": {
              "color": "#E5ECF6",
              "width": 0.5
             },
             "pattern": {
              "fillmode": "overlay",
              "size": 10,
              "solidity": 0.2
             }
            },
            "type": "barpolar"
           }
          ],
          "carpet": [
           {
            "aaxis": {
             "endlinecolor": "#2a3f5f",
             "gridcolor": "white",
             "linecolor": "white",
             "minorgridcolor": "white",
             "startlinecolor": "#2a3f5f"
            },
            "baxis": {
             "endlinecolor": "#2a3f5f",
             "gridcolor": "white",
             "linecolor": "white",
             "minorgridcolor": "white",
             "startlinecolor": "#2a3f5f"
            },
            "type": "carpet"
           }
          ],
          "choropleth": [
           {
            "colorbar": {
             "outlinewidth": 0,
             "ticks": ""
            },
            "type": "choropleth"
           }
          ],
          "contour": [
           {
            "colorbar": {
             "outlinewidth": 0,
             "ticks": ""
            },
            "colorscale": [
             [
              0,
              "#0d0887"
             ],
             [
              0.1111111111111111,
              "#46039f"
             ],
             [
              0.2222222222222222,
              "#7201a8"
             ],
             [
              0.3333333333333333,
              "#9c179e"
             ],
             [
              0.4444444444444444,
              "#bd3786"
             ],
             [
              0.5555555555555556,
              "#d8576b"
             ],
             [
              0.6666666666666666,
              "#ed7953"
             ],
             [
              0.7777777777777778,
              "#fb9f3a"
             ],
             [
              0.8888888888888888,
              "#fdca26"
             ],
             [
              1,
              "#f0f921"
             ]
            ],
            "type": "contour"
           }
          ],
          "contourcarpet": [
           {
            "colorbar": {
             "outlinewidth": 0,
             "ticks": ""
            },
            "type": "contourcarpet"
           }
          ],
          "heatmap": [
           {
            "colorbar": {
             "outlinewidth": 0,
             "ticks": ""
            },
            "colorscale": [
             [
              0,
              "#0d0887"
             ],
             [
              0.1111111111111111,
              "#46039f"
             ],
             [
              0.2222222222222222,
              "#7201a8"
             ],
             [
              0.3333333333333333,
              "#9c179e"
             ],
             [
              0.4444444444444444,
              "#bd3786"
             ],
             [
              0.5555555555555556,
              "#d8576b"
             ],
             [
              0.6666666666666666,
              "#ed7953"
             ],
             [
              0.7777777777777778,
              "#fb9f3a"
             ],
             [
              0.8888888888888888,
              "#fdca26"
             ],
             [
              1,
              "#f0f921"
             ]
            ],
            "type": "heatmap"
           }
          ],
          "heatmapgl": [
           {
            "colorbar": {
             "outlinewidth": 0,
             "ticks": ""
            },
            "colorscale": [
             [
              0,
              "#0d0887"
             ],
             [
              0.1111111111111111,
              "#46039f"
             ],
             [
              0.2222222222222222,
              "#7201a8"
             ],
             [
              0.3333333333333333,
              "#9c179e"
             ],
             [
              0.4444444444444444,
              "#bd3786"
             ],
             [
              0.5555555555555556,
              "#d8576b"
             ],
             [
              0.6666666666666666,
              "#ed7953"
             ],
             [
              0.7777777777777778,
              "#fb9f3a"
             ],
             [
              0.8888888888888888,
              "#fdca26"
             ],
             [
              1,
              "#f0f921"
             ]
            ],
            "type": "heatmapgl"
           }
          ],
          "histogram": [
           {
            "marker": {
             "pattern": {
              "fillmode": "overlay",
              "size": 10,
              "solidity": 0.2
             }
            },
            "type": "histogram"
           }
          ],
          "histogram2d": [
           {
            "colorbar": {
             "outlinewidth": 0,
             "ticks": ""
            },
            "colorscale": [
             [
              0,
              "#0d0887"
             ],
             [
              0.1111111111111111,
              "#46039f"
             ],
             [
              0.2222222222222222,
              "#7201a8"
             ],
             [
              0.3333333333333333,
              "#9c179e"
             ],
             [
              0.4444444444444444,
              "#bd3786"
             ],
             [
              0.5555555555555556,
              "#d8576b"
             ],
             [
              0.6666666666666666,
              "#ed7953"
             ],
             [
              0.7777777777777778,
              "#fb9f3a"
             ],
             [
              0.8888888888888888,
              "#fdca26"
             ],
             [
              1,
              "#f0f921"
             ]
            ],
            "type": "histogram2d"
           }
          ],
          "histogram2dcontour": [
           {
            "colorbar": {
             "outlinewidth": 0,
             "ticks": ""
            },
            "colorscale": [
             [
              0,
              "#0d0887"
             ],
             [
              0.1111111111111111,
              "#46039f"
             ],
             [
              0.2222222222222222,
              "#7201a8"
             ],
             [
              0.3333333333333333,
              "#9c179e"
             ],
             [
              0.4444444444444444,
              "#bd3786"
             ],
             [
              0.5555555555555556,
              "#d8576b"
             ],
             [
              0.6666666666666666,
              "#ed7953"
             ],
             [
              0.7777777777777778,
              "#fb9f3a"
             ],
             [
              0.8888888888888888,
              "#fdca26"
             ],
             [
              1,
              "#f0f921"
             ]
            ],
            "type": "histogram2dcontour"
           }
          ],
          "mesh3d": [
           {
            "colorbar": {
             "outlinewidth": 0,
             "ticks": ""
            },
            "type": "mesh3d"
           }
          ],
          "parcoords": [
           {
            "line": {
             "colorbar": {
              "outlinewidth": 0,
              "ticks": ""
             }
            },
            "type": "parcoords"
           }
          ],
          "pie": [
           {
            "automargin": true,
            "type": "pie"
           }
          ],
          "scatter": [
           {
            "fillpattern": {
             "fillmode": "overlay",
             "size": 10,
             "solidity": 0.2
            },
            "type": "scatter"
           }
          ],
          "scatter3d": [
           {
            "line": {
             "colorbar": {
              "outlinewidth": 0,
              "ticks": ""
             }
            },
            "marker": {
             "colorbar": {
              "outlinewidth": 0,
              "ticks": ""
             }
            },
            "type": "scatter3d"
           }
          ],
          "scattercarpet": [
           {
            "marker": {
             "colorbar": {
              "outlinewidth": 0,
              "ticks": ""
             }
            },
            "type": "scattercarpet"
           }
          ],
          "scattergeo": [
           {
            "marker": {
             "colorbar": {
              "outlinewidth": 0,
              "ticks": ""
             }
            },
            "type": "scattergeo"
           }
          ],
          "scattergl": [
           {
            "marker": {
             "colorbar": {
              "outlinewidth": 0,
              "ticks": ""
             }
            },
            "type": "scattergl"
           }
          ],
          "scattermapbox": [
           {
            "marker": {
             "colorbar": {
              "outlinewidth": 0,
              "ticks": ""
             }
            },
            "type": "scattermapbox"
           }
          ],
          "scatterpolar": [
           {
            "marker": {
             "colorbar": {
              "outlinewidth": 0,
              "ticks": ""
             }
            },
            "type": "scatterpolar"
           }
          ],
          "scatterpolargl": [
           {
            "marker": {
             "colorbar": {
              "outlinewidth": 0,
              "ticks": ""
             }
            },
            "type": "scatterpolargl"
           }
          ],
          "scatterternary": [
           {
            "marker": {
             "colorbar": {
              "outlinewidth": 0,
              "ticks": ""
             }
            },
            "type": "scatterternary"
           }
          ],
          "surface": [
           {
            "colorbar": {
             "outlinewidth": 0,
             "ticks": ""
            },
            "colorscale": [
             [
              0,
              "#0d0887"
             ],
             [
              0.1111111111111111,
              "#46039f"
             ],
             [
              0.2222222222222222,
              "#7201a8"
             ],
             [
              0.3333333333333333,
              "#9c179e"
             ],
             [
              0.4444444444444444,
              "#bd3786"
             ],
             [
              0.5555555555555556,
              "#d8576b"
             ],
             [
              0.6666666666666666,
              "#ed7953"
             ],
             [
              0.7777777777777778,
              "#fb9f3a"
             ],
             [
              0.8888888888888888,
              "#fdca26"
             ],
             [
              1,
              "#f0f921"
             ]
            ],
            "type": "surface"
           }
          ],
          "table": [
           {
            "cells": {
             "fill": {
              "color": "#EBF0F8"
             },
             "line": {
              "color": "white"
             }
            },
            "header": {
             "fill": {
              "color": "#C8D4E3"
             },
             "line": {
              "color": "white"
             }
            },
            "type": "table"
           }
          ]
         },
         "layout": {
          "annotationdefaults": {
           "arrowcolor": "#2a3f5f",
           "arrowhead": 0,
           "arrowwidth": 1
          },
          "autotypenumbers": "strict",
          "coloraxis": {
           "colorbar": {
            "outlinewidth": 0,
            "ticks": ""
           }
          },
          "colorscale": {
           "diverging": [
            [
             0,
             "#8e0152"
            ],
            [
             0.1,
             "#c51b7d"
            ],
            [
             0.2,
             "#de77ae"
            ],
            [
             0.3,
             "#f1b6da"
            ],
            [
             0.4,
             "#fde0ef"
            ],
            [
             0.5,
             "#f7f7f7"
            ],
            [
             0.6,
             "#e6f5d0"
            ],
            [
             0.7,
             "#b8e186"
            ],
            [
             0.8,
             "#7fbc41"
            ],
            [
             0.9,
             "#4d9221"
            ],
            [
             1,
             "#276419"
            ]
           ],
           "sequential": [
            [
             0,
             "#0d0887"
            ],
            [
             0.1111111111111111,
             "#46039f"
            ],
            [
             0.2222222222222222,
             "#7201a8"
            ],
            [
             0.3333333333333333,
             "#9c179e"
            ],
            [
             0.4444444444444444,
             "#bd3786"
            ],
            [
             0.5555555555555556,
             "#d8576b"
            ],
            [
             0.6666666666666666,
             "#ed7953"
            ],
            [
             0.7777777777777778,
             "#fb9f3a"
            ],
            [
             0.8888888888888888,
             "#fdca26"
            ],
            [
             1,
             "#f0f921"
            ]
           ],
           "sequentialminus": [
            [
             0,
             "#0d0887"
            ],
            [
             0.1111111111111111,
             "#46039f"
            ],
            [
             0.2222222222222222,
             "#7201a8"
            ],
            [
             0.3333333333333333,
             "#9c179e"
            ],
            [
             0.4444444444444444,
             "#bd3786"
            ],
            [
             0.5555555555555556,
             "#d8576b"
            ],
            [
             0.6666666666666666,
             "#ed7953"
            ],
            [
             0.7777777777777778,
             "#fb9f3a"
            ],
            [
             0.8888888888888888,
             "#fdca26"
            ],
            [
             1,
             "#f0f921"
            ]
           ]
          },
          "colorway": [
           "#636efa",
           "#EF553B",
           "#00cc96",
           "#ab63fa",
           "#FFA15A",
           "#19d3f3",
           "#FF6692",
           "#B6E880",
           "#FF97FF",
           "#FECB52"
          ],
          "font": {
           "color": "#2a3f5f"
          },
          "geo": {
           "bgcolor": "white",
           "lakecolor": "white",
           "landcolor": "#E5ECF6",
           "showlakes": true,
           "showland": true,
           "subunitcolor": "white"
          },
          "hoverlabel": {
           "align": "left"
          },
          "hovermode": "closest",
          "mapbox": {
           "style": "light"
          },
          "paper_bgcolor": "white",
          "plot_bgcolor": "#E5ECF6",
          "polar": {
           "angularaxis": {
            "gridcolor": "white",
            "linecolor": "white",
            "ticks": ""
           },
           "bgcolor": "#E5ECF6",
           "radialaxis": {
            "gridcolor": "white",
            "linecolor": "white",
            "ticks": ""
           }
          },
          "scene": {
           "xaxis": {
            "backgroundcolor": "#E5ECF6",
            "gridcolor": "white",
            "gridwidth": 2,
            "linecolor": "white",
            "showbackground": true,
            "ticks": "",
            "zerolinecolor": "white"
           },
           "yaxis": {
            "backgroundcolor": "#E5ECF6",
            "gridcolor": "white",
            "gridwidth": 2,
            "linecolor": "white",
            "showbackground": true,
            "ticks": "",
            "zerolinecolor": "white"
           },
           "zaxis": {
            "backgroundcolor": "#E5ECF6",
            "gridcolor": "white",
            "gridwidth": 2,
            "linecolor": "white",
            "showbackground": true,
            "ticks": "",
            "zerolinecolor": "white"
           }
          },
          "shapedefaults": {
           "line": {
            "color": "#2a3f5f"
           }
          },
          "ternary": {
           "aaxis": {
            "gridcolor": "white",
            "linecolor": "white",
            "ticks": ""
           },
           "baxis": {
            "gridcolor": "white",
            "linecolor": "white",
            "ticks": ""
           },
           "bgcolor": "#E5ECF6",
           "caxis": {
            "gridcolor": "white",
            "linecolor": "white",
            "ticks": ""
           }
          },
          "title": {
           "x": 0.05
          },
          "xaxis": {
           "automargin": true,
           "gridcolor": "white",
           "linecolor": "white",
           "ticks": "",
           "title": {
            "standoff": 15
           },
           "zerolinecolor": "white",
           "zerolinewidth": 2
          },
          "yaxis": {
           "automargin": true,
           "gridcolor": "white",
           "linecolor": "white",
           "ticks": "",
           "title": {
            "standoff": 15
           },
           "zerolinecolor": "white",
           "zerolinewidth": 2
          }
         }
        },
        "title": {
         "text": "Dữ liệu tổng điểm của chứng chỉ TOEIC_SW"
        },
        "xaxis": {
         "anchor": "y",
         "domain": [
          0,
          1
         ],
         "title": {
          "text": "total"
         }
        },
        "yaxis": {
         "anchor": "x",
         "domain": [
          0,
          1
         ],
         "title": {
          "text": "Số lượng"
         }
        }
       }
      }
     },
     "metadata": {},
     "output_type": "display_data"
    }
   ],
   "source": [
    "fig = px.bar(df_toeic_sw, x=df_toeic_sw[\"total\"].value_counts().index, \n",
    "             y=df_toeic_sw[\"total\"].value_counts().values,\n",
    "             color=df_toeic_sw[\"total\"].value_counts().values,\n",
    "             labels = {\"x\":\"total\",\n",
    "                       \"y\": \"Số lượng\"},\n",
    "             title=\"Dữ liệu tổng điểm của chứng chỉ TOEIC_SW\")\n",
    "fig"
   ]
  },
  {
   "attachments": {},
   "cell_type": "markdown",
   "metadata": {},
   "source": [
    "# TOEFL_iBT"
   ]
  },
  {
   "cell_type": "code",
   "execution_count": 191,
   "metadata": {},
   "outputs": [
    {
     "data": {
      "text/html": [
       "<div>\n",
       "<style scoped>\n",
       "    .dataframe tbody tr th:only-of-type {\n",
       "        vertical-align: middle;\n",
       "    }\n",
       "\n",
       "    .dataframe tbody tr th {\n",
       "        vertical-align: top;\n",
       "    }\n",
       "\n",
       "    .dataframe thead th {\n",
       "        text-align: right;\n",
       "    }\n",
       "</style>\n",
       "<table border=\"1\" class=\"dataframe\">\n",
       "  <thead>\n",
       "    <tr style=\"text-align: right;\">\n",
       "      <th></th>\n",
       "      <th>id</th>\n",
       "      <th>masv</th>\n",
       "      <th>ngaythi</th>\n",
       "      <th>url</th>\n",
       "      <th>loaixn</th>\n",
       "      <th>url.1</th>\n",
       "      <th>loaixn.1</th>\n",
       "      <th>listening</th>\n",
       "      <th>speaking</th>\n",
       "      <th>reading</th>\n",
       "    </tr>\n",
       "  </thead>\n",
       "  <tbody>\n",
       "    <tr>\n",
       "      <th>297</th>\n",
       "      <td>463</td>\n",
       "      <td>A02A1D04XPvAibaEXe+4XPPXlKRz0LYwzmMOM+z2</td>\n",
       "      <td>2018-04-12</td>\n",
       "      <td>bangcap/15520929/15520929_bangcap_TOEFL%20iBT...</td>\n",
       "      <td>TOEFL iBT</td>\n",
       "      <td>NaN</td>\n",
       "      <td>NaN</td>\n",
       "      <td>NaN</td>\n",
       "      <td>NaN</td>\n",
       "      <td>NaN</td>\n",
       "    </tr>\n",
       "    <tr>\n",
       "      <th>794</th>\n",
       "      <td>1096</td>\n",
       "      <td>43CCA7BDXPvAibaEXe9DjwUQ+Cta8QZaLPJ5vcTz</td>\n",
       "      <td>2020-05-16</td>\n",
       "      <td>bangcap/15520283/15520283_bangcap_TOEFL%20iBT...</td>\n",
       "      <td>TOEFL iBT</td>\n",
       "      <td>NaN</td>\n",
       "      <td>NaN</td>\n",
       "      <td>NaN</td>\n",
       "      <td>NaN</td>\n",
       "      <td>93</td>\n",
       "    </tr>\n",
       "    <tr>\n",
       "      <th>2061</th>\n",
       "      <td>463</td>\n",
       "      <td>557CA448XPvAibaEXe/ggdm4YTR3E99rcq2EYtdk</td>\n",
       "      <td>'2018-04-12'</td>\n",
       "      <td>'bangcap/15520929/15520929_bangcap_TOEFL%20iB...</td>\n",
       "      <td>TOEFL iBT</td>\n",
       "      <td>NaN</td>\n",
       "      <td>NaN</td>\n",
       "      <td>NaN</td>\n",
       "      <td>NaN</td>\n",
       "      <td>NaN</td>\n",
       "    </tr>\n",
       "    <tr>\n",
       "      <th>2558</th>\n",
       "      <td>1096</td>\n",
       "      <td>F16A9951XPvAibaEXe/ggdm4YTR3E68Z/ICJSHEm</td>\n",
       "      <td>'2020-05-16'</td>\n",
       "      <td>'bangcap/15520283/15520283_bangcap_TOEFL%20iB...</td>\n",
       "      <td>TOEFL iBT</td>\n",
       "      <td>NaN</td>\n",
       "      <td>NaN</td>\n",
       "      <td>NaN</td>\n",
       "      <td>NaN</td>\n",
       "      <td>'93'</td>\n",
       "    </tr>\n",
       "  </tbody>\n",
       "</table>\n",
       "</div>"
      ],
      "text/plain": [
       "        id                                      masv        ngaythi  \\\n",
       "297    463  A02A1D04XPvAibaEXe+4XPPXlKRz0LYwzmMOM+z2     2018-04-12   \n",
       "794   1096  43CCA7BDXPvAibaEXe9DjwUQ+Cta8QZaLPJ5vcTz     2020-05-16   \n",
       "2061   463  557CA448XPvAibaEXe/ggdm4YTR3E99rcq2EYtdk   '2018-04-12'   \n",
       "2558  1096  F16A9951XPvAibaEXe/ggdm4YTR3E68Z/ICJSHEm   '2020-05-16'   \n",
       "\n",
       "                                                    url     loaixn   url.1  \\\n",
       "297    bangcap/15520929/15520929_bangcap_TOEFL%20iBT...  TOEFL iBT     NaN   \n",
       "794    bangcap/15520283/15520283_bangcap_TOEFL%20iBT...  TOEFL iBT     NaN   \n",
       "2061   'bangcap/15520929/15520929_bangcap_TOEFL%20iB...  TOEFL iBT     NaN   \n",
       "2558   'bangcap/15520283/15520283_bangcap_TOEFL%20iB...  TOEFL iBT     NaN   \n",
       "\n",
       "       loaixn.1   listening   speaking  reading  \n",
       "297         NaN         NaN        NaN      NaN  \n",
       "794         NaN         NaN        NaN       93  \n",
       "2061        NaN         NaN        NaN      NaN  \n",
       "2558        NaN         NaN        NaN     '93'  "
      ]
     },
     "execution_count": 191,
     "metadata": {},
     "output_type": "execute_result"
    }
   ],
   "source": [
    "df_toefl_ibt = df.loc[(df[\" loaixn\"] == \"TOEFL iBT\")]\n",
    "df_toefl_ibt"
   ]
  },
  {
   "cell_type": "code",
   "execution_count": 192,
   "metadata": {},
   "outputs": [],
   "source": [
    "df_toefl_ibt = df_toefl_ibt.drop([\"id\",\" url\"], axis = 1).rename(columns= {\" url.1\": \"listening\", \" loaixn.1\": \"speaking\",\n",
    "                             \" listening\": \"reading\",\" speaking\": \"writing\", \" reading\": \"total\"})\n",
    "df_toefl_ibt = df_toefl_ibt.dropna(subset=[\"total\"])"
   ]
  },
  {
   "cell_type": "code",
   "execution_count": 193,
   "metadata": {},
   "outputs": [
    {
     "data": {
      "text/html": [
       "<div>\n",
       "<style scoped>\n",
       "    .dataframe tbody tr th:only-of-type {\n",
       "        vertical-align: middle;\n",
       "    }\n",
       "\n",
       "    .dataframe tbody tr th {\n",
       "        vertical-align: top;\n",
       "    }\n",
       "\n",
       "    .dataframe thead th {\n",
       "        text-align: right;\n",
       "    }\n",
       "</style>\n",
       "<table border=\"1\" class=\"dataframe\">\n",
       "  <thead>\n",
       "    <tr style=\"text-align: right;\">\n",
       "      <th></th>\n",
       "      <th>masv</th>\n",
       "      <th>ngaythi</th>\n",
       "      <th>loaixn</th>\n",
       "      <th>listening</th>\n",
       "      <th>speaking</th>\n",
       "      <th>reading</th>\n",
       "      <th>writing</th>\n",
       "      <th>total</th>\n",
       "    </tr>\n",
       "  </thead>\n",
       "  <tbody>\n",
       "    <tr>\n",
       "      <th>794</th>\n",
       "      <td>43CCA7BDXPvAibaEXe9DjwUQ+Cta8QZaLPJ5vcTz</td>\n",
       "      <td>2020-05-16</td>\n",
       "      <td>TOEFL iBT</td>\n",
       "      <td>NaN</td>\n",
       "      <td>NaN</td>\n",
       "      <td>NaN</td>\n",
       "      <td>NaN</td>\n",
       "      <td>93</td>\n",
       "    </tr>\n",
       "    <tr>\n",
       "      <th>2558</th>\n",
       "      <td>F16A9951XPvAibaEXe/ggdm4YTR3E68Z/ICJSHEm</td>\n",
       "      <td>'2020-05-16'</td>\n",
       "      <td>TOEFL iBT</td>\n",
       "      <td>NaN</td>\n",
       "      <td>NaN</td>\n",
       "      <td>NaN</td>\n",
       "      <td>NaN</td>\n",
       "      <td>93</td>\n",
       "    </tr>\n",
       "  </tbody>\n",
       "</table>\n",
       "</div>"
      ],
      "text/plain": [
       "                                          masv        ngaythi     loaixn  \\\n",
       "794   43CCA7BDXPvAibaEXe9DjwUQ+Cta8QZaLPJ5vcTz     2020-05-16  TOEFL iBT   \n",
       "2558  F16A9951XPvAibaEXe/ggdm4YTR3E68Z/ICJSHEm   '2020-05-16'  TOEFL iBT   \n",
       "\n",
       "      listening  speaking  reading  writing  total  \n",
       "794         NaN       NaN      NaN      NaN     93  \n",
       "2558        NaN       NaN      NaN      NaN     93  "
      ]
     },
     "execution_count": 193,
     "metadata": {},
     "output_type": "execute_result"
    }
   ],
   "source": [
    "dict = {'93': 93, \" '93'\" : 93}\n",
    "df_toefl_ibt[\"total\"] = df_toefl_ibt[\"total\"].map(dict)\n",
    "df_toefl_ibt"
   ]
  },
  {
   "attachments": {},
   "cell_type": "markdown",
   "metadata": {},
   "source": [
    "# VNU-EPT"
   ]
  },
  {
   "cell_type": "code",
   "execution_count": 201,
   "metadata": {},
   "outputs": [
    {
     "data": {
      "text/html": [
       "<div>\n",
       "<style scoped>\n",
       "    .dataframe tbody tr th:only-of-type {\n",
       "        vertical-align: middle;\n",
       "    }\n",
       "\n",
       "    .dataframe tbody tr th {\n",
       "        vertical-align: top;\n",
       "    }\n",
       "\n",
       "    .dataframe thead th {\n",
       "        text-align: right;\n",
       "    }\n",
       "</style>\n",
       "<table border=\"1\" class=\"dataframe\">\n",
       "  <thead>\n",
       "    <tr style=\"text-align: right;\">\n",
       "      <th></th>\n",
       "      <th>id</th>\n",
       "      <th>masv</th>\n",
       "      <th>ngaythi</th>\n",
       "      <th>url</th>\n",
       "      <th>loaixn</th>\n",
       "      <th>url.1</th>\n",
       "      <th>loaixn.1</th>\n",
       "      <th>listening</th>\n",
       "      <th>speaking</th>\n",
       "      <th>reading</th>\n",
       "    </tr>\n",
       "  </thead>\n",
       "  <tbody>\n",
       "    <tr>\n",
       "      <th>29</th>\n",
       "      <td>54</td>\n",
       "      <td>8D0FEB72XPvAibaEXe+QJ0MB5TsYNT16DxEfe5jF</td>\n",
       "      <td>NaN</td>\n",
       "      <td>bangcap/17520273/17520273_bangcap_VNU-EPT_201...</td>\n",
       "      <td>VNU-EPT</td>\n",
       "      <td>NaN</td>\n",
       "      <td>NaN</td>\n",
       "      <td>NaN</td>\n",
       "      <td>NaN</td>\n",
       "      <td>NaN</td>\n",
       "    </tr>\n",
       "    <tr>\n",
       "      <th>35</th>\n",
       "      <td>65</td>\n",
       "      <td>9B54EA8BXPvAibaEXe/pnXUIwMJHJnzL79TUFr3p</td>\n",
       "      <td>NaN</td>\n",
       "      <td>https://qldt.uit.edu.vn/sites/default/files/s...</td>\n",
       "      <td>VNU-EPT</td>\n",
       "      <td>NaN</td>\n",
       "      <td>NaN</td>\n",
       "      <td>NaN</td>\n",
       "      <td>NaN</td>\n",
       "      <td>NaN</td>\n",
       "    </tr>\n",
       "    <tr>\n",
       "      <th>46</th>\n",
       "      <td>80</td>\n",
       "      <td>80603101XPvAibaEXe+Ps8zYokGtSWWSdKd2DDTs</td>\n",
       "      <td>NaN</td>\n",
       "      <td>https://qldt.uit.edu.vn/sites/default/files/s...</td>\n",
       "      <td>VNU-EPT</td>\n",
       "      <td>NaN</td>\n",
       "      <td>NaN</td>\n",
       "      <td>NaN</td>\n",
       "      <td>NaN</td>\n",
       "      <td>NaN</td>\n",
       "    </tr>\n",
       "    <tr>\n",
       "      <th>110</th>\n",
       "      <td>166</td>\n",
       "      <td>0E631785XPvAibaEXe9X5bpEKoa0mgPWtTwg2Rv7</td>\n",
       "      <td>NaN</td>\n",
       "      <td>https://qldt.uit.edu.vn/sites/default/files/s...</td>\n",
       "      <td>VNU-EPT</td>\n",
       "      <td>NaN</td>\n",
       "      <td>NaN</td>\n",
       "      <td>NaN</td>\n",
       "      <td>NaN</td>\n",
       "      <td>NaN</td>\n",
       "    </tr>\n",
       "    <tr>\n",
       "      <th>113</th>\n",
       "      <td>172</td>\n",
       "      <td>6E4C2765XPvAibaEXe+t618nkWP4eVl9C1gP1l1X</td>\n",
       "      <td>NaN</td>\n",
       "      <td>https://qldt.uit.edu.vn/sites/default/files/s...</td>\n",
       "      <td>VNU-EPT</td>\n",
       "      <td>NaN</td>\n",
       "      <td>NaN</td>\n",
       "      <td>NaN</td>\n",
       "      <td>NaN</td>\n",
       "      <td>NaN</td>\n",
       "    </tr>\n",
       "    <tr>\n",
       "      <th>...</th>\n",
       "      <td>...</td>\n",
       "      <td>...</td>\n",
       "      <td>...</td>\n",
       "      <td>...</td>\n",
       "      <td>...</td>\n",
       "      <td>...</td>\n",
       "      <td>...</td>\n",
       "      <td>...</td>\n",
       "      <td>...</td>\n",
       "      <td>...</td>\n",
       "    </tr>\n",
       "    <tr>\n",
       "      <th>3423</th>\n",
       "      <td>4460</td>\n",
       "      <td>882C41EDXPvAibaEXe/ggdm4YTR3EyW5roU4Dhqi</td>\n",
       "      <td>'2021-03-20'</td>\n",
       "      <td>'bangcap/15520464/15520464_bangcap_VNU-EPT_20...</td>\n",
       "      <td>VNU-EPT</td>\n",
       "      <td>NaN</td>\n",
       "      <td>NaN</td>\n",
       "      <td>NaN</td>\n",
       "      <td>NaN</td>\n",
       "      <td>'195'</td>\n",
       "    </tr>\n",
       "    <tr>\n",
       "      <th>3427</th>\n",
       "      <td>4468</td>\n",
       "      <td>013EFC93XPvAibaEXe9G+cXjMGRRwngmIEUTfDHO</td>\n",
       "      <td>'2021-03-06'</td>\n",
       "      <td>'bangcap/16521645/16521645_bangcap_VNU-EPT_20...</td>\n",
       "      <td>VNU-EPT</td>\n",
       "      <td>NaN</td>\n",
       "      <td>NaN</td>\n",
       "      <td>NaN</td>\n",
       "      <td>NaN</td>\n",
       "      <td>'215'</td>\n",
       "    </tr>\n",
       "    <tr>\n",
       "      <th>3429</th>\n",
       "      <td>4471</td>\n",
       "      <td>64231A83XPvAibaEXe8VMicbCMuSMBWLdITB90ns</td>\n",
       "      <td>'2021-03-20'</td>\n",
       "      <td>'bangcap/16520808/16520808_bangcap_VNU-EPT_20...</td>\n",
       "      <td>VNU-EPT</td>\n",
       "      <td>NaN</td>\n",
       "      <td>NaN</td>\n",
       "      <td>NaN</td>\n",
       "      <td>NaN</td>\n",
       "      <td>'248'</td>\n",
       "    </tr>\n",
       "    <tr>\n",
       "      <th>3433</th>\n",
       "      <td>4485</td>\n",
       "      <td>49808A7CXPvAibaEXe/ggdm4YTR3EzUjk8DAGaSI</td>\n",
       "      <td>'2021-03-20'</td>\n",
       "      <td>'bangcap/15520302/15520302_bangcap_VNU-EPT_20...</td>\n",
       "      <td>VNU-EPT</td>\n",
       "      <td>NaN</td>\n",
       "      <td>NaN</td>\n",
       "      <td>NaN</td>\n",
       "      <td>NaN</td>\n",
       "      <td>'225'</td>\n",
       "    </tr>\n",
       "    <tr>\n",
       "      <th>3437</th>\n",
       "      <td>4498</td>\n",
       "      <td>28A087FBXPvAibaEXe8VMicbCMuSMNLW3JJI48t3</td>\n",
       "      <td>'2021-04-24'</td>\n",
       "      <td>'bangcap/16520291/16520291_bangcap_VNU-EPT_20...</td>\n",
       "      <td>VNU-EPT</td>\n",
       "      <td>NaN</td>\n",
       "      <td>NaN</td>\n",
       "      <td>NaN</td>\n",
       "      <td>NaN</td>\n",
       "      <td>'192'</td>\n",
       "    </tr>\n",
       "  </tbody>\n",
       "</table>\n",
       "<p>196 rows × 10 columns</p>\n",
       "</div>"
      ],
      "text/plain": [
       "        id                                      masv        ngaythi  \\\n",
       "29      54  8D0FEB72XPvAibaEXe+QJ0MB5TsYNT16DxEfe5jF            NaN   \n",
       "35      65  9B54EA8BXPvAibaEXe/pnXUIwMJHJnzL79TUFr3p            NaN   \n",
       "46      80  80603101XPvAibaEXe+Ps8zYokGtSWWSdKd2DDTs            NaN   \n",
       "110    166  0E631785XPvAibaEXe9X5bpEKoa0mgPWtTwg2Rv7            NaN   \n",
       "113    172  6E4C2765XPvAibaEXe+t618nkWP4eVl9C1gP1l1X            NaN   \n",
       "...    ...                                       ...            ...   \n",
       "3423  4460  882C41EDXPvAibaEXe/ggdm4YTR3EyW5roU4Dhqi   '2021-03-20'   \n",
       "3427  4468  013EFC93XPvAibaEXe9G+cXjMGRRwngmIEUTfDHO   '2021-03-06'   \n",
       "3429  4471  64231A83XPvAibaEXe8VMicbCMuSMBWLdITB90ns   '2021-03-20'   \n",
       "3433  4485  49808A7CXPvAibaEXe/ggdm4YTR3EzUjk8DAGaSI   '2021-03-20'   \n",
       "3437  4498  28A087FBXPvAibaEXe8VMicbCMuSMNLW3JJI48t3   '2021-04-24'   \n",
       "\n",
       "                                                    url   loaixn   url.1  \\\n",
       "29     bangcap/17520273/17520273_bangcap_VNU-EPT_201...  VNU-EPT     NaN   \n",
       "35     https://qldt.uit.edu.vn/sites/default/files/s...  VNU-EPT     NaN   \n",
       "46     https://qldt.uit.edu.vn/sites/default/files/s...  VNU-EPT     NaN   \n",
       "110    https://qldt.uit.edu.vn/sites/default/files/s...  VNU-EPT     NaN   \n",
       "113    https://qldt.uit.edu.vn/sites/default/files/s...  VNU-EPT     NaN   \n",
       "...                                                 ...      ...     ...   \n",
       "3423   'bangcap/15520464/15520464_bangcap_VNU-EPT_20...  VNU-EPT     NaN   \n",
       "3427   'bangcap/16521645/16521645_bangcap_VNU-EPT_20...  VNU-EPT     NaN   \n",
       "3429   'bangcap/16520808/16520808_bangcap_VNU-EPT_20...  VNU-EPT     NaN   \n",
       "3433   'bangcap/15520302/15520302_bangcap_VNU-EPT_20...  VNU-EPT     NaN   \n",
       "3437   'bangcap/16520291/16520291_bangcap_VNU-EPT_20...  VNU-EPT     NaN   \n",
       "\n",
       "       loaixn.1   listening   speaking  reading  \n",
       "29          NaN         NaN        NaN      NaN  \n",
       "35          NaN         NaN        NaN      NaN  \n",
       "46          NaN         NaN        NaN      NaN  \n",
       "110         NaN         NaN        NaN      NaN  \n",
       "113         NaN         NaN        NaN      NaN  \n",
       "...         ...         ...        ...      ...  \n",
       "3423        NaN         NaN        NaN    '195'  \n",
       "3427        NaN         NaN        NaN    '215'  \n",
       "3429        NaN         NaN        NaN    '248'  \n",
       "3433        NaN         NaN        NaN    '225'  \n",
       "3437        NaN         NaN        NaN    '192'  \n",
       "\n",
       "[196 rows x 10 columns]"
      ]
     },
     "execution_count": 201,
     "metadata": {},
     "output_type": "execute_result"
    }
   ],
   "source": [
    "df_vnu_ept = df.loc[(df[\" loaixn\"] == \"VNU-EPT\")]\n",
    "df_vnu_ept"
   ]
  },
  {
   "cell_type": "code",
   "execution_count": 202,
   "metadata": {},
   "outputs": [],
   "source": [
    "df_vnu_ept = df_vnu_ept.drop([\"id\",\" url\"], axis = 1).rename(columns= {\" url.1\": \"listening\", \" loaixn.1\": \"speaking\",\n",
    "                             \" listening\": \"reading\",\" speaking\": \"writing\", \" reading\": \"total\"})\n",
    "df_vnu_ept = df_vnu_ept.dropna(subset=[\"total\"])"
   ]
  },
  {
   "cell_type": "code",
   "execution_count": 205,
   "metadata": {},
   "outputs": [],
   "source": [
    "dict ={'176': 176, \" '176'\": 176, \" '195'\": 195, '202': 202, \" '200'\": 200, \" '202'\": 202,\n",
    "       \" '225'\": 225, '195': 195, '200': 200, '225': 225, \" '192'\": 192, \" '186'\": 186, \" '234'\": 234, \" '237'\": 237,\n",
    "       \" '260'\": 260, \" '216'\": 216, \" '232'\": 232, \" '189'\": 189, \" '199'\": 199, \" '248'\": 248, '248': 248, '199': 199,\n",
    "       '189': 189, '237': 237, \" '203'\": 203, \" '249'\": 249, '260': 260, '232': 232, '192': 192, '186': 186, '234': 234,\n",
    "       '203': 203, '216': 216, \" '261'\": 261, \" '263'\": 263, \" '272'\": 272, \" '183'\": 183, \" '208'\": 208, '206': 206,\n",
    "       \" '262'\": 262, '303': 303, \" '264'\": 264, \" '240'\": 240, '300': 300, \" '300'\": 300, '204': 204, \" '271'\": 271,\n",
    "       '220': 220, \" '194'\": 194, \" '178'\": 178, \" '244'\": 244, \" '229'\": 229, \" '254'\": 254, \" '275'\": 275, \" '219'\": 219,\n",
    "       \" '245'\": 245, \" '228'\": 228, '238': 238, \" '224'\": 224, \" '204'\": 204, \" '179'\": 179, '228': 228, '271': 271, '263': 263,\n",
    "       '194': 194, '178': 178, '244': 244, '229': 229, '272': 272, '254': 254, '275': 275, '219': 219, '249': 249, '245': 245, '261': 261,\n",
    "       '240': 240, '208': 208, '215': 215, '183': 183, \" '269'\": 269, '262': 262, \" '238'\": 238, '264': 264, \" '220'\": 220, '224': 224,\n",
    "       '179': 179, \" '206'\": 206, \" '303'\": 303, \" '215'\": 215}"
   ]
  },
  {
   "cell_type": "code",
   "execution_count": 207,
   "metadata": {},
   "outputs": [],
   "source": [
    "df_vnu_ept[\"total\"] = df_vnu_ept[\"total\"].map(dict)"
   ]
  },
  {
   "cell_type": "code",
   "execution_count": 208,
   "metadata": {},
   "outputs": [
    {
     "data": {
      "application/vnd.plotly.v1+json": {
       "config": {
        "plotlyServerURL": "https://plot.ly"
       },
       "data": [
        {
         "alignmentgroup": "True",
         "hovertemplate": "IELTS Score=%{x}<br>Số lượng=%{y}<br>color=%{marker.color}<extra></extra>",
         "legendgroup": "",
         "marker": {
          "color": [
           8,
           6,
           6,
           6,
           6,
           4,
           4,
           4,
           4,
           4,
           4,
           4,
           4,
           4,
           4,
           4,
           3,
           2,
           2,
           2,
           2,
           2,
           2,
           2,
           2,
           2,
           2,
           2,
           2,
           2,
           2,
           2,
           2,
           2,
           2,
           2,
           2,
           2,
           2,
           2,
           2,
           2,
           2,
           2,
           1
          ],
          "coloraxis": "coloraxis",
          "pattern": {
           "shape": ""
          }
         },
         "name": "",
         "offsetgroup": "",
         "orientation": "v",
         "showlegend": false,
         "textposition": "auto",
         "type": "bar",
         "x": [
          176,
          225,
          195,
          202,
          200,
          248,
          234,
          237,
          232,
          189,
          192,
          260,
          186,
          199,
          203,
          216,
          249,
          271,
          275,
          245,
          254,
          228,
          229,
          244,
          215,
          178,
          194,
          219,
          272,
          300,
          240,
          263,
          261,
          208,
          183,
          262,
          264,
          224,
          179,
          204,
          303,
          206,
          220,
          238,
          269
         ],
         "xaxis": "x",
         "y": [
          8,
          6,
          6,
          6,
          6,
          4,
          4,
          4,
          4,
          4,
          4,
          4,
          4,
          4,
          4,
          4,
          3,
          2,
          2,
          2,
          2,
          2,
          2,
          2,
          2,
          2,
          2,
          2,
          2,
          2,
          2,
          2,
          2,
          2,
          2,
          2,
          2,
          2,
          2,
          2,
          2,
          2,
          2,
          2,
          1
         ],
         "yaxis": "y"
        }
       ],
       "layout": {
        "barmode": "relative",
        "coloraxis": {
         "colorbar": {
          "title": {
           "text": "color"
          }
         },
         "colorscale": [
          [
           0,
           "#0d0887"
          ],
          [
           0.1111111111111111,
           "#46039f"
          ],
          [
           0.2222222222222222,
           "#7201a8"
          ],
          [
           0.3333333333333333,
           "#9c179e"
          ],
          [
           0.4444444444444444,
           "#bd3786"
          ],
          [
           0.5555555555555556,
           "#d8576b"
          ],
          [
           0.6666666666666666,
           "#ed7953"
          ],
          [
           0.7777777777777778,
           "#fb9f3a"
          ],
          [
           0.8888888888888888,
           "#fdca26"
          ],
          [
           1,
           "#f0f921"
          ]
         ]
        },
        "legend": {
         "tracegroupgap": 0
        },
        "template": {
         "data": {
          "bar": [
           {
            "error_x": {
             "color": "#2a3f5f"
            },
            "error_y": {
             "color": "#2a3f5f"
            },
            "marker": {
             "line": {
              "color": "#E5ECF6",
              "width": 0.5
             },
             "pattern": {
              "fillmode": "overlay",
              "size": 10,
              "solidity": 0.2
             }
            },
            "type": "bar"
           }
          ],
          "barpolar": [
           {
            "marker": {
             "line": {
              "color": "#E5ECF6",
              "width": 0.5
             },
             "pattern": {
              "fillmode": "overlay",
              "size": 10,
              "solidity": 0.2
             }
            },
            "type": "barpolar"
           }
          ],
          "carpet": [
           {
            "aaxis": {
             "endlinecolor": "#2a3f5f",
             "gridcolor": "white",
             "linecolor": "white",
             "minorgridcolor": "white",
             "startlinecolor": "#2a3f5f"
            },
            "baxis": {
             "endlinecolor": "#2a3f5f",
             "gridcolor": "white",
             "linecolor": "white",
             "minorgridcolor": "white",
             "startlinecolor": "#2a3f5f"
            },
            "type": "carpet"
           }
          ],
          "choropleth": [
           {
            "colorbar": {
             "outlinewidth": 0,
             "ticks": ""
            },
            "type": "choropleth"
           }
          ],
          "contour": [
           {
            "colorbar": {
             "outlinewidth": 0,
             "ticks": ""
            },
            "colorscale": [
             [
              0,
              "#0d0887"
             ],
             [
              0.1111111111111111,
              "#46039f"
             ],
             [
              0.2222222222222222,
              "#7201a8"
             ],
             [
              0.3333333333333333,
              "#9c179e"
             ],
             [
              0.4444444444444444,
              "#bd3786"
             ],
             [
              0.5555555555555556,
              "#d8576b"
             ],
             [
              0.6666666666666666,
              "#ed7953"
             ],
             [
              0.7777777777777778,
              "#fb9f3a"
             ],
             [
              0.8888888888888888,
              "#fdca26"
             ],
             [
              1,
              "#f0f921"
             ]
            ],
            "type": "contour"
           }
          ],
          "contourcarpet": [
           {
            "colorbar": {
             "outlinewidth": 0,
             "ticks": ""
            },
            "type": "contourcarpet"
           }
          ],
          "heatmap": [
           {
            "colorbar": {
             "outlinewidth": 0,
             "ticks": ""
            },
            "colorscale": [
             [
              0,
              "#0d0887"
             ],
             [
              0.1111111111111111,
              "#46039f"
             ],
             [
              0.2222222222222222,
              "#7201a8"
             ],
             [
              0.3333333333333333,
              "#9c179e"
             ],
             [
              0.4444444444444444,
              "#bd3786"
             ],
             [
              0.5555555555555556,
              "#d8576b"
             ],
             [
              0.6666666666666666,
              "#ed7953"
             ],
             [
              0.7777777777777778,
              "#fb9f3a"
             ],
             [
              0.8888888888888888,
              "#fdca26"
             ],
             [
              1,
              "#f0f921"
             ]
            ],
            "type": "heatmap"
           }
          ],
          "heatmapgl": [
           {
            "colorbar": {
             "outlinewidth": 0,
             "ticks": ""
            },
            "colorscale": [
             [
              0,
              "#0d0887"
             ],
             [
              0.1111111111111111,
              "#46039f"
             ],
             [
              0.2222222222222222,
              "#7201a8"
             ],
             [
              0.3333333333333333,
              "#9c179e"
             ],
             [
              0.4444444444444444,
              "#bd3786"
             ],
             [
              0.5555555555555556,
              "#d8576b"
             ],
             [
              0.6666666666666666,
              "#ed7953"
             ],
             [
              0.7777777777777778,
              "#fb9f3a"
             ],
             [
              0.8888888888888888,
              "#fdca26"
             ],
             [
              1,
              "#f0f921"
             ]
            ],
            "type": "heatmapgl"
           }
          ],
          "histogram": [
           {
            "marker": {
             "pattern": {
              "fillmode": "overlay",
              "size": 10,
              "solidity": 0.2
             }
            },
            "type": "histogram"
           }
          ],
          "histogram2d": [
           {
            "colorbar": {
             "outlinewidth": 0,
             "ticks": ""
            },
            "colorscale": [
             [
              0,
              "#0d0887"
             ],
             [
              0.1111111111111111,
              "#46039f"
             ],
             [
              0.2222222222222222,
              "#7201a8"
             ],
             [
              0.3333333333333333,
              "#9c179e"
             ],
             [
              0.4444444444444444,
              "#bd3786"
             ],
             [
              0.5555555555555556,
              "#d8576b"
             ],
             [
              0.6666666666666666,
              "#ed7953"
             ],
             [
              0.7777777777777778,
              "#fb9f3a"
             ],
             [
              0.8888888888888888,
              "#fdca26"
             ],
             [
              1,
              "#f0f921"
             ]
            ],
            "type": "histogram2d"
           }
          ],
          "histogram2dcontour": [
           {
            "colorbar": {
             "outlinewidth": 0,
             "ticks": ""
            },
            "colorscale": [
             [
              0,
              "#0d0887"
             ],
             [
              0.1111111111111111,
              "#46039f"
             ],
             [
              0.2222222222222222,
              "#7201a8"
             ],
             [
              0.3333333333333333,
              "#9c179e"
             ],
             [
              0.4444444444444444,
              "#bd3786"
             ],
             [
              0.5555555555555556,
              "#d8576b"
             ],
             [
              0.6666666666666666,
              "#ed7953"
             ],
             [
              0.7777777777777778,
              "#fb9f3a"
             ],
             [
              0.8888888888888888,
              "#fdca26"
             ],
             [
              1,
              "#f0f921"
             ]
            ],
            "type": "histogram2dcontour"
           }
          ],
          "mesh3d": [
           {
            "colorbar": {
             "outlinewidth": 0,
             "ticks": ""
            },
            "type": "mesh3d"
           }
          ],
          "parcoords": [
           {
            "line": {
             "colorbar": {
              "outlinewidth": 0,
              "ticks": ""
             }
            },
            "type": "parcoords"
           }
          ],
          "pie": [
           {
            "automargin": true,
            "type": "pie"
           }
          ],
          "scatter": [
           {
            "fillpattern": {
             "fillmode": "overlay",
             "size": 10,
             "solidity": 0.2
            },
            "type": "scatter"
           }
          ],
          "scatter3d": [
           {
            "line": {
             "colorbar": {
              "outlinewidth": 0,
              "ticks": ""
             }
            },
            "marker": {
             "colorbar": {
              "outlinewidth": 0,
              "ticks": ""
             }
            },
            "type": "scatter3d"
           }
          ],
          "scattercarpet": [
           {
            "marker": {
             "colorbar": {
              "outlinewidth": 0,
              "ticks": ""
             }
            },
            "type": "scattercarpet"
           }
          ],
          "scattergeo": [
           {
            "marker": {
             "colorbar": {
              "outlinewidth": 0,
              "ticks": ""
             }
            },
            "type": "scattergeo"
           }
          ],
          "scattergl": [
           {
            "marker": {
             "colorbar": {
              "outlinewidth": 0,
              "ticks": ""
             }
            },
            "type": "scattergl"
           }
          ],
          "scattermapbox": [
           {
            "marker": {
             "colorbar": {
              "outlinewidth": 0,
              "ticks": ""
             }
            },
            "type": "scattermapbox"
           }
          ],
          "scatterpolar": [
           {
            "marker": {
             "colorbar": {
              "outlinewidth": 0,
              "ticks": ""
             }
            },
            "type": "scatterpolar"
           }
          ],
          "scatterpolargl": [
           {
            "marker": {
             "colorbar": {
              "outlinewidth": 0,
              "ticks": ""
             }
            },
            "type": "scatterpolargl"
           }
          ],
          "scatterternary": [
           {
            "marker": {
             "colorbar": {
              "outlinewidth": 0,
              "ticks": ""
             }
            },
            "type": "scatterternary"
           }
          ],
          "surface": [
           {
            "colorbar": {
             "outlinewidth": 0,
             "ticks": ""
            },
            "colorscale": [
             [
              0,
              "#0d0887"
             ],
             [
              0.1111111111111111,
              "#46039f"
             ],
             [
              0.2222222222222222,
              "#7201a8"
             ],
             [
              0.3333333333333333,
              "#9c179e"
             ],
             [
              0.4444444444444444,
              "#bd3786"
             ],
             [
              0.5555555555555556,
              "#d8576b"
             ],
             [
              0.6666666666666666,
              "#ed7953"
             ],
             [
              0.7777777777777778,
              "#fb9f3a"
             ],
             [
              0.8888888888888888,
              "#fdca26"
             ],
             [
              1,
              "#f0f921"
             ]
            ],
            "type": "surface"
           }
          ],
          "table": [
           {
            "cells": {
             "fill": {
              "color": "#EBF0F8"
             },
             "line": {
              "color": "white"
             }
            },
            "header": {
             "fill": {
              "color": "#C8D4E3"
             },
             "line": {
              "color": "white"
             }
            },
            "type": "table"
           }
          ]
         },
         "layout": {
          "annotationdefaults": {
           "arrowcolor": "#2a3f5f",
           "arrowhead": 0,
           "arrowwidth": 1
          },
          "autotypenumbers": "strict",
          "coloraxis": {
           "colorbar": {
            "outlinewidth": 0,
            "ticks": ""
           }
          },
          "colorscale": {
           "diverging": [
            [
             0,
             "#8e0152"
            ],
            [
             0.1,
             "#c51b7d"
            ],
            [
             0.2,
             "#de77ae"
            ],
            [
             0.3,
             "#f1b6da"
            ],
            [
             0.4,
             "#fde0ef"
            ],
            [
             0.5,
             "#f7f7f7"
            ],
            [
             0.6,
             "#e6f5d0"
            ],
            [
             0.7,
             "#b8e186"
            ],
            [
             0.8,
             "#7fbc41"
            ],
            [
             0.9,
             "#4d9221"
            ],
            [
             1,
             "#276419"
            ]
           ],
           "sequential": [
            [
             0,
             "#0d0887"
            ],
            [
             0.1111111111111111,
             "#46039f"
            ],
            [
             0.2222222222222222,
             "#7201a8"
            ],
            [
             0.3333333333333333,
             "#9c179e"
            ],
            [
             0.4444444444444444,
             "#bd3786"
            ],
            [
             0.5555555555555556,
             "#d8576b"
            ],
            [
             0.6666666666666666,
             "#ed7953"
            ],
            [
             0.7777777777777778,
             "#fb9f3a"
            ],
            [
             0.8888888888888888,
             "#fdca26"
            ],
            [
             1,
             "#f0f921"
            ]
           ],
           "sequentialminus": [
            [
             0,
             "#0d0887"
            ],
            [
             0.1111111111111111,
             "#46039f"
            ],
            [
             0.2222222222222222,
             "#7201a8"
            ],
            [
             0.3333333333333333,
             "#9c179e"
            ],
            [
             0.4444444444444444,
             "#bd3786"
            ],
            [
             0.5555555555555556,
             "#d8576b"
            ],
            [
             0.6666666666666666,
             "#ed7953"
            ],
            [
             0.7777777777777778,
             "#fb9f3a"
            ],
            [
             0.8888888888888888,
             "#fdca26"
            ],
            [
             1,
             "#f0f921"
            ]
           ]
          },
          "colorway": [
           "#636efa",
           "#EF553B",
           "#00cc96",
           "#ab63fa",
           "#FFA15A",
           "#19d3f3",
           "#FF6692",
           "#B6E880",
           "#FF97FF",
           "#FECB52"
          ],
          "font": {
           "color": "#2a3f5f"
          },
          "geo": {
           "bgcolor": "white",
           "lakecolor": "white",
           "landcolor": "#E5ECF6",
           "showlakes": true,
           "showland": true,
           "subunitcolor": "white"
          },
          "hoverlabel": {
           "align": "left"
          },
          "hovermode": "closest",
          "mapbox": {
           "style": "light"
          },
          "paper_bgcolor": "white",
          "plot_bgcolor": "#E5ECF6",
          "polar": {
           "angularaxis": {
            "gridcolor": "white",
            "linecolor": "white",
            "ticks": ""
           },
           "bgcolor": "#E5ECF6",
           "radialaxis": {
            "gridcolor": "white",
            "linecolor": "white",
            "ticks": ""
           }
          },
          "scene": {
           "xaxis": {
            "backgroundcolor": "#E5ECF6",
            "gridcolor": "white",
            "gridwidth": 2,
            "linecolor": "white",
            "showbackground": true,
            "ticks": "",
            "zerolinecolor": "white"
           },
           "yaxis": {
            "backgroundcolor": "#E5ECF6",
            "gridcolor": "white",
            "gridwidth": 2,
            "linecolor": "white",
            "showbackground": true,
            "ticks": "",
            "zerolinecolor": "white"
           },
           "zaxis": {
            "backgroundcolor": "#E5ECF6",
            "gridcolor": "white",
            "gridwidth": 2,
            "linecolor": "white",
            "showbackground": true,
            "ticks": "",
            "zerolinecolor": "white"
           }
          },
          "shapedefaults": {
           "line": {
            "color": "#2a3f5f"
           }
          },
          "ternary": {
           "aaxis": {
            "gridcolor": "white",
            "linecolor": "white",
            "ticks": ""
           },
           "baxis": {
            "gridcolor": "white",
            "linecolor": "white",
            "ticks": ""
           },
           "bgcolor": "#E5ECF6",
           "caxis": {
            "gridcolor": "white",
            "linecolor": "white",
            "ticks": ""
           }
          },
          "title": {
           "x": 0.05
          },
          "xaxis": {
           "automargin": true,
           "gridcolor": "white",
           "linecolor": "white",
           "ticks": "",
           "title": {
            "standoff": 15
           },
           "zerolinecolor": "white",
           "zerolinewidth": 2
          },
          "yaxis": {
           "automargin": true,
           "gridcolor": "white",
           "linecolor": "white",
           "ticks": "",
           "title": {
            "standoff": 15
           },
           "zerolinecolor": "white",
           "zerolinewidth": 2
          }
         }
        },
        "title": {
         "text": "Dữ liệu tổng điểm của chứng chỉ IELTS"
        },
        "xaxis": {
         "anchor": "y",
         "domain": [
          0,
          1
         ],
         "title": {
          "text": "IELTS Score"
         }
        },
        "yaxis": {
         "anchor": "x",
         "domain": [
          0,
          1
         ],
         "title": {
          "text": "Số lượng"
         }
        }
       }
      }
     },
     "metadata": {},
     "output_type": "display_data"
    }
   ],
   "source": [
    "fig = px.bar(df_vnu_ept, x=df_vnu_ept[\"total\"].value_counts().index, \n",
    "             y=df_vnu_ept[\"total\"].value_counts().values,\n",
    "             color=df_vnu_ept[\"total\"].value_counts().values,\n",
    "             labels = {\"x\":\"IELTS Score\",\n",
    "                       \"y\": \"Số lượng\"},\n",
    "             title=\"Dữ liệu tổng điểm của chứng chỉ VNU-EPT\")\n",
    "fig"
   ]
  },
  {
   "attachments": {},
   "cell_type": "markdown",
   "metadata": {},
   "source": [
    "# Cambridge"
   ]
  },
  {
   "cell_type": "code",
   "execution_count": 239,
   "metadata": {},
   "outputs": [
    {
     "data": {
      "text/html": [
       "<div>\n",
       "<style scoped>\n",
       "    .dataframe tbody tr th:only-of-type {\n",
       "        vertical-align: middle;\n",
       "    }\n",
       "\n",
       "    .dataframe tbody tr th {\n",
       "        vertical-align: top;\n",
       "    }\n",
       "\n",
       "    .dataframe thead th {\n",
       "        text-align: right;\n",
       "    }\n",
       "</style>\n",
       "<table border=\"1\" class=\"dataframe\">\n",
       "  <thead>\n",
       "    <tr style=\"text-align: right;\">\n",
       "      <th></th>\n",
       "      <th>id</th>\n",
       "      <th>masv</th>\n",
       "      <th>ngaythi</th>\n",
       "      <th>url</th>\n",
       "      <th>loaixn</th>\n",
       "      <th>url.1</th>\n",
       "      <th>loaixn.1</th>\n",
       "      <th>listening</th>\n",
       "      <th>speaking</th>\n",
       "      <th>reading</th>\n",
       "    </tr>\n",
       "  </thead>\n",
       "  <tbody>\n",
       "    <tr>\n",
       "      <th>126</th>\n",
       "      <td>188</td>\n",
       "      <td>7F545E8AXPvAibaEXe9pXJcjrAt8XvrJ5qyJ0OB7</td>\n",
       "      <td>NaN</td>\n",
       "      <td>https://qldt.uit.edu.vn/sites/default/files/s...</td>\n",
       "      <td>Cambrigde</td>\n",
       "      <td>NaN</td>\n",
       "      <td>NaN</td>\n",
       "      <td>NaN</td>\n",
       "      <td>NaN</td>\n",
       "      <td>NaN</td>\n",
       "    </tr>\n",
       "    <tr>\n",
       "      <th>145</th>\n",
       "      <td>209</td>\n",
       "      <td>D5654CA2XPvAibaEXe+T+pdYLenbrobExAZPDdaO</td>\n",
       "      <td>NaN</td>\n",
       "      <td>https://qldt.uit.edu.vn/sites/default/files/s...</td>\n",
       "      <td>Cambrigde</td>\n",
       "      <td>NaN</td>\n",
       "      <td>NaN</td>\n",
       "      <td>NaN</td>\n",
       "      <td>NaN</td>\n",
       "      <td>NaN</td>\n",
       "    </tr>\n",
       "    <tr>\n",
       "      <th>149</th>\n",
       "      <td>214</td>\n",
       "      <td>AF041B0EXPvAibaEXe915NmCViXOMF4T+4qOc/vo</td>\n",
       "      <td>NaN</td>\n",
       "      <td>https://qldt.uit.edu.vn/sites/default/files/s...</td>\n",
       "      <td>Cambrigde</td>\n",
       "      <td>NaN</td>\n",
       "      <td>NaN</td>\n",
       "      <td>NaN</td>\n",
       "      <td>NaN</td>\n",
       "      <td>NaN</td>\n",
       "    </tr>\n",
       "    <tr>\n",
       "      <th>151</th>\n",
       "      <td>216</td>\n",
       "      <td>D65EC4A2XPvAibaEXe/MFNByxh05b9Afh/nBE41A</td>\n",
       "      <td>NaN</td>\n",
       "      <td>https://qldt.uit.edu.vn/sites/default/files/s...</td>\n",
       "      <td>Cambrigde</td>\n",
       "      <td>NaN</td>\n",
       "      <td>NaN</td>\n",
       "      <td>NaN</td>\n",
       "      <td>NaN</td>\n",
       "      <td>NaN</td>\n",
       "    </tr>\n",
       "    <tr>\n",
       "      <th>154</th>\n",
       "      <td>219</td>\n",
       "      <td>69CC9D77XPvAibaEXe/A0C8NKWg+cCtO4VRi7hM3</td>\n",
       "      <td>NaN</td>\n",
       "      <td>https://qldt.uit.edu.vn/sites/default/files/s...</td>\n",
       "      <td>Cambrigde</td>\n",
       "      <td>NaN</td>\n",
       "      <td>NaN</td>\n",
       "      <td>NaN</td>\n",
       "      <td>NaN</td>\n",
       "      <td>NaN</td>\n",
       "    </tr>\n",
       "    <tr>\n",
       "      <th>189</th>\n",
       "      <td>282</td>\n",
       "      <td>CAF9C110XPvAibaEXe8t4cDFHKW3SZrcOzqm7rb0</td>\n",
       "      <td>NaN</td>\n",
       "      <td>https://qldt.uit.edu.vn/sites/default/files/s...</td>\n",
       "      <td>Cambrigde</td>\n",
       "      <td>NaN</td>\n",
       "      <td>NaN</td>\n",
       "      <td>NaN</td>\n",
       "      <td>NaN</td>\n",
       "      <td>NaN</td>\n",
       "    </tr>\n",
       "    <tr>\n",
       "      <th>193</th>\n",
       "      <td>286</td>\n",
       "      <td>F6AB4799XPvAibaEXe+TUHAdEwrOx90Tv2fpdvvg</td>\n",
       "      <td>NaN</td>\n",
       "      <td>https://qldt.uit.edu.vn/sites/default/files/s...</td>\n",
       "      <td>Cambrigde</td>\n",
       "      <td>NaN</td>\n",
       "      <td>NaN</td>\n",
       "      <td>NaN</td>\n",
       "      <td>NaN</td>\n",
       "      <td>NaN</td>\n",
       "    </tr>\n",
       "    <tr>\n",
       "      <th>495</th>\n",
       "      <td>745</td>\n",
       "      <td>8A03E471XPvAibaEXe9drMWeKYE4jEX0sTSaswVe</td>\n",
       "      <td>NaN</td>\n",
       "      <td>https://qldt.uit.edu.vn/sites/default/files/s...</td>\n",
       "      <td>Cambrigde</td>\n",
       "      <td>NaN</td>\n",
       "      <td>NaN</td>\n",
       "      <td>NaN</td>\n",
       "      <td>NaN</td>\n",
       "      <td>NaN</td>\n",
       "    </tr>\n",
       "    <tr>\n",
       "      <th>505</th>\n",
       "      <td>759</td>\n",
       "      <td>07041016XPvAibaEXe+iIJOpfrvDw0cyN3jgSrMf</td>\n",
       "      <td>NaN</td>\n",
       "      <td>https://qldt.uit.edu.vn/sites/default/files/s...</td>\n",
       "      <td>Cambrigde</td>\n",
       "      <td>NaN</td>\n",
       "      <td>NaN</td>\n",
       "      <td>NaN</td>\n",
       "      <td>NaN</td>\n",
       "      <td>NaN</td>\n",
       "    </tr>\n",
       "    <tr>\n",
       "      <th>541</th>\n",
       "      <td>800</td>\n",
       "      <td>CBBEC090XPvAibaEXe/RBAYWwu4rYA0DT5I3POMR</td>\n",
       "      <td>NaN</td>\n",
       "      <td>https://qldt.uit.edu.vn/sites/default/files/s...</td>\n",
       "      <td>Cambrigde</td>\n",
       "      <td>NaN</td>\n",
       "      <td>NaN</td>\n",
       "      <td>NaN</td>\n",
       "      <td>NaN</td>\n",
       "      <td>NaN</td>\n",
       "    </tr>\n",
       "    <tr>\n",
       "      <th>669</th>\n",
       "      <td>952</td>\n",
       "      <td>28738743XPvAibaEXe+LaXEhdAaoNNFAwEYqhEoa</td>\n",
       "      <td>2018-10-02</td>\n",
       "      <td>https://qldt.uit.edu.vn/sites/default/files/s...</td>\n",
       "      <td>Cambrigde</td>\n",
       "      <td>NaN</td>\n",
       "      <td>NaN</td>\n",
       "      <td>NaN</td>\n",
       "      <td>NaN</td>\n",
       "      <td>155</td>\n",
       "    </tr>\n",
       "    <tr>\n",
       "      <th>705</th>\n",
       "      <td>991</td>\n",
       "      <td>5EFC6D3CXPvAibaEXe+TQJLvJOj4BW6T+T6AMVPf</td>\n",
       "      <td>2019-10-19</td>\n",
       "      <td>bangcap/14520570/14520570_bangcap_Cambrigde_2...</td>\n",
       "      <td>Cambrigde</td>\n",
       "      <td>NaN</td>\n",
       "      <td>NaN</td>\n",
       "      <td>NaN</td>\n",
       "      <td>NaN</td>\n",
       "      <td>141</td>\n",
       "    </tr>\n",
       "    <tr>\n",
       "      <th>1031</th>\n",
       "      <td>2875</td>\n",
       "      <td>FEB0C633XPvAibaEXe+P3P+fEFRIWCovtvpxa3qR</td>\n",
       "      <td>2019-02-01</td>\n",
       "      <td>bangcap/19521979/19521979_bangcap_Cambrigde_2...</td>\n",
       "      <td>Cambrigde</td>\n",
       "      <td>NaN</td>\n",
       "      <td>NaN</td>\n",
       "      <td>NaN</td>\n",
       "      <td>NaN</td>\n",
       "      <td>165</td>\n",
       "    </tr>\n",
       "    <tr>\n",
       "      <th>1115</th>\n",
       "      <td>3164</td>\n",
       "      <td>88452E23XPvAibaEXe/Hd2nFsMs4VOwNwn7XovOm</td>\n",
       "      <td>2017-06-01</td>\n",
       "      <td>bangcap/19521421/19521421_bangcap_Cambrigde_2...</td>\n",
       "      <td>Cambrigde</td>\n",
       "      <td>NaN</td>\n",
       "      <td>NaN</td>\n",
       "      <td>NaN</td>\n",
       "      <td>NaN</td>\n",
       "      <td>156</td>\n",
       "    </tr>\n",
       "    <tr>\n",
       "      <th>1165</th>\n",
       "      <td>3348</td>\n",
       "      <td>930BB6AEXPvAibaEXe8+Y7C9z9gIQ7RT211VdpGs</td>\n",
       "      <td>2018-04-15</td>\n",
       "      <td>bangcap/19520965/19520965_bangcap_Cambrigde_2...</td>\n",
       "      <td>Cambrigde</td>\n",
       "      <td>NaN</td>\n",
       "      <td>NaN</td>\n",
       "      <td>NaN</td>\n",
       "      <td>NaN</td>\n",
       "      <td>144</td>\n",
       "    </tr>\n",
       "    <tr>\n",
       "      <th>1214</th>\n",
       "      <td>3454</td>\n",
       "      <td>CBBEC090XPvAibaEXe/RBAYWwu4rYA0DT5I3POMR</td>\n",
       "      <td>2018-08-11</td>\n",
       "      <td>bangcap/19520814/19520814_bangcap_Cambrigde_2...</td>\n",
       "      <td>Cambrigde</td>\n",
       "      <td>NaN</td>\n",
       "      <td>NaN</td>\n",
       "      <td>NaN</td>\n",
       "      <td>NaN</td>\n",
       "      <td>128</td>\n",
       "    </tr>\n",
       "    <tr>\n",
       "      <th>1540</th>\n",
       "      <td>4155</td>\n",
       "      <td>88452E23XPvAibaEXe/Hd2nFsMs4VOwNwn7XovOm</td>\n",
       "      <td>2020-12-07</td>\n",
       "      <td>bangcap/19521421/19521421_bangcap_Cambrigde_2...</td>\n",
       "      <td>Cambrigde</td>\n",
       "      <td>NaN</td>\n",
       "      <td>NaN</td>\n",
       "      <td>NaN</td>\n",
       "      <td>NaN</td>\n",
       "      <td>163</td>\n",
       "    </tr>\n",
       "    <tr>\n",
       "      <th>1691</th>\n",
       "      <td>4555</td>\n",
       "      <td>E3E00426XPvAibaEXe/YoO1jzW8XOWeFcvQpBNZS</td>\n",
       "      <td>'2021-03-14'</td>\n",
       "      <td>'bangcap/18521519/18521519_bangcap_Cambrigde_...</td>\n",
       "      <td>Cambrigde</td>\n",
       "      <td>NaN</td>\n",
       "      <td>NaN</td>\n",
       "      <td>NaN</td>\n",
       "      <td>NaN</td>\n",
       "      <td>'154'</td>\n",
       "    </tr>\n",
       "    <tr>\n",
       "      <th>1890</th>\n",
       "      <td>188</td>\n",
       "      <td>20662007XPvAibaEXe+NaxazXn6OZOdC8HJ6bV7f</td>\n",
       "      <td>NaN</td>\n",
       "      <td>'https://qldt.uit.edu.vn/sites/default/files/...</td>\n",
       "      <td>Cambrigde</td>\n",
       "      <td>NaN</td>\n",
       "      <td>NaN</td>\n",
       "      <td>NaN</td>\n",
       "      <td>NaN</td>\n",
       "      <td>NaN</td>\n",
       "    </tr>\n",
       "    <tr>\n",
       "      <th>1909</th>\n",
       "      <td>209</td>\n",
       "      <td>7E762A54XPvAibaEXe+NaxazXn6OZEgdhufGKbsc</td>\n",
       "      <td>NaN</td>\n",
       "      <td>'https://qldt.uit.edu.vn/sites/default/files/...</td>\n",
       "      <td>Cambrigde</td>\n",
       "      <td>NaN</td>\n",
       "      <td>NaN</td>\n",
       "      <td>NaN</td>\n",
       "      <td>NaN</td>\n",
       "      <td>NaN</td>\n",
       "    </tr>\n",
       "    <tr>\n",
       "      <th>1913</th>\n",
       "      <td>214</td>\n",
       "      <td>D5835D75XPvAibaEXe+NaxazXn6OZErv6N33HZYl</td>\n",
       "      <td>NaN</td>\n",
       "      <td>'https://qldt.uit.edu.vn/sites/default/files/...</td>\n",
       "      <td>Cambrigde</td>\n",
       "      <td>NaN</td>\n",
       "      <td>NaN</td>\n",
       "      <td>NaN</td>\n",
       "      <td>NaN</td>\n",
       "      <td>NaN</td>\n",
       "    </tr>\n",
       "    <tr>\n",
       "      <th>1915</th>\n",
       "      <td>216</td>\n",
       "      <td>4D43A5CCXPvAibaEXe+NaxazXn6OZKwGog/Y3fgM</td>\n",
       "      <td>NaN</td>\n",
       "      <td>'https://qldt.uit.edu.vn/sites/default/files/...</td>\n",
       "      <td>Cambrigde</td>\n",
       "      <td>NaN</td>\n",
       "      <td>NaN</td>\n",
       "      <td>NaN</td>\n",
       "      <td>NaN</td>\n",
       "      <td>NaN</td>\n",
       "    </tr>\n",
       "    <tr>\n",
       "      <th>1918</th>\n",
       "      <td>219</td>\n",
       "      <td>041CEE0DXPvAibaEXe87eTIiJiH6BCdrSqn1roEd</td>\n",
       "      <td>NaN</td>\n",
       "      <td>'https://qldt.uit.edu.vn/sites/default/files/...</td>\n",
       "      <td>Cambrigde</td>\n",
       "      <td>NaN</td>\n",
       "      <td>NaN</td>\n",
       "      <td>NaN</td>\n",
       "      <td>NaN</td>\n",
       "      <td>NaN</td>\n",
       "    </tr>\n",
       "    <tr>\n",
       "      <th>1953</th>\n",
       "      <td>282</td>\n",
       "      <td>2C75A0BBXPvAibaEXe/YoO1jzW8XOURZAYbYVwKd</td>\n",
       "      <td>NaN</td>\n",
       "      <td>'https://qldt.uit.edu.vn/sites/default/files/...</td>\n",
       "      <td>Cambrigde</td>\n",
       "      <td>NaN</td>\n",
       "      <td>NaN</td>\n",
       "      <td>NaN</td>\n",
       "      <td>NaN</td>\n",
       "      <td>NaN</td>\n",
       "    </tr>\n",
       "    <tr>\n",
       "      <th>1957</th>\n",
       "      <td>286</td>\n",
       "      <td>0DBB8589XPvAibaEXe/YoO1jzW8XOeC3yXtssm72</td>\n",
       "      <td>NaN</td>\n",
       "      <td>'https://qldt.uit.edu.vn/sites/default/files/...</td>\n",
       "      <td>Cambrigde</td>\n",
       "      <td>NaN</td>\n",
       "      <td>NaN</td>\n",
       "      <td>NaN</td>\n",
       "      <td>NaN</td>\n",
       "      <td>NaN</td>\n",
       "    </tr>\n",
       "    <tr>\n",
       "      <th>2259</th>\n",
       "      <td>745</td>\n",
       "      <td>4205A08BXPvAibaEXe+YP7LJgGnBm5TAIrRi47d3</td>\n",
       "      <td>NaN</td>\n",
       "      <td>'https://qldt.uit.edu.vn/sites/default/files/...</td>\n",
       "      <td>Cambrigde</td>\n",
       "      <td>NaN</td>\n",
       "      <td>NaN</td>\n",
       "      <td>NaN</td>\n",
       "      <td>NaN</td>\n",
       "      <td>NaN</td>\n",
       "    </tr>\n",
       "    <tr>\n",
       "      <th>2269</th>\n",
       "      <td>759</td>\n",
       "      <td>E5E80C6CXPvAibaEXe+cD12UtkMSWHc68pRn+in5</td>\n",
       "      <td>NaN</td>\n",
       "      <td>'https://qldt.uit.edu.vn/sites/default/files/...</td>\n",
       "      <td>Cambrigde</td>\n",
       "      <td>NaN</td>\n",
       "      <td>NaN</td>\n",
       "      <td>NaN</td>\n",
       "      <td>NaN</td>\n",
       "      <td>NaN</td>\n",
       "    </tr>\n",
       "    <tr>\n",
       "      <th>2305</th>\n",
       "      <td>800</td>\n",
       "      <td>27DBC927XPvAibaEXe8HzJP81YpvnhXbGFLQmgfp</td>\n",
       "      <td>NaN</td>\n",
       "      <td>'https://qldt.uit.edu.vn/sites/default/files/...</td>\n",
       "      <td>Cambrigde</td>\n",
       "      <td>NaN</td>\n",
       "      <td>NaN</td>\n",
       "      <td>NaN</td>\n",
       "      <td>NaN</td>\n",
       "      <td>NaN</td>\n",
       "    </tr>\n",
       "    <tr>\n",
       "      <th>2433</th>\n",
       "      <td>952</td>\n",
       "      <td>5B6E05A9XPvAibaEXe+cD12UtkMSWPbG/LJ4xC9L</td>\n",
       "      <td>'2018-10-02'</td>\n",
       "      <td>'https://qldt.uit.edu.vn/sites/default/files/...</td>\n",
       "      <td>Cambrigde</td>\n",
       "      <td>NaN</td>\n",
       "      <td>NaN</td>\n",
       "      <td>NaN</td>\n",
       "      <td>NaN</td>\n",
       "      <td>'155'</td>\n",
       "    </tr>\n",
       "    <tr>\n",
       "      <th>2469</th>\n",
       "      <td>991</td>\n",
       "      <td>F14DEAD7XPvAibaEXe/4loAa7cHGjm8cxOhEvRrX</td>\n",
       "      <td>'2019-10-19'</td>\n",
       "      <td>'bangcap/14520570/14520570_bangcap_Cambrigde_...</td>\n",
       "      <td>Cambrigde</td>\n",
       "      <td>NaN</td>\n",
       "      <td>NaN</td>\n",
       "      <td>NaN</td>\n",
       "      <td>NaN</td>\n",
       "      <td>'141'</td>\n",
       "    </tr>\n",
       "    <tr>\n",
       "      <th>2795</th>\n",
       "      <td>2875</td>\n",
       "      <td>7784B953XPvAibaEXe+cD12UtkMSWFWqZZfTINbR</td>\n",
       "      <td>'2019-02-01'</td>\n",
       "      <td>'bangcap/19521979/19521979_bangcap_Cambrigde_...</td>\n",
       "      <td>Cambrigde</td>\n",
       "      <td>NaN</td>\n",
       "      <td>NaN</td>\n",
       "      <td>NaN</td>\n",
       "      <td>NaN</td>\n",
       "      <td>'165'</td>\n",
       "    </tr>\n",
       "    <tr>\n",
       "      <th>2879</th>\n",
       "      <td>3164</td>\n",
       "      <td>A1806278XPvAibaEXe+cD12UtkMSWLW1aXmlfuqM</td>\n",
       "      <td>'2017-06-01'</td>\n",
       "      <td>'bangcap/19521421/19521421_bangcap_Cambrigde_...</td>\n",
       "      <td>Cambrigde</td>\n",
       "      <td>NaN</td>\n",
       "      <td>NaN</td>\n",
       "      <td>NaN</td>\n",
       "      <td>NaN</td>\n",
       "      <td>'156'</td>\n",
       "    </tr>\n",
       "    <tr>\n",
       "      <th>2929</th>\n",
       "      <td>3348</td>\n",
       "      <td>05DBEB07XPvAibaEXe8HzJP81YpvnqXmn2BUhvgZ</td>\n",
       "      <td>'2018-04-15'</td>\n",
       "      <td>'bangcap/19520965/19520965_bangcap_Cambrigde_...</td>\n",
       "      <td>Cambrigde</td>\n",
       "      <td>NaN</td>\n",
       "      <td>NaN</td>\n",
       "      <td>NaN</td>\n",
       "      <td>NaN</td>\n",
       "      <td>'144'</td>\n",
       "    </tr>\n",
       "    <tr>\n",
       "      <th>2978</th>\n",
       "      <td>3454</td>\n",
       "      <td>27DBC927XPvAibaEXe8HzJP81YpvnhXbGFLQmgfp</td>\n",
       "      <td>'2018-08-11'</td>\n",
       "      <td>'bangcap/19520814/19520814_bangcap_Cambrigde_...</td>\n",
       "      <td>Cambrigde</td>\n",
       "      <td>NaN</td>\n",
       "      <td>NaN</td>\n",
       "      <td>NaN</td>\n",
       "      <td>NaN</td>\n",
       "      <td>'128'</td>\n",
       "    </tr>\n",
       "    <tr>\n",
       "      <th>3304</th>\n",
       "      <td>4155</td>\n",
       "      <td>A1806278XPvAibaEXe+cD12UtkMSWLW1aXmlfuqM</td>\n",
       "      <td>'2020-12-07'</td>\n",
       "      <td>'bangcap/19521421/19521421_bangcap_Cambrigde_...</td>\n",
       "      <td>Cambrigde</td>\n",
       "      <td>NaN</td>\n",
       "      <td>NaN</td>\n",
       "      <td>NaN</td>\n",
       "      <td>NaN</td>\n",
       "      <td>'163'</td>\n",
       "    </tr>\n",
       "  </tbody>\n",
       "</table>\n",
       "</div>"
      ],
      "text/plain": [
       "        id                                      masv        ngaythi  \\\n",
       "126    188  7F545E8AXPvAibaEXe9pXJcjrAt8XvrJ5qyJ0OB7            NaN   \n",
       "145    209  D5654CA2XPvAibaEXe+T+pdYLenbrobExAZPDdaO            NaN   \n",
       "149    214  AF041B0EXPvAibaEXe915NmCViXOMF4T+4qOc/vo            NaN   \n",
       "151    216  D65EC4A2XPvAibaEXe/MFNByxh05b9Afh/nBE41A            NaN   \n",
       "154    219  69CC9D77XPvAibaEXe/A0C8NKWg+cCtO4VRi7hM3            NaN   \n",
       "189    282  CAF9C110XPvAibaEXe8t4cDFHKW3SZrcOzqm7rb0            NaN   \n",
       "193    286  F6AB4799XPvAibaEXe+TUHAdEwrOx90Tv2fpdvvg            NaN   \n",
       "495    745  8A03E471XPvAibaEXe9drMWeKYE4jEX0sTSaswVe            NaN   \n",
       "505    759  07041016XPvAibaEXe+iIJOpfrvDw0cyN3jgSrMf            NaN   \n",
       "541    800  CBBEC090XPvAibaEXe/RBAYWwu4rYA0DT5I3POMR            NaN   \n",
       "669    952  28738743XPvAibaEXe+LaXEhdAaoNNFAwEYqhEoa     2018-10-02   \n",
       "705    991  5EFC6D3CXPvAibaEXe+TQJLvJOj4BW6T+T6AMVPf     2019-10-19   \n",
       "1031  2875  FEB0C633XPvAibaEXe+P3P+fEFRIWCovtvpxa3qR     2019-02-01   \n",
       "1115  3164  88452E23XPvAibaEXe/Hd2nFsMs4VOwNwn7XovOm     2017-06-01   \n",
       "1165  3348  930BB6AEXPvAibaEXe8+Y7C9z9gIQ7RT211VdpGs     2018-04-15   \n",
       "1214  3454  CBBEC090XPvAibaEXe/RBAYWwu4rYA0DT5I3POMR     2018-08-11   \n",
       "1540  4155  88452E23XPvAibaEXe/Hd2nFsMs4VOwNwn7XovOm     2020-12-07   \n",
       "1691  4555  E3E00426XPvAibaEXe/YoO1jzW8XOWeFcvQpBNZS   '2021-03-14'   \n",
       "1890   188  20662007XPvAibaEXe+NaxazXn6OZOdC8HJ6bV7f            NaN   \n",
       "1909   209  7E762A54XPvAibaEXe+NaxazXn6OZEgdhufGKbsc            NaN   \n",
       "1913   214  D5835D75XPvAibaEXe+NaxazXn6OZErv6N33HZYl            NaN   \n",
       "1915   216  4D43A5CCXPvAibaEXe+NaxazXn6OZKwGog/Y3fgM            NaN   \n",
       "1918   219  041CEE0DXPvAibaEXe87eTIiJiH6BCdrSqn1roEd            NaN   \n",
       "1953   282  2C75A0BBXPvAibaEXe/YoO1jzW8XOURZAYbYVwKd            NaN   \n",
       "1957   286  0DBB8589XPvAibaEXe/YoO1jzW8XOeC3yXtssm72            NaN   \n",
       "2259   745  4205A08BXPvAibaEXe+YP7LJgGnBm5TAIrRi47d3            NaN   \n",
       "2269   759  E5E80C6CXPvAibaEXe+cD12UtkMSWHc68pRn+in5            NaN   \n",
       "2305   800  27DBC927XPvAibaEXe8HzJP81YpvnhXbGFLQmgfp            NaN   \n",
       "2433   952  5B6E05A9XPvAibaEXe+cD12UtkMSWPbG/LJ4xC9L   '2018-10-02'   \n",
       "2469   991  F14DEAD7XPvAibaEXe/4loAa7cHGjm8cxOhEvRrX   '2019-10-19'   \n",
       "2795  2875  7784B953XPvAibaEXe+cD12UtkMSWFWqZZfTINbR   '2019-02-01'   \n",
       "2879  3164  A1806278XPvAibaEXe+cD12UtkMSWLW1aXmlfuqM   '2017-06-01'   \n",
       "2929  3348  05DBEB07XPvAibaEXe8HzJP81YpvnqXmn2BUhvgZ   '2018-04-15'   \n",
       "2978  3454  27DBC927XPvAibaEXe8HzJP81YpvnhXbGFLQmgfp   '2018-08-11'   \n",
       "3304  4155  A1806278XPvAibaEXe+cD12UtkMSWLW1aXmlfuqM   '2020-12-07'   \n",
       "\n",
       "                                                    url     loaixn   url.1  \\\n",
       "126    https://qldt.uit.edu.vn/sites/default/files/s...  Cambrigde     NaN   \n",
       "145    https://qldt.uit.edu.vn/sites/default/files/s...  Cambrigde     NaN   \n",
       "149    https://qldt.uit.edu.vn/sites/default/files/s...  Cambrigde     NaN   \n",
       "151    https://qldt.uit.edu.vn/sites/default/files/s...  Cambrigde     NaN   \n",
       "154    https://qldt.uit.edu.vn/sites/default/files/s...  Cambrigde     NaN   \n",
       "189    https://qldt.uit.edu.vn/sites/default/files/s...  Cambrigde     NaN   \n",
       "193    https://qldt.uit.edu.vn/sites/default/files/s...  Cambrigde     NaN   \n",
       "495    https://qldt.uit.edu.vn/sites/default/files/s...  Cambrigde     NaN   \n",
       "505    https://qldt.uit.edu.vn/sites/default/files/s...  Cambrigde     NaN   \n",
       "541    https://qldt.uit.edu.vn/sites/default/files/s...  Cambrigde     NaN   \n",
       "669    https://qldt.uit.edu.vn/sites/default/files/s...  Cambrigde     NaN   \n",
       "705    bangcap/14520570/14520570_bangcap_Cambrigde_2...  Cambrigde     NaN   \n",
       "1031   bangcap/19521979/19521979_bangcap_Cambrigde_2...  Cambrigde     NaN   \n",
       "1115   bangcap/19521421/19521421_bangcap_Cambrigde_2...  Cambrigde     NaN   \n",
       "1165   bangcap/19520965/19520965_bangcap_Cambrigde_2...  Cambrigde     NaN   \n",
       "1214   bangcap/19520814/19520814_bangcap_Cambrigde_2...  Cambrigde     NaN   \n",
       "1540   bangcap/19521421/19521421_bangcap_Cambrigde_2...  Cambrigde     NaN   \n",
       "1691   'bangcap/18521519/18521519_bangcap_Cambrigde_...  Cambrigde     NaN   \n",
       "1890   'https://qldt.uit.edu.vn/sites/default/files/...  Cambrigde     NaN   \n",
       "1909   'https://qldt.uit.edu.vn/sites/default/files/...  Cambrigde     NaN   \n",
       "1913   'https://qldt.uit.edu.vn/sites/default/files/...  Cambrigde     NaN   \n",
       "1915   'https://qldt.uit.edu.vn/sites/default/files/...  Cambrigde     NaN   \n",
       "1918   'https://qldt.uit.edu.vn/sites/default/files/...  Cambrigde     NaN   \n",
       "1953   'https://qldt.uit.edu.vn/sites/default/files/...  Cambrigde     NaN   \n",
       "1957   'https://qldt.uit.edu.vn/sites/default/files/...  Cambrigde     NaN   \n",
       "2259   'https://qldt.uit.edu.vn/sites/default/files/...  Cambrigde     NaN   \n",
       "2269   'https://qldt.uit.edu.vn/sites/default/files/...  Cambrigde     NaN   \n",
       "2305   'https://qldt.uit.edu.vn/sites/default/files/...  Cambrigde     NaN   \n",
       "2433   'https://qldt.uit.edu.vn/sites/default/files/...  Cambrigde     NaN   \n",
       "2469   'bangcap/14520570/14520570_bangcap_Cambrigde_...  Cambrigde     NaN   \n",
       "2795   'bangcap/19521979/19521979_bangcap_Cambrigde_...  Cambrigde     NaN   \n",
       "2879   'bangcap/19521421/19521421_bangcap_Cambrigde_...  Cambrigde     NaN   \n",
       "2929   'bangcap/19520965/19520965_bangcap_Cambrigde_...  Cambrigde     NaN   \n",
       "2978   'bangcap/19520814/19520814_bangcap_Cambrigde_...  Cambrigde     NaN   \n",
       "3304   'bangcap/19521421/19521421_bangcap_Cambrigde_...  Cambrigde     NaN   \n",
       "\n",
       "       loaixn.1   listening   speaking  reading  \n",
       "126         NaN         NaN        NaN      NaN  \n",
       "145         NaN         NaN        NaN      NaN  \n",
       "149         NaN         NaN        NaN      NaN  \n",
       "151         NaN         NaN        NaN      NaN  \n",
       "154         NaN         NaN        NaN      NaN  \n",
       "189         NaN         NaN        NaN      NaN  \n",
       "193         NaN         NaN        NaN      NaN  \n",
       "495         NaN         NaN        NaN      NaN  \n",
       "505         NaN         NaN        NaN      NaN  \n",
       "541         NaN         NaN        NaN      NaN  \n",
       "669         NaN         NaN        NaN      155  \n",
       "705         NaN         NaN        NaN      141  \n",
       "1031        NaN         NaN        NaN      165  \n",
       "1115        NaN         NaN        NaN      156  \n",
       "1165        NaN         NaN        NaN      144  \n",
       "1214        NaN         NaN        NaN      128  \n",
       "1540        NaN         NaN        NaN      163  \n",
       "1691        NaN         NaN        NaN    '154'  \n",
       "1890        NaN         NaN        NaN      NaN  \n",
       "1909        NaN         NaN        NaN      NaN  \n",
       "1913        NaN         NaN        NaN      NaN  \n",
       "1915        NaN         NaN        NaN      NaN  \n",
       "1918        NaN         NaN        NaN      NaN  \n",
       "1953        NaN         NaN        NaN      NaN  \n",
       "1957        NaN         NaN        NaN      NaN  \n",
       "2259        NaN         NaN        NaN      NaN  \n",
       "2269        NaN         NaN        NaN      NaN  \n",
       "2305        NaN         NaN        NaN      NaN  \n",
       "2433        NaN         NaN        NaN    '155'  \n",
       "2469        NaN         NaN        NaN    '141'  \n",
       "2795        NaN         NaN        NaN    '165'  \n",
       "2879        NaN         NaN        NaN    '156'  \n",
       "2929        NaN         NaN        NaN    '144'  \n",
       "2978        NaN         NaN        NaN    '128'  \n",
       "3304        NaN         NaN        NaN    '163'  "
      ]
     },
     "execution_count": 239,
     "metadata": {},
     "output_type": "execute_result"
    }
   ],
   "source": [
    "df_Cambrigde = df.loc[(df[\" loaixn\"] == \"Cambrigde\")]\n",
    "df_Cambrigde"
   ]
  },
  {
   "cell_type": "code",
   "execution_count": 240,
   "metadata": {},
   "outputs": [],
   "source": [
    "df_Cambrigde = df_Cambrigde.drop([\"id\",\" url\"], axis = 1).rename(columns= {\" url.1\": \"listening\", \" loaixn.1\": \"speaking\",\n",
    "                             \" listening\": \"reading\",\" speaking\": \"writing\", \" reading\": \"total\"})\n",
    "df_Cambrigde = df_Cambrigde.dropna(subset=[\"total\"])"
   ]
  },
  {
   "cell_type": "code",
   "execution_count": 241,
   "metadata": {},
   "outputs": [
    {
     "data": {
      "text/html": [
       "<div>\n",
       "<style scoped>\n",
       "    .dataframe tbody tr th:only-of-type {\n",
       "        vertical-align: middle;\n",
       "    }\n",
       "\n",
       "    .dataframe tbody tr th {\n",
       "        vertical-align: top;\n",
       "    }\n",
       "\n",
       "    .dataframe thead th {\n",
       "        text-align: right;\n",
       "    }\n",
       "</style>\n",
       "<table border=\"1\" class=\"dataframe\">\n",
       "  <thead>\n",
       "    <tr style=\"text-align: right;\">\n",
       "      <th></th>\n",
       "      <th>masv</th>\n",
       "      <th>ngaythi</th>\n",
       "      <th>loaixn</th>\n",
       "      <th>listening</th>\n",
       "      <th>speaking</th>\n",
       "      <th>reading</th>\n",
       "      <th>writing</th>\n",
       "      <th>total</th>\n",
       "    </tr>\n",
       "  </thead>\n",
       "  <tbody>\n",
       "    <tr>\n",
       "      <th>669</th>\n",
       "      <td>28738743XPvAibaEXe+LaXEhdAaoNNFAwEYqhEoa</td>\n",
       "      <td>2018-10-02</td>\n",
       "      <td>Cambrigde</td>\n",
       "      <td>NaN</td>\n",
       "      <td>NaN</td>\n",
       "      <td>NaN</td>\n",
       "      <td>NaN</td>\n",
       "      <td>155</td>\n",
       "    </tr>\n",
       "    <tr>\n",
       "      <th>705</th>\n",
       "      <td>5EFC6D3CXPvAibaEXe+TQJLvJOj4BW6T+T6AMVPf</td>\n",
       "      <td>2019-10-19</td>\n",
       "      <td>Cambrigde</td>\n",
       "      <td>NaN</td>\n",
       "      <td>NaN</td>\n",
       "      <td>NaN</td>\n",
       "      <td>NaN</td>\n",
       "      <td>141</td>\n",
       "    </tr>\n",
       "    <tr>\n",
       "      <th>1031</th>\n",
       "      <td>FEB0C633XPvAibaEXe+P3P+fEFRIWCovtvpxa3qR</td>\n",
       "      <td>2019-02-01</td>\n",
       "      <td>Cambrigde</td>\n",
       "      <td>NaN</td>\n",
       "      <td>NaN</td>\n",
       "      <td>NaN</td>\n",
       "      <td>NaN</td>\n",
       "      <td>165</td>\n",
       "    </tr>\n",
       "    <tr>\n",
       "      <th>1115</th>\n",
       "      <td>88452E23XPvAibaEXe/Hd2nFsMs4VOwNwn7XovOm</td>\n",
       "      <td>2017-06-01</td>\n",
       "      <td>Cambrigde</td>\n",
       "      <td>NaN</td>\n",
       "      <td>NaN</td>\n",
       "      <td>NaN</td>\n",
       "      <td>NaN</td>\n",
       "      <td>156</td>\n",
       "    </tr>\n",
       "    <tr>\n",
       "      <th>1165</th>\n",
       "      <td>930BB6AEXPvAibaEXe8+Y7C9z9gIQ7RT211VdpGs</td>\n",
       "      <td>2018-04-15</td>\n",
       "      <td>Cambrigde</td>\n",
       "      <td>NaN</td>\n",
       "      <td>NaN</td>\n",
       "      <td>NaN</td>\n",
       "      <td>NaN</td>\n",
       "      <td>144</td>\n",
       "    </tr>\n",
       "    <tr>\n",
       "      <th>1214</th>\n",
       "      <td>CBBEC090XPvAibaEXe/RBAYWwu4rYA0DT5I3POMR</td>\n",
       "      <td>2018-08-11</td>\n",
       "      <td>Cambrigde</td>\n",
       "      <td>NaN</td>\n",
       "      <td>NaN</td>\n",
       "      <td>NaN</td>\n",
       "      <td>NaN</td>\n",
       "      <td>128</td>\n",
       "    </tr>\n",
       "    <tr>\n",
       "      <th>1540</th>\n",
       "      <td>88452E23XPvAibaEXe/Hd2nFsMs4VOwNwn7XovOm</td>\n",
       "      <td>2020-12-07</td>\n",
       "      <td>Cambrigde</td>\n",
       "      <td>NaN</td>\n",
       "      <td>NaN</td>\n",
       "      <td>NaN</td>\n",
       "      <td>NaN</td>\n",
       "      <td>163</td>\n",
       "    </tr>\n",
       "    <tr>\n",
       "      <th>1691</th>\n",
       "      <td>E3E00426XPvAibaEXe/YoO1jzW8XOWeFcvQpBNZS</td>\n",
       "      <td>'2021-03-14'</td>\n",
       "      <td>Cambrigde</td>\n",
       "      <td>NaN</td>\n",
       "      <td>NaN</td>\n",
       "      <td>NaN</td>\n",
       "      <td>NaN</td>\n",
       "      <td>154</td>\n",
       "    </tr>\n",
       "    <tr>\n",
       "      <th>2433</th>\n",
       "      <td>5B6E05A9XPvAibaEXe+cD12UtkMSWPbG/LJ4xC9L</td>\n",
       "      <td>'2018-10-02'</td>\n",
       "      <td>Cambrigde</td>\n",
       "      <td>NaN</td>\n",
       "      <td>NaN</td>\n",
       "      <td>NaN</td>\n",
       "      <td>NaN</td>\n",
       "      <td>155</td>\n",
       "    </tr>\n",
       "    <tr>\n",
       "      <th>2469</th>\n",
       "      <td>F14DEAD7XPvAibaEXe/4loAa7cHGjm8cxOhEvRrX</td>\n",
       "      <td>'2019-10-19'</td>\n",
       "      <td>Cambrigde</td>\n",
       "      <td>NaN</td>\n",
       "      <td>NaN</td>\n",
       "      <td>NaN</td>\n",
       "      <td>NaN</td>\n",
       "      <td>141</td>\n",
       "    </tr>\n",
       "    <tr>\n",
       "      <th>2795</th>\n",
       "      <td>7784B953XPvAibaEXe+cD12UtkMSWFWqZZfTINbR</td>\n",
       "      <td>'2019-02-01'</td>\n",
       "      <td>Cambrigde</td>\n",
       "      <td>NaN</td>\n",
       "      <td>NaN</td>\n",
       "      <td>NaN</td>\n",
       "      <td>NaN</td>\n",
       "      <td>165</td>\n",
       "    </tr>\n",
       "    <tr>\n",
       "      <th>2879</th>\n",
       "      <td>A1806278XPvAibaEXe+cD12UtkMSWLW1aXmlfuqM</td>\n",
       "      <td>'2017-06-01'</td>\n",
       "      <td>Cambrigde</td>\n",
       "      <td>NaN</td>\n",
       "      <td>NaN</td>\n",
       "      <td>NaN</td>\n",
       "      <td>NaN</td>\n",
       "      <td>156</td>\n",
       "    </tr>\n",
       "    <tr>\n",
       "      <th>2929</th>\n",
       "      <td>05DBEB07XPvAibaEXe8HzJP81YpvnqXmn2BUhvgZ</td>\n",
       "      <td>'2018-04-15'</td>\n",
       "      <td>Cambrigde</td>\n",
       "      <td>NaN</td>\n",
       "      <td>NaN</td>\n",
       "      <td>NaN</td>\n",
       "      <td>NaN</td>\n",
       "      <td>144</td>\n",
       "    </tr>\n",
       "    <tr>\n",
       "      <th>2978</th>\n",
       "      <td>27DBC927XPvAibaEXe8HzJP81YpvnhXbGFLQmgfp</td>\n",
       "      <td>'2018-08-11'</td>\n",
       "      <td>Cambrigde</td>\n",
       "      <td>NaN</td>\n",
       "      <td>NaN</td>\n",
       "      <td>NaN</td>\n",
       "      <td>NaN</td>\n",
       "      <td>128</td>\n",
       "    </tr>\n",
       "    <tr>\n",
       "      <th>3304</th>\n",
       "      <td>A1806278XPvAibaEXe+cD12UtkMSWLW1aXmlfuqM</td>\n",
       "      <td>'2020-12-07'</td>\n",
       "      <td>Cambrigde</td>\n",
       "      <td>NaN</td>\n",
       "      <td>NaN</td>\n",
       "      <td>NaN</td>\n",
       "      <td>NaN</td>\n",
       "      <td>163</td>\n",
       "    </tr>\n",
       "  </tbody>\n",
       "</table>\n",
       "</div>"
      ],
      "text/plain": [
       "                                          masv        ngaythi     loaixn  \\\n",
       "669   28738743XPvAibaEXe+LaXEhdAaoNNFAwEYqhEoa     2018-10-02  Cambrigde   \n",
       "705   5EFC6D3CXPvAibaEXe+TQJLvJOj4BW6T+T6AMVPf     2019-10-19  Cambrigde   \n",
       "1031  FEB0C633XPvAibaEXe+P3P+fEFRIWCovtvpxa3qR     2019-02-01  Cambrigde   \n",
       "1115  88452E23XPvAibaEXe/Hd2nFsMs4VOwNwn7XovOm     2017-06-01  Cambrigde   \n",
       "1165  930BB6AEXPvAibaEXe8+Y7C9z9gIQ7RT211VdpGs     2018-04-15  Cambrigde   \n",
       "1214  CBBEC090XPvAibaEXe/RBAYWwu4rYA0DT5I3POMR     2018-08-11  Cambrigde   \n",
       "1540  88452E23XPvAibaEXe/Hd2nFsMs4VOwNwn7XovOm     2020-12-07  Cambrigde   \n",
       "1691  E3E00426XPvAibaEXe/YoO1jzW8XOWeFcvQpBNZS   '2021-03-14'  Cambrigde   \n",
       "2433  5B6E05A9XPvAibaEXe+cD12UtkMSWPbG/LJ4xC9L   '2018-10-02'  Cambrigde   \n",
       "2469  F14DEAD7XPvAibaEXe/4loAa7cHGjm8cxOhEvRrX   '2019-10-19'  Cambrigde   \n",
       "2795  7784B953XPvAibaEXe+cD12UtkMSWFWqZZfTINbR   '2019-02-01'  Cambrigde   \n",
       "2879  A1806278XPvAibaEXe+cD12UtkMSWLW1aXmlfuqM   '2017-06-01'  Cambrigde   \n",
       "2929  05DBEB07XPvAibaEXe8HzJP81YpvnqXmn2BUhvgZ   '2018-04-15'  Cambrigde   \n",
       "2978  27DBC927XPvAibaEXe8HzJP81YpvnhXbGFLQmgfp   '2018-08-11'  Cambrigde   \n",
       "3304  A1806278XPvAibaEXe+cD12UtkMSWLW1aXmlfuqM   '2020-12-07'  Cambrigde   \n",
       "\n",
       "      listening  speaking  reading  writing  total  \n",
       "669         NaN       NaN      NaN      NaN    155  \n",
       "705         NaN       NaN      NaN      NaN    141  \n",
       "1031        NaN       NaN      NaN      NaN    165  \n",
       "1115        NaN       NaN      NaN      NaN    156  \n",
       "1165        NaN       NaN      NaN      NaN    144  \n",
       "1214        NaN       NaN      NaN      NaN    128  \n",
       "1540        NaN       NaN      NaN      NaN    163  \n",
       "1691        NaN       NaN      NaN      NaN    154  \n",
       "2433        NaN       NaN      NaN      NaN    155  \n",
       "2469        NaN       NaN      NaN      NaN    141  \n",
       "2795        NaN       NaN      NaN      NaN    165  \n",
       "2879        NaN       NaN      NaN      NaN    156  \n",
       "2929        NaN       NaN      NaN      NaN    144  \n",
       "2978        NaN       NaN      NaN      NaN    128  \n",
       "3304        NaN       NaN      NaN      NaN    163  "
      ]
     },
     "execution_count": 241,
     "metadata": {},
     "output_type": "execute_result"
    }
   ],
   "source": [
    "dict = {'155': 155, '141': 141, '165': 165, '156': 156, '144': 144, '128': 128, '163': 163, \" '154'\": 154, \" '155'\": 155, \" '141'\": 141, \" '165'\": 165, \" '156'\": 156, \" '144'\": 144, \" '128'\": 128, \" '163'\": 163}\n",
    "df_Cambrigde[\"total\"] = df_Cambrigde[\"total\"].map(dict)\n",
    "df_Cambrigde"
   ]
  },
  {
   "cell_type": "code",
   "execution_count": 237,
   "metadata": {},
   "outputs": [
    {
     "data": {
      "application/vnd.plotly.v1+json": {
       "config": {
        "plotlyServerURL": "https://plot.ly"
       },
       "data": [
        {
         "alignmentgroup": "True",
         "hovertemplate": "IELTS Score=%{x}<br>Số lượng=%{y}<br>color=%{marker.color}<extra></extra>",
         "legendgroup": "",
         "marker": {
          "color": [
           2,
           2,
           2,
           2,
           2,
           2,
           2,
           1
          ],
          "coloraxis": "coloraxis",
          "pattern": {
           "shape": ""
          }
         },
         "name": "",
         "offsetgroup": "",
         "orientation": "v",
         "showlegend": false,
         "textposition": "auto",
         "type": "bar",
         "x": [
          155,
          141,
          165,
          156,
          144,
          128,
          163,
          154
         ],
         "xaxis": "x",
         "y": [
          2,
          2,
          2,
          2,
          2,
          2,
          2,
          1
         ],
         "yaxis": "y"
        }
       ],
       "layout": {
        "barmode": "relative",
        "coloraxis": {
         "colorbar": {
          "title": {
           "text": "color"
          }
         },
         "colorscale": [
          [
           0,
           "#0d0887"
          ],
          [
           0.1111111111111111,
           "#46039f"
          ],
          [
           0.2222222222222222,
           "#7201a8"
          ],
          [
           0.3333333333333333,
           "#9c179e"
          ],
          [
           0.4444444444444444,
           "#bd3786"
          ],
          [
           0.5555555555555556,
           "#d8576b"
          ],
          [
           0.6666666666666666,
           "#ed7953"
          ],
          [
           0.7777777777777778,
           "#fb9f3a"
          ],
          [
           0.8888888888888888,
           "#fdca26"
          ],
          [
           1,
           "#f0f921"
          ]
         ]
        },
        "legend": {
         "tracegroupgap": 0
        },
        "template": {
         "data": {
          "bar": [
           {
            "error_x": {
             "color": "#2a3f5f"
            },
            "error_y": {
             "color": "#2a3f5f"
            },
            "marker": {
             "line": {
              "color": "#E5ECF6",
              "width": 0.5
             },
             "pattern": {
              "fillmode": "overlay",
              "size": 10,
              "solidity": 0.2
             }
            },
            "type": "bar"
           }
          ],
          "barpolar": [
           {
            "marker": {
             "line": {
              "color": "#E5ECF6",
              "width": 0.5
             },
             "pattern": {
              "fillmode": "overlay",
              "size": 10,
              "solidity": 0.2
             }
            },
            "type": "barpolar"
           }
          ],
          "carpet": [
           {
            "aaxis": {
             "endlinecolor": "#2a3f5f",
             "gridcolor": "white",
             "linecolor": "white",
             "minorgridcolor": "white",
             "startlinecolor": "#2a3f5f"
            },
            "baxis": {
             "endlinecolor": "#2a3f5f",
             "gridcolor": "white",
             "linecolor": "white",
             "minorgridcolor": "white",
             "startlinecolor": "#2a3f5f"
            },
            "type": "carpet"
           }
          ],
          "choropleth": [
           {
            "colorbar": {
             "outlinewidth": 0,
             "ticks": ""
            },
            "type": "choropleth"
           }
          ],
          "contour": [
           {
            "colorbar": {
             "outlinewidth": 0,
             "ticks": ""
            },
            "colorscale": [
             [
              0,
              "#0d0887"
             ],
             [
              0.1111111111111111,
              "#46039f"
             ],
             [
              0.2222222222222222,
              "#7201a8"
             ],
             [
              0.3333333333333333,
              "#9c179e"
             ],
             [
              0.4444444444444444,
              "#bd3786"
             ],
             [
              0.5555555555555556,
              "#d8576b"
             ],
             [
              0.6666666666666666,
              "#ed7953"
             ],
             [
              0.7777777777777778,
              "#fb9f3a"
             ],
             [
              0.8888888888888888,
              "#fdca26"
             ],
             [
              1,
              "#f0f921"
             ]
            ],
            "type": "contour"
           }
          ],
          "contourcarpet": [
           {
            "colorbar": {
             "outlinewidth": 0,
             "ticks": ""
            },
            "type": "contourcarpet"
           }
          ],
          "heatmap": [
           {
            "colorbar": {
             "outlinewidth": 0,
             "ticks": ""
            },
            "colorscale": [
             [
              0,
              "#0d0887"
             ],
             [
              0.1111111111111111,
              "#46039f"
             ],
             [
              0.2222222222222222,
              "#7201a8"
             ],
             [
              0.3333333333333333,
              "#9c179e"
             ],
             [
              0.4444444444444444,
              "#bd3786"
             ],
             [
              0.5555555555555556,
              "#d8576b"
             ],
             [
              0.6666666666666666,
              "#ed7953"
             ],
             [
              0.7777777777777778,
              "#fb9f3a"
             ],
             [
              0.8888888888888888,
              "#fdca26"
             ],
             [
              1,
              "#f0f921"
             ]
            ],
            "type": "heatmap"
           }
          ],
          "heatmapgl": [
           {
            "colorbar": {
             "outlinewidth": 0,
             "ticks": ""
            },
            "colorscale": [
             [
              0,
              "#0d0887"
             ],
             [
              0.1111111111111111,
              "#46039f"
             ],
             [
              0.2222222222222222,
              "#7201a8"
             ],
             [
              0.3333333333333333,
              "#9c179e"
             ],
             [
              0.4444444444444444,
              "#bd3786"
             ],
             [
              0.5555555555555556,
              "#d8576b"
             ],
             [
              0.6666666666666666,
              "#ed7953"
             ],
             [
              0.7777777777777778,
              "#fb9f3a"
             ],
             [
              0.8888888888888888,
              "#fdca26"
             ],
             [
              1,
              "#f0f921"
             ]
            ],
            "type": "heatmapgl"
           }
          ],
          "histogram": [
           {
            "marker": {
             "pattern": {
              "fillmode": "overlay",
              "size": 10,
              "solidity": 0.2
             }
            },
            "type": "histogram"
           }
          ],
          "histogram2d": [
           {
            "colorbar": {
             "outlinewidth": 0,
             "ticks": ""
            },
            "colorscale": [
             [
              0,
              "#0d0887"
             ],
             [
              0.1111111111111111,
              "#46039f"
             ],
             [
              0.2222222222222222,
              "#7201a8"
             ],
             [
              0.3333333333333333,
              "#9c179e"
             ],
             [
              0.4444444444444444,
              "#bd3786"
             ],
             [
              0.5555555555555556,
              "#d8576b"
             ],
             [
              0.6666666666666666,
              "#ed7953"
             ],
             [
              0.7777777777777778,
              "#fb9f3a"
             ],
             [
              0.8888888888888888,
              "#fdca26"
             ],
             [
              1,
              "#f0f921"
             ]
            ],
            "type": "histogram2d"
           }
          ],
          "histogram2dcontour": [
           {
            "colorbar": {
             "outlinewidth": 0,
             "ticks": ""
            },
            "colorscale": [
             [
              0,
              "#0d0887"
             ],
             [
              0.1111111111111111,
              "#46039f"
             ],
             [
              0.2222222222222222,
              "#7201a8"
             ],
             [
              0.3333333333333333,
              "#9c179e"
             ],
             [
              0.4444444444444444,
              "#bd3786"
             ],
             [
              0.5555555555555556,
              "#d8576b"
             ],
             [
              0.6666666666666666,
              "#ed7953"
             ],
             [
              0.7777777777777778,
              "#fb9f3a"
             ],
             [
              0.8888888888888888,
              "#fdca26"
             ],
             [
              1,
              "#f0f921"
             ]
            ],
            "type": "histogram2dcontour"
           }
          ],
          "mesh3d": [
           {
            "colorbar": {
             "outlinewidth": 0,
             "ticks": ""
            },
            "type": "mesh3d"
           }
          ],
          "parcoords": [
           {
            "line": {
             "colorbar": {
              "outlinewidth": 0,
              "ticks": ""
             }
            },
            "type": "parcoords"
           }
          ],
          "pie": [
           {
            "automargin": true,
            "type": "pie"
           }
          ],
          "scatter": [
           {
            "fillpattern": {
             "fillmode": "overlay",
             "size": 10,
             "solidity": 0.2
            },
            "type": "scatter"
           }
          ],
          "scatter3d": [
           {
            "line": {
             "colorbar": {
              "outlinewidth": 0,
              "ticks": ""
             }
            },
            "marker": {
             "colorbar": {
              "outlinewidth": 0,
              "ticks": ""
             }
            },
            "type": "scatter3d"
           }
          ],
          "scattercarpet": [
           {
            "marker": {
             "colorbar": {
              "outlinewidth": 0,
              "ticks": ""
             }
            },
            "type": "scattercarpet"
           }
          ],
          "scattergeo": [
           {
            "marker": {
             "colorbar": {
              "outlinewidth": 0,
              "ticks": ""
             }
            },
            "type": "scattergeo"
           }
          ],
          "scattergl": [
           {
            "marker": {
             "colorbar": {
              "outlinewidth": 0,
              "ticks": ""
             }
            },
            "type": "scattergl"
           }
          ],
          "scattermapbox": [
           {
            "marker": {
             "colorbar": {
              "outlinewidth": 0,
              "ticks": ""
             }
            },
            "type": "scattermapbox"
           }
          ],
          "scatterpolar": [
           {
            "marker": {
             "colorbar": {
              "outlinewidth": 0,
              "ticks": ""
             }
            },
            "type": "scatterpolar"
           }
          ],
          "scatterpolargl": [
           {
            "marker": {
             "colorbar": {
              "outlinewidth": 0,
              "ticks": ""
             }
            },
            "type": "scatterpolargl"
           }
          ],
          "scatterternary": [
           {
            "marker": {
             "colorbar": {
              "outlinewidth": 0,
              "ticks": ""
             }
            },
            "type": "scatterternary"
           }
          ],
          "surface": [
           {
            "colorbar": {
             "outlinewidth": 0,
             "ticks": ""
            },
            "colorscale": [
             [
              0,
              "#0d0887"
             ],
             [
              0.1111111111111111,
              "#46039f"
             ],
             [
              0.2222222222222222,
              "#7201a8"
             ],
             [
              0.3333333333333333,
              "#9c179e"
             ],
             [
              0.4444444444444444,
              "#bd3786"
             ],
             [
              0.5555555555555556,
              "#d8576b"
             ],
             [
              0.6666666666666666,
              "#ed7953"
             ],
             [
              0.7777777777777778,
              "#fb9f3a"
             ],
             [
              0.8888888888888888,
              "#fdca26"
             ],
             [
              1,
              "#f0f921"
             ]
            ],
            "type": "surface"
           }
          ],
          "table": [
           {
            "cells": {
             "fill": {
              "color": "#EBF0F8"
             },
             "line": {
              "color": "white"
             }
            },
            "header": {
             "fill": {
              "color": "#C8D4E3"
             },
             "line": {
              "color": "white"
             }
            },
            "type": "table"
           }
          ]
         },
         "layout": {
          "annotationdefaults": {
           "arrowcolor": "#2a3f5f",
           "arrowhead": 0,
           "arrowwidth": 1
          },
          "autotypenumbers": "strict",
          "coloraxis": {
           "colorbar": {
            "outlinewidth": 0,
            "ticks": ""
           }
          },
          "colorscale": {
           "diverging": [
            [
             0,
             "#8e0152"
            ],
            [
             0.1,
             "#c51b7d"
            ],
            [
             0.2,
             "#de77ae"
            ],
            [
             0.3,
             "#f1b6da"
            ],
            [
             0.4,
             "#fde0ef"
            ],
            [
             0.5,
             "#f7f7f7"
            ],
            [
             0.6,
             "#e6f5d0"
            ],
            [
             0.7,
             "#b8e186"
            ],
            [
             0.8,
             "#7fbc41"
            ],
            [
             0.9,
             "#4d9221"
            ],
            [
             1,
             "#276419"
            ]
           ],
           "sequential": [
            [
             0,
             "#0d0887"
            ],
            [
             0.1111111111111111,
             "#46039f"
            ],
            [
             0.2222222222222222,
             "#7201a8"
            ],
            [
             0.3333333333333333,
             "#9c179e"
            ],
            [
             0.4444444444444444,
             "#bd3786"
            ],
            [
             0.5555555555555556,
             "#d8576b"
            ],
            [
             0.6666666666666666,
             "#ed7953"
            ],
            [
             0.7777777777777778,
             "#fb9f3a"
            ],
            [
             0.8888888888888888,
             "#fdca26"
            ],
            [
             1,
             "#f0f921"
            ]
           ],
           "sequentialminus": [
            [
             0,
             "#0d0887"
            ],
            [
             0.1111111111111111,
             "#46039f"
            ],
            [
             0.2222222222222222,
             "#7201a8"
            ],
            [
             0.3333333333333333,
             "#9c179e"
            ],
            [
             0.4444444444444444,
             "#bd3786"
            ],
            [
             0.5555555555555556,
             "#d8576b"
            ],
            [
             0.6666666666666666,
             "#ed7953"
            ],
            [
             0.7777777777777778,
             "#fb9f3a"
            ],
            [
             0.8888888888888888,
             "#fdca26"
            ],
            [
             1,
             "#f0f921"
            ]
           ]
          },
          "colorway": [
           "#636efa",
           "#EF553B",
           "#00cc96",
           "#ab63fa",
           "#FFA15A",
           "#19d3f3",
           "#FF6692",
           "#B6E880",
           "#FF97FF",
           "#FECB52"
          ],
          "font": {
           "color": "#2a3f5f"
          },
          "geo": {
           "bgcolor": "white",
           "lakecolor": "white",
           "landcolor": "#E5ECF6",
           "showlakes": true,
           "showland": true,
           "subunitcolor": "white"
          },
          "hoverlabel": {
           "align": "left"
          },
          "hovermode": "closest",
          "mapbox": {
           "style": "light"
          },
          "paper_bgcolor": "white",
          "plot_bgcolor": "#E5ECF6",
          "polar": {
           "angularaxis": {
            "gridcolor": "white",
            "linecolor": "white",
            "ticks": ""
           },
           "bgcolor": "#E5ECF6",
           "radialaxis": {
            "gridcolor": "white",
            "linecolor": "white",
            "ticks": ""
           }
          },
          "scene": {
           "xaxis": {
            "backgroundcolor": "#E5ECF6",
            "gridcolor": "white",
            "gridwidth": 2,
            "linecolor": "white",
            "showbackground": true,
            "ticks": "",
            "zerolinecolor": "white"
           },
           "yaxis": {
            "backgroundcolor": "#E5ECF6",
            "gridcolor": "white",
            "gridwidth": 2,
            "linecolor": "white",
            "showbackground": true,
            "ticks": "",
            "zerolinecolor": "white"
           },
           "zaxis": {
            "backgroundcolor": "#E5ECF6",
            "gridcolor": "white",
            "gridwidth": 2,
            "linecolor": "white",
            "showbackground": true,
            "ticks": "",
            "zerolinecolor": "white"
           }
          },
          "shapedefaults": {
           "line": {
            "color": "#2a3f5f"
           }
          },
          "ternary": {
           "aaxis": {
            "gridcolor": "white",
            "linecolor": "white",
            "ticks": ""
           },
           "baxis": {
            "gridcolor": "white",
            "linecolor": "white",
            "ticks": ""
           },
           "bgcolor": "#E5ECF6",
           "caxis": {
            "gridcolor": "white",
            "linecolor": "white",
            "ticks": ""
           }
          },
          "title": {
           "x": 0.05
          },
          "xaxis": {
           "automargin": true,
           "gridcolor": "white",
           "linecolor": "white",
           "ticks": "",
           "title": {
            "standoff": 15
           },
           "zerolinecolor": "white",
           "zerolinewidth": 2
          },
          "yaxis": {
           "automargin": true,
           "gridcolor": "white",
           "linecolor": "white",
           "ticks": "",
           "title": {
            "standoff": 15
           },
           "zerolinecolor": "white",
           "zerolinewidth": 2
          }
         }
        },
        "title": {
         "text": "Dữ liệu tổng điểm của chứng chỉ IELTS"
        },
        "xaxis": {
         "anchor": "y",
         "domain": [
          0,
          1
         ],
         "title": {
          "text": "IELTS Score"
         }
        },
        "yaxis": {
         "anchor": "x",
         "domain": [
          0,
          1
         ],
         "title": {
          "text": "Số lượng"
         }
        }
       }
      }
     },
     "metadata": {},
     "output_type": "display_data"
    }
   ],
   "source": [
    "df_Cambrigde = df_Cambrigde.dropna(subset=[\"total\"])\n",
    "fig = px.bar(df_Cambrigde, x=df_Cambrigde[\"total\"].value_counts().index, \n",
    "             y=df_Cambrigde[\"total\"].value_counts().values,\n",
    "             color=df_Cambrigde[\"total\"].value_counts().values,\n",
    "             labels = {\"x\":\"IELTS Score\",\n",
    "                       \"y\": \"Số lượng\"},\n",
    "             title=\"Dữ liệu tổng điểm của chứng chỉ IELTS\")\n",
    "fig"
   ]
  }
 ],
 "metadata": {
  "kernelspec": {
   "display_name": "code",
   "language": "python",
   "name": "python3"
  },
  "language_info": {
   "codemirror_mode": {
    "name": "ipython",
    "version": 3
   },
   "file_extension": ".py",
   "mimetype": "text/x-python",
   "name": "python",
   "nbconvert_exporter": "python",
   "pygments_lexer": "ipython3",
   "version": "3.11.2"
  },
  "orig_nbformat": 4
 },
 "nbformat": 4,
 "nbformat_minor": 2
}
