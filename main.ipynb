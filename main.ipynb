{
 "cells": [
  {
   "cell_type": "code",
   "execution_count": 6,
   "metadata": {},
   "outputs": [],
   "source": [
    "import pandas as pd\n",
    "from unidecode import unidecode\n",
    "# from vnpy import tokenize\n",
    "from pyvi import ViTokenizer\n"
   ]
  },
  {
   "cell_type": "code",
   "execution_count": null,
   "metadata": {},
   "outputs": [],
   "source": []
  },
  {
   "cell_type": "code",
   "execution_count": 3,
   "metadata": {},
   "outputs": [
    {
     "data": {
      "text/plain": [
       "b' TP. H\\xe2\\x80\\x9c Ch\\xc3\\xad Minh'"
      ]
     },
     "execution_count": 3,
     "metadata": {},
     "output_type": "execute_result"
    }
   ],
   "source": [
    "txt = \" TP. H“ Chí Minh\"\n",
    "txt.encode(encoding= 'utf-8', errors=\"backslashreplace\")"
   ]
  },
  {
   "cell_type": "code",
   "execution_count": 4,
   "metadata": {},
   "outputs": [
    {
     "data": {
      "text/plain": [
       "' TP. H“ Chí Minh'"
      ]
     },
     "execution_count": 4,
     "metadata": {},
     "output_type": "execute_result"
    }
   ],
   "source": [
    "txt = b' TP. H\\xe2\\x80\\x9c Ch\\xc3\\xad Minh'\n",
    "txt.decode(encoding=\"utf-8\", errors=\"backslashreplace\")"
   ]
  },
  {
   "cell_type": "code",
   "execution_count": 18,
   "metadata": {},
   "outputs": [
    {
     "name": "stdout",
     "output_type": "stream",
     "text": [
      "b'TP. H\\xe1\\xbb\\x93 Ch\\xc3\\xad Minh'\n",
      "b'TP. H Ch Minh'\n",
      "b'TP. H\\\\N{LATIN SMALL LETTER O WITH CIRCUMFLEX AND GRAVE} Ch\\\\N{LATIN SMALL LETTER I WITH ACUTE} Minh'\n",
      "b'TP. H? Ch? Minh'\n",
      "b'TP. H&#7891; Ch&#237; Minh'\n"
     ]
    }
   ],
   "source": [
    "txt = \"TP. Hồ Chí Minh\"\n",
    "\n",
    "print(txt.encode(encoding=\"utf-8\",errors=\"backslashreplace\"))\n",
    "print(txt.encode(encoding=\"ascii\",errors=\"ignore\"))\n",
    "print(txt.encode(encoding=\"ascii\",errors=\"namereplace\"))\n",
    "print(txt.encode(encoding=\"ascii\",errors=\"replace\"))\n",
    "print(txt.encode(encoding=\"ascii\",errors=\"xmlcharrefreplace\"))"
   ]
  },
  {
   "cell_type": "markdown",
   "metadata": {},
   "source": []
  },
  {
   "cell_type": "code",
   "execution_count": 12,
   "metadata": {},
   "outputs": [
    {
     "name": "stderr",
     "output_type": "stream",
     "text": [
      "C:\\Users\\ADMIN\\AppData\\Local\\Temp\\ipykernel_30648\\4173005477.py:1: DtypeWarning: Columns (17,18,19,20,21,22,23,24,25,26,27,28,29,30,31,32,33,34,35,36,37,38,39,40,41,42,43,44,45,46,47,48,49,50,51,52,53,54,55,56,57,58,59,60,61,62,63) have mixed types. Specify dtype option on import or set low_memory=False.\n",
      "  df = pd.read_csv(\"./Education dataset/01.sinhvien.csv\", encoding = \"ISO-8859-1\")\n"
     ]
    },
    {
     "data": {
      "text/html": [
       "<div>\n",
       "<style scoped>\n",
       "    .dataframe tbody tr th:only-of-type {\n",
       "        vertical-align: middle;\n",
       "    }\n",
       "\n",
       "    .dataframe tbody tr th {\n",
       "        vertical-align: top;\n",
       "    }\n",
       "\n",
       "    .dataframe thead th {\n",
       "        text-align: right;\n",
       "    }\n",
       "</style>\n",
       "<table border=\"1\" class=\"dataframe\">\n",
       "  <thead>\n",
       "    <tr style=\"text-align: right;\">\n",
       "      <th></th>\n",
       "      <th>id</th>\n",
       "      <th>masv_tham so dau</th>\n",
       "      <th>masv</th>\n",
       "      <th>namsinh</th>\n",
       "      <th>gioitinh</th>\n",
       "      <th>noisinh</th>\n",
       "      <th>lopsh</th>\n",
       "      <th>khoa</th>\n",
       "      <th>hedt</th>\n",
       "      <th>khoahoc</th>\n",
       "      <th>...</th>\n",
       "      <th>Unnamed: 54</th>\n",
       "      <th>Unnamed: 55</th>\n",
       "      <th>Unnamed: 56</th>\n",
       "      <th>Unnamed: 57</th>\n",
       "      <th>Unnamed: 58</th>\n",
       "      <th>Unnamed: 59</th>\n",
       "      <th>Unnamed: 60</th>\n",
       "      <th>Unnamed: 61</th>\n",
       "      <th>Unnamed: 62</th>\n",
       "      <th>Unnamed: 63</th>\n",
       "    </tr>\n",
       "  </thead>\n",
       "  <tbody>\n",
       "    <tr>\n",
       "      <th>0</th>\n",
       "      <td>1.0</td>\n",
       "      <td>1352</td>\n",
       "      <td>BE375BAAXPvAibaEXe9JDlHA4z2GHJ3/PVStCxR2</td>\n",
       "      <td>1995</td>\n",
       "      <td>1.0</td>\n",
       "      <td>TP. H Chí Minh</td>\n",
       "      <td>KTPM0001</td>\n",
       "      <td>CNPM</td>\n",
       "      <td>CQUI</td>\n",
       "      <td>8.0</td>\n",
       "      <td>...</td>\n",
       "      <td>NaN</td>\n",
       "      <td>NaN</td>\n",
       "      <td>NaN</td>\n",
       "      <td>NaN</td>\n",
       "      <td>NaN</td>\n",
       "      <td>NaN</td>\n",
       "      <td>NaN</td>\n",
       "      <td>NaN</td>\n",
       "      <td>NaN</td>\n",
       "      <td>NaN</td>\n",
       "    </tr>\n",
       "    <tr>\n",
       "      <th>1</th>\n",
       "      <td>2.0</td>\n",
       "      <td>1352</td>\n",
       "      <td>2420ED57XPvAibaEXe/Lh6v1XxTKJa6JLFRUPkLM</td>\n",
       "      <td>1995</td>\n",
       "      <td>1.0</td>\n",
       "      <td>?ng Tháp</td>\n",
       "      <td>HTTT0001</td>\n",
       "      <td>HTTT</td>\n",
       "      <td>CTTT</td>\n",
       "      <td>8.0</td>\n",
       "      <td>...</td>\n",
       "      <td>NaN</td>\n",
       "      <td>NaN</td>\n",
       "      <td>NaN</td>\n",
       "      <td>NaN</td>\n",
       "      <td>NaN</td>\n",
       "      <td>NaN</td>\n",
       "      <td>NaN</td>\n",
       "      <td>NaN</td>\n",
       "      <td>NaN</td>\n",
       "      <td>NaN</td>\n",
       "    </tr>\n",
       "    <tr>\n",
       "      <th>2</th>\n",
       "      <td>3.0</td>\n",
       "      <td>1352</td>\n",
       "      <td>83B76C01XPvAibaEXe/lOccskaOiO2K46r7t4qnt</td>\n",
       "      <td>1994</td>\n",
       "      <td>1.0</td>\n",
       "      <td>Hà Nam Ninh</td>\n",
       "      <td>KHMT2013</td>\n",
       "      <td>KHMT</td>\n",
       "      <td>CQUI</td>\n",
       "      <td>8.0</td>\n",
       "      <td>...</td>\n",
       "      <td>NaN</td>\n",
       "      <td>NaN</td>\n",
       "      <td>NaN</td>\n",
       "      <td>NaN</td>\n",
       "      <td>NaN</td>\n",
       "      <td>NaN</td>\n",
       "      <td>NaN</td>\n",
       "      <td>NaN</td>\n",
       "      <td>NaN</td>\n",
       "      <td>NaN</td>\n",
       "    </tr>\n",
       "    <tr>\n",
       "      <th>3</th>\n",
       "      <td>4.0</td>\n",
       "      <td>1352</td>\n",
       "      <td>91F785ABXPvAibaEXe/lOccskaOiO5y4GbVvuRQu</td>\n",
       "      <td>1995</td>\n",
       "      <td>1.0</td>\n",
       "      <td>TP. H Chí Minh</td>\n",
       "      <td>HTTT0001</td>\n",
       "      <td>HTTT</td>\n",
       "      <td>CTTT</td>\n",
       "      <td>8.0</td>\n",
       "      <td>...</td>\n",
       "      <td>NaN</td>\n",
       "      <td>NaN</td>\n",
       "      <td>NaN</td>\n",
       "      <td>NaN</td>\n",
       "      <td>NaN</td>\n",
       "      <td>NaN</td>\n",
       "      <td>NaN</td>\n",
       "      <td>NaN</td>\n",
       "      <td>NaN</td>\n",
       "      <td>NaN</td>\n",
       "    </tr>\n",
       "    <tr>\n",
       "      <th>4</th>\n",
       "      <td>5.0</td>\n",
       "      <td>1352</td>\n",
       "      <td>007C275DXPvAibaEXe+TFgEDwYNnveOOmOYeYzF6</td>\n",
       "      <td>1995</td>\n",
       "      <td>1.0</td>\n",
       "      <td>Thành ph H Chí Minh</td>\n",
       "      <td>MMTT0001</td>\n",
       "      <td>MMT&amp;TT</td>\n",
       "      <td>CQUI</td>\n",
       "      <td>8.0</td>\n",
       "      <td>...</td>\n",
       "      <td>NaN</td>\n",
       "      <td>NaN</td>\n",
       "      <td>NaN</td>\n",
       "      <td>NaN</td>\n",
       "      <td>NaN</td>\n",
       "      <td>NaN</td>\n",
       "      <td>NaN</td>\n",
       "      <td>NaN</td>\n",
       "      <td>NaN</td>\n",
       "      <td>NaN</td>\n",
       "    </tr>\n",
       "    <tr>\n",
       "      <th>...</th>\n",
       "      <td>...</td>\n",
       "      <td>...</td>\n",
       "      <td>...</td>\n",
       "      <td>...</td>\n",
       "      <td>...</td>\n",
       "      <td>...</td>\n",
       "      <td>...</td>\n",
       "      <td>...</td>\n",
       "      <td>...</td>\n",
       "      <td>...</td>\n",
       "      <td>...</td>\n",
       "      <td>...</td>\n",
       "      <td>...</td>\n",
       "      <td>...</td>\n",
       "      <td>...</td>\n",
       "      <td>...</td>\n",
       "      <td>...</td>\n",
       "      <td>...</td>\n",
       "      <td>...</td>\n",
       "      <td>...</td>\n",
       "      <td>...</td>\n",
       "    </tr>\n",
       "    <tr>\n",
       "      <th>8311</th>\n",
       "      <td>19283.0</td>\n",
       "      <td>'18</td>\n",
       "      <td>A90A5811XPvAibaEXe/YoO1jzW8XOXvIMBBcj6JV</td>\n",
       "      <td>'2000'</td>\n",
       "      <td>1.0</td>\n",
       "      <td>'An Giang'</td>\n",
       "      <td>'MMCL2019.2'</td>\n",
       "      <td>'MMT&amp;TT'</td>\n",
       "      <td>'CLC'</td>\n",
       "      <td>14.0</td>\n",
       "      <td>...</td>\n",
       "      <td>NaN</td>\n",
       "      <td>NaN</td>\n",
       "      <td>NaN</td>\n",
       "      <td>NaN</td>\n",
       "      <td>NaN</td>\n",
       "      <td>NaN</td>\n",
       "      <td>NaN</td>\n",
       "      <td>NaN</td>\n",
       "      <td>NaN</td>\n",
       "      <td>NaN</td>\n",
       "    </tr>\n",
       "    <tr>\n",
       "      <th>8312</th>\n",
       "      <td>19284.0</td>\n",
       "      <td>'19</td>\n",
       "      <td>5B8B3375XPvAibaEXe+YP7LJgGnBm5fX+v1K+v0a</td>\n",
       "      <td>'2001'</td>\n",
       "      <td>1.0</td>\n",
       "      <td>'Bình Thu?n'</td>\n",
       "      <td>'KHMT2019'</td>\n",
       "      <td>'KHMT'</td>\n",
       "      <td>'CQUI'</td>\n",
       "      <td>14.0</td>\n",
       "      <td>...</td>\n",
       "      <td>NaN</td>\n",
       "      <td>NaN</td>\n",
       "      <td>NaN</td>\n",
       "      <td>NaN</td>\n",
       "      <td>NaN</td>\n",
       "      <td>NaN</td>\n",
       "      <td>NaN</td>\n",
       "      <td>NaN</td>\n",
       "      <td>NaN</td>\n",
       "      <td>NaN</td>\n",
       "    </tr>\n",
       "    <tr>\n",
       "      <th>8313</th>\n",
       "      <td>19285.0</td>\n",
       "      <td>'19</td>\n",
       "      <td>AB0C8E8CXPvAibaEXe+YP7LJgGnBm0zuLxFhwUTw</td>\n",
       "      <td>'2001'</td>\n",
       "      <td>1.0</td>\n",
       "      <td>'Lâm ?ng'</td>\n",
       "      <td>'KHMT2019'</td>\n",
       "      <td>'KHMT'</td>\n",
       "      <td>'CQUI'</td>\n",
       "      <td>14.0</td>\n",
       "      <td>...</td>\n",
       "      <td>NaN</td>\n",
       "      <td>NaN</td>\n",
       "      <td>NaN</td>\n",
       "      <td>NaN</td>\n",
       "      <td>NaN</td>\n",
       "      <td>NaN</td>\n",
       "      <td>NaN</td>\n",
       "      <td>NaN</td>\n",
       "      <td>NaN</td>\n",
       "      <td>NaN</td>\n",
       "    </tr>\n",
       "    <tr>\n",
       "      <th>8314</th>\n",
       "      <td>19345.0</td>\n",
       "      <td>'19</td>\n",
       "      <td>216E85A6XPvAibaEXe+YP7LJgGnBm5RzswyQxMPn</td>\n",
       "      <td>'2000'</td>\n",
       "      <td>1.0</td>\n",
       "      <td>'B?n Tre'</td>\n",
       "      <td>'CNTT2019'</td>\n",
       "      <td>'KTTT'</td>\n",
       "      <td>'CQUI'</td>\n",
       "      <td>14.0</td>\n",
       "      <td>...</td>\n",
       "      <td>NaN</td>\n",
       "      <td>NaN</td>\n",
       "      <td>NaN</td>\n",
       "      <td>NaN</td>\n",
       "      <td>NaN</td>\n",
       "      <td>NaN</td>\n",
       "      <td>NaN</td>\n",
       "      <td>NaN</td>\n",
       "      <td>NaN</td>\n",
       "      <td>NaN</td>\n",
       "    </tr>\n",
       "    <tr>\n",
       "      <th>8315</th>\n",
       "      <td>21059.0</td>\n",
       "      <td>'19</td>\n",
       "      <td>011F3320XPvAibaEXe+YP7LJgGnBm0aYYTPZE6X5</td>\n",
       "      <td>'2001'</td>\n",
       "      <td>1.0</td>\n",
       "      <td>'Thành ph H Chí Minh'</td>\n",
       "      <td>'TMCL2020'</td>\n",
       "      <td>'HTTT'</td>\n",
       "      <td>'CLC'</td>\n",
       "      <td>14.0</td>\n",
       "      <td>...</td>\n",
       "      <td>NaN</td>\n",
       "      <td>NaN</td>\n",
       "      <td>NaN</td>\n",
       "      <td>NaN</td>\n",
       "      <td>NaN</td>\n",
       "      <td>NaN</td>\n",
       "      <td>NaN</td>\n",
       "      <td>NaN</td>\n",
       "      <td>NaN</td>\n",
       "      <td>NaN</td>\n",
       "    </tr>\n",
       "  </tbody>\n",
       "</table>\n",
       "<p>8316 rows × 64 columns</p>\n",
       "</div>"
      ],
      "text/plain": [
       "           id  masv_tham so dau                                      masv  \\\n",
       "0         1.0              1352  BE375BAAXPvAibaEXe9JDlHA4z2GHJ3/PVStCxR2   \n",
       "1         2.0              1352  2420ED57XPvAibaEXe/Lh6v1XxTKJa6JLFRUPkLM   \n",
       "2         3.0              1352  83B76C01XPvAibaEXe/lOccskaOiO2K46r7t4qnt   \n",
       "3         4.0              1352  91F785ABXPvAibaEXe/lOccskaOiO5y4GbVvuRQu   \n",
       "4         5.0              1352  007C275DXPvAibaEXe+TFgEDwYNnveOOmOYeYzF6   \n",
       "...       ...               ...                                       ...   \n",
       "8311  19283.0               '18  A90A5811XPvAibaEXe/YoO1jzW8XOXvIMBBcj6JV   \n",
       "8312  19284.0               '19  5B8B3375XPvAibaEXe+YP7LJgGnBm5fX+v1K+v0a   \n",
       "8313  19285.0               '19  AB0C8E8CXPvAibaEXe+YP7LJgGnBm0zuLxFhwUTw   \n",
       "8314  19345.0               '19  216E85A6XPvAibaEXe+YP7LJgGnBm5RzswyQxMPn   \n",
       "8315  21059.0               '19  011F3320XPvAibaEXe+YP7LJgGnBm0aYYTPZE6X5   \n",
       "\n",
       "      namsinh   gioitinh                   noisinh          lopsh       khoa  \\\n",
       "0        1995        1.0           TP. H Chí Minh       KTPM0001       CNPM   \n",
       "1        1995        1.0                 ?ng Tháp       HTTT0001       HTTT   \n",
       "2        1994        1.0               Hà Nam Ninh       KHMT2013       KHMT   \n",
       "3        1995        1.0           TP. H Chí Minh       HTTT0001       HTTT   \n",
       "4        1995        1.0     Thành ph H Chí Minh       MMTT0001     MMT&TT   \n",
       "...       ...        ...                       ...            ...        ...   \n",
       "8311   '2000'        1.0                'An Giang'   'MMCL2019.2'   'MMT&TT'   \n",
       "8312   '2001'        1.0              'Bình Thu?n'     'KHMT2019'     'KHMT'   \n",
       "8313   '2001'        1.0                'Lâm ?ng'     'KHMT2019'     'KHMT'   \n",
       "8314   '2000'        1.0                 'B?n Tre'     'CNTT2019'     'KTTT'   \n",
       "8315   '2001'        1.0   'Thành ph H Chí Minh'     'TMCL2020'     'HTTT'   \n",
       "\n",
       "         hedt   khoahoc  ... Unnamed: 54  Unnamed: 55 Unnamed: 56 Unnamed: 57  \\\n",
       "0        CQUI       8.0  ...         NaN          NaN         NaN         NaN   \n",
       "1        CTTT       8.0  ...         NaN          NaN         NaN         NaN   \n",
       "2        CQUI       8.0  ...         NaN          NaN         NaN         NaN   \n",
       "3        CTTT       8.0  ...         NaN          NaN         NaN         NaN   \n",
       "4        CQUI       8.0  ...         NaN          NaN         NaN         NaN   \n",
       "...       ...       ...  ...         ...          ...         ...         ...   \n",
       "8311    'CLC'      14.0  ...         NaN          NaN         NaN         NaN   \n",
       "8312   'CQUI'      14.0  ...         NaN          NaN         NaN         NaN   \n",
       "8313   'CQUI'      14.0  ...         NaN          NaN         NaN         NaN   \n",
       "8314   'CQUI'      14.0  ...         NaN          NaN         NaN         NaN   \n",
       "8315    'CLC'      14.0  ...         NaN          NaN         NaN         NaN   \n",
       "\n",
       "     Unnamed: 58 Unnamed: 59 Unnamed: 60 Unnamed: 61 Unnamed: 62 Unnamed: 63  \n",
       "0            NaN         NaN         NaN         NaN         NaN         NaN  \n",
       "1            NaN         NaN         NaN         NaN         NaN         NaN  \n",
       "2            NaN         NaN         NaN         NaN         NaN         NaN  \n",
       "3            NaN         NaN         NaN         NaN         NaN         NaN  \n",
       "4            NaN         NaN         NaN         NaN         NaN         NaN  \n",
       "...          ...         ...         ...         ...         ...         ...  \n",
       "8311         NaN         NaN         NaN         NaN         NaN         NaN  \n",
       "8312         NaN         NaN         NaN         NaN         NaN         NaN  \n",
       "8313         NaN         NaN         NaN         NaN         NaN         NaN  \n",
       "8314         NaN         NaN         NaN         NaN         NaN         NaN  \n",
       "8315         NaN         NaN         NaN         NaN         NaN         NaN  \n",
       "\n",
       "[8316 rows x 64 columns]"
      ]
     },
     "execution_count": 12,
     "metadata": {},
     "output_type": "execute_result"
    }
   ],
   "source": [
    "df = pd.read_csv(\"./Education dataset/01.sinhvien.csv\", encoding = \"ISO-8859-1\")\n",
    "df"
   ]
  },
  {
   "cell_type": "code",
   "execution_count": 14,
   "metadata": {},
   "outputs": [
    {
     "data": {
      "text/plain": [
       "'09. Bát Nhã Tâm Kinh'"
      ]
     },
     "execution_count": 14,
     "metadata": {},
     "output_type": "execute_result"
    }
   ],
   "source": [
    "from ftfy import fix_encoding\n",
    "mystr = '09. BÃ¡t NhÃ£ TÃ¢m Kinh'\n",
    "fix_encoding(mystr)"
   ]
  },
  {
   "cell_type": "code",
   "execution_count": 18,
   "metadata": {},
   "outputs": [],
   "source": [
    "from Levenshtein import distance"
   ]
  },
  {
   "cell_type": "code",
   "execution_count": 92,
   "metadata": {},
   "outputs": [
    {
     "data": {
      "text/plain": [
       "[\"'Thành\", 'ph‘', 'H“', 'Chí', \"Minh'\"]"
      ]
     },
     "execution_count": 92,
     "metadata": {},
     "output_type": "execute_result"
    }
   ],
   "source": [
    "text = fix_encoding(df[\" noisinh\"][1000])\n",
    "source = \" TP. Hồ Chí Minh\"\n",
    "text.split(\" \")[1:]\n",
    "reference = text.split(\" \")[1:]\n",
    "reference"
   ]
  },
  {
   "cell_type": "code",
   "execution_count": 43,
   "metadata": {},
   "outputs": [],
   "source": [
    "txt = \"Lâm Đồng\"\n",
    "txt = txt.split(\" \")"
   ]
  },
  {
   "cell_type": "code",
   "execution_count": 41,
   "metadata": {},
   "outputs": [],
   "source": []
  },
  {
   "cell_type": "code",
   "execution_count": 32,
   "metadata": {},
   "outputs": [],
   "source": [
    "import nltk\n"
   ]
  },
  {
   "cell_type": "code",
   "execution_count": 44,
   "metadata": {},
   "outputs": [
    {
     "name": "stdout",
     "output_type": "stream",
     "text": [
      "1.5319719891192393e-231\n"
     ]
    },
    {
     "name": "stderr",
     "output_type": "stream",
     "text": [
      "c:\\Users\\ADMIN\\anaconda3\\envs\\code\\Lib\\site-packages\\nltk\\translate\\bleu_score.py:552: UserWarning: \n",
      "The hypothesis contains 0 counts of 2-gram overlaps.\n",
      "Therefore the BLEU score evaluates to 0, independently of\n",
      "how many N-gram overlaps of lower order it contains.\n",
      "Consider using lower n-gram order or use SmoothingFunction()\n",
      "  warnings.warn(_msg)\n",
      "c:\\Users\\ADMIN\\anaconda3\\envs\\code\\Lib\\site-packages\\nltk\\translate\\bleu_score.py:552: UserWarning: \n",
      "The hypothesis contains 0 counts of 3-gram overlaps.\n",
      "Therefore the BLEU score evaluates to 0, independently of\n",
      "how many N-gram overlaps of lower order it contains.\n",
      "Consider using lower n-gram order or use SmoothingFunction()\n",
      "  warnings.warn(_msg)\n",
      "c:\\Users\\ADMIN\\anaconda3\\envs\\code\\Lib\\site-packages\\nltk\\translate\\bleu_score.py:552: UserWarning: \n",
      "The hypothesis contains 0 counts of 4-gram overlaps.\n",
      "Therefore the BLEU score evaluates to 0, independently of\n",
      "how many N-gram overlaps of lower order it contains.\n",
      "Consider using lower n-gram order or use SmoothingFunction()\n",
      "  warnings.warn(_msg)\n"
     ]
    }
   ],
   "source": [
    "BLEUscore = nltk.translate.bleu_score.sentence_bleu([reference], txt)\n",
    "print(BLEUscore)"
   ]
  },
  {
   "cell_type": "code",
   "execution_count": 115,
   "metadata": {},
   "outputs": [],
   "source": [
    "dict = {\"province\": []}\n",
    "df_text = pd.DataFrame(dict)"
   ]
  },
  {
   "cell_type": "code",
   "execution_count": 137,
   "metadata": {},
   "outputs": [],
   "source": [
    "with open(\"Education dataset\\dsfull.txt\") as f:\n",
    "    for x in f:\n",
    "        text = x.split(\"\\n\")[0]\n",
    "        text_split = text.split(\" \")\n",
    "        df_text.loc[len(df_text.index)] = [text] \n"
   ]
  },
  {
   "cell_type": "code",
   "execution_count": 169,
   "metadata": {},
   "outputs": [],
   "source": [
    "list_word = []\n",
    "for province in df[\" diachi_tinhtp\"].unique():\n",
    "    max_distance = float(\"inf\")\n",
    "    most_similar_word = ''\n",
    "    try:\n",
    "        f_encoding_province = fix_encoding(province)\n",
    "    except:\n",
    "        list_word.append(most_similar_word)\n",
    "        pass\n",
    "    for str in df_text[\"province\"]:\n",
    "        distance = nltk.edit_distance(f_encoding_province, str)\n",
    "        if distance < max_distance:\n",
    "            max_distance = distance\n",
    "            most_similar_word = str\n",
    "    # print(fix_encoding(province),\":\",most_similar_word)\n",
    "    list_word.append(most_similar_word)"
   ]
  },
  {
   "cell_type": "code",
   "execution_count": null,
   "metadata": {},
   "outputs": [
    {
     "ename": "ValueError",
     "evalue": "Length of values (671) does not match length of index (903)",
     "output_type": "error",
     "traceback": [
      "\u001b[1;31m---------------------------------------------------------------------------\u001b[0m",
      "\u001b[1;31mValueError\u001b[0m                                Traceback (most recent call last)",
      "Cell \u001b[1;32mIn[168], line 2\u001b[0m\n\u001b[0;32m      1\u001b[0m df_copy \u001b[39m=\u001b[39m pd\u001b[39m.\u001b[39mDataFrame(df[\u001b[39m\"\u001b[39m\u001b[39m diachi_tinhtp\u001b[39m\u001b[39m\"\u001b[39m]\u001b[39m.\u001b[39munique()\u001b[39m.\u001b[39mcopy())\n\u001b[1;32m----> 2\u001b[0m df_copy[\u001b[39m\"\u001b[39;49m\u001b[39mcorrect\u001b[39;49m\u001b[39m\"\u001b[39;49m] \u001b[39m=\u001b[39m list_word\n\u001b[0;32m      3\u001b[0m df_copy\u001b[39m.\u001b[39mto_csv(\u001b[39m\"\u001b[39m\u001b[39mresult.csv\u001b[39m\u001b[39m\"\u001b[39m)\n",
      "File \u001b[1;32mc:\\Users\\ADMIN\\anaconda3\\envs\\code\\Lib\\site-packages\\pandas\\core\\frame.py:3980\u001b[0m, in \u001b[0;36mDataFrame.__setitem__\u001b[1;34m(self, key, value)\u001b[0m\n\u001b[0;32m   3977\u001b[0m     \u001b[39mself\u001b[39m\u001b[39m.\u001b[39m_setitem_array([key], value)\n\u001b[0;32m   3978\u001b[0m \u001b[39melse\u001b[39;00m:\n\u001b[0;32m   3979\u001b[0m     \u001b[39m# set column\u001b[39;00m\n\u001b[1;32m-> 3980\u001b[0m     \u001b[39mself\u001b[39;49m\u001b[39m.\u001b[39;49m_set_item(key, value)\n",
      "File \u001b[1;32mc:\\Users\\ADMIN\\anaconda3\\envs\\code\\Lib\\site-packages\\pandas\\core\\frame.py:4174\u001b[0m, in \u001b[0;36mDataFrame._set_item\u001b[1;34m(self, key, value)\u001b[0m\n\u001b[0;32m   4164\u001b[0m \u001b[39mdef\u001b[39;00m \u001b[39m_set_item\u001b[39m(\u001b[39mself\u001b[39m, key, value) \u001b[39m-\u001b[39m\u001b[39m>\u001b[39m \u001b[39mNone\u001b[39;00m:\n\u001b[0;32m   4165\u001b[0m \u001b[39m    \u001b[39m\u001b[39m\"\"\"\u001b[39;00m\n\u001b[0;32m   4166\u001b[0m \u001b[39m    Add series to DataFrame in specified column.\u001b[39;00m\n\u001b[0;32m   4167\u001b[0m \n\u001b[1;32m   (...)\u001b[0m\n\u001b[0;32m   4172\u001b[0m \u001b[39m    ensure homogeneity.\u001b[39;00m\n\u001b[0;32m   4173\u001b[0m \u001b[39m    \"\"\"\u001b[39;00m\n\u001b[1;32m-> 4174\u001b[0m     value \u001b[39m=\u001b[39m \u001b[39mself\u001b[39;49m\u001b[39m.\u001b[39;49m_sanitize_column(value)\n\u001b[0;32m   4176\u001b[0m     \u001b[39mif\u001b[39;00m (\n\u001b[0;32m   4177\u001b[0m         key \u001b[39min\u001b[39;00m \u001b[39mself\u001b[39m\u001b[39m.\u001b[39mcolumns\n\u001b[0;32m   4178\u001b[0m         \u001b[39mand\u001b[39;00m value\u001b[39m.\u001b[39mndim \u001b[39m==\u001b[39m \u001b[39m1\u001b[39m\n\u001b[0;32m   4179\u001b[0m         \u001b[39mand\u001b[39;00m \u001b[39mnot\u001b[39;00m is_extension_array_dtype(value)\n\u001b[0;32m   4180\u001b[0m     ):\n\u001b[0;32m   4181\u001b[0m         \u001b[39m# broadcast across multiple columns if necessary\u001b[39;00m\n\u001b[0;32m   4182\u001b[0m         \u001b[39mif\u001b[39;00m \u001b[39mnot\u001b[39;00m \u001b[39mself\u001b[39m\u001b[39m.\u001b[39mcolumns\u001b[39m.\u001b[39mis_unique \u001b[39mor\u001b[39;00m \u001b[39misinstance\u001b[39m(\u001b[39mself\u001b[39m\u001b[39m.\u001b[39mcolumns, MultiIndex):\n",
      "File \u001b[1;32mc:\\Users\\ADMIN\\anaconda3\\envs\\code\\Lib\\site-packages\\pandas\\core\\frame.py:4915\u001b[0m, in \u001b[0;36mDataFrame._sanitize_column\u001b[1;34m(self, value)\u001b[0m\n\u001b[0;32m   4912\u001b[0m     \u001b[39mreturn\u001b[39;00m _reindex_for_setitem(Series(value), \u001b[39mself\u001b[39m\u001b[39m.\u001b[39mindex)\n\u001b[0;32m   4914\u001b[0m \u001b[39mif\u001b[39;00m is_list_like(value):\n\u001b[1;32m-> 4915\u001b[0m     com\u001b[39m.\u001b[39;49mrequire_length_match(value, \u001b[39mself\u001b[39;49m\u001b[39m.\u001b[39;49mindex)\n\u001b[0;32m   4916\u001b[0m \u001b[39mreturn\u001b[39;00m sanitize_array(value, \u001b[39mself\u001b[39m\u001b[39m.\u001b[39mindex, copy\u001b[39m=\u001b[39m\u001b[39mTrue\u001b[39;00m, allow_2d\u001b[39m=\u001b[39m\u001b[39mTrue\u001b[39;00m)\n",
      "File \u001b[1;32mc:\\Users\\ADMIN\\anaconda3\\envs\\code\\Lib\\site-packages\\pandas\\core\\common.py:571\u001b[0m, in \u001b[0;36mrequire_length_match\u001b[1;34m(data, index)\u001b[0m\n\u001b[0;32m    567\u001b[0m \u001b[39m\u001b[39m\u001b[39m\"\"\"\u001b[39;00m\n\u001b[0;32m    568\u001b[0m \u001b[39mCheck the length of data matches the length of the index.\u001b[39;00m\n\u001b[0;32m    569\u001b[0m \u001b[39m\"\"\"\u001b[39;00m\n\u001b[0;32m    570\u001b[0m \u001b[39mif\u001b[39;00m \u001b[39mlen\u001b[39m(data) \u001b[39m!=\u001b[39m \u001b[39mlen\u001b[39m(index):\n\u001b[1;32m--> 571\u001b[0m     \u001b[39mraise\u001b[39;00m \u001b[39mValueError\u001b[39;00m(\n\u001b[0;32m    572\u001b[0m         \u001b[39m\"\u001b[39m\u001b[39mLength of values \u001b[39m\u001b[39m\"\u001b[39m\n\u001b[0;32m    573\u001b[0m         \u001b[39mf\u001b[39m\u001b[39m\"\u001b[39m\u001b[39m(\u001b[39m\u001b[39m{\u001b[39;00m\u001b[39mlen\u001b[39m(data)\u001b[39m}\u001b[39;00m\u001b[39m) \u001b[39m\u001b[39m\"\u001b[39m\n\u001b[0;32m    574\u001b[0m         \u001b[39m\"\u001b[39m\u001b[39mdoes not match length of index \u001b[39m\u001b[39m\"\u001b[39m\n\u001b[0;32m    575\u001b[0m         \u001b[39mf\u001b[39m\u001b[39m\"\u001b[39m\u001b[39m(\u001b[39m\u001b[39m{\u001b[39;00m\u001b[39mlen\u001b[39m(index)\u001b[39m}\u001b[39;00m\u001b[39m)\u001b[39m\u001b[39m\"\u001b[39m\n\u001b[0;32m    576\u001b[0m     )\n",
      "\u001b[1;31mValueError\u001b[0m: Length of values (671) does not match length of index (903)"
     ]
    }
   ],
   "source": [
    "df_copy = pd.DataFrame(df[\" diachi_tinhtp\"].unique().copy())\n",
    "df_copy[\"correct\"] = list_word\n",
    "df_copy.to_csv(\"result.csv\")"
   ]
  }
 ],
 "metadata": {
  "kernelspec": {
   "display_name": "code",
   "language": "python",
   "name": "python3"
  },
  "language_info": {
   "codemirror_mode": {
    "name": "ipython",
    "version": 3
   },
   "file_extension": ".py",
   "mimetype": "text/x-python",
   "name": "python",
   "nbconvert_exporter": "python",
   "pygments_lexer": "ipython3",
   "version": "3.11.2"
  },
  "orig_nbformat": 4
 },
 "nbformat": 4,
 "nbformat_minor": 2
}
