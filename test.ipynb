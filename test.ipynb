{
 "cells": [
  {
   "cell_type": "code",
   "execution_count": 4,
   "metadata": {},
   "outputs": [
    {
     "name": "stdout",
     "output_type": "stream",
     "text": [
      "{'155': 155, '141': 141, '165': 165, '156': 156, '144': 144, '128': 128, '163': 163, \" '154'\": 154, \" '155'\": 155, \" '141'\": 141, \" '165'\": 165, \" '156'\": 156, \" '144'\": 144, \" '128'\": 128, \" '163'\": 163}\n"
     ]
    }
   ],
   "source": [
    "array = ['155', '141', '165', '156', '144', '128', '163', \" '154'\", \" '155'\", \" '141'\", \" '165'\", \" '156'\", \" '144'\", \" '128'\", \" '163'\"]\n",
    "\n",
    "# khởi tạo một dictionary trống\n",
    "my_dict = {}\n",
    "\n",
    "# duyệt qua từng phần tử trong mảng và chuyển giá trị của nó thành số nguyên\n",
    "for item in array:\n",
    "    value = int(item.strip().replace(\"'\", \"\"))\n",
    "    \n",
    "    # lưu giá trị vào dictionary với key là giá trị của phần tử trong mảng\n",
    "    my_dict[item] = value\n",
    "\n",
    "print(my_dict)\n"
   ]
  }
 ],
 "metadata": {
  "kernelspec": {
   "display_name": "code",
   "language": "python",
   "name": "python3"
  },
  "language_info": {
   "codemirror_mode": {
    "name": "ipython",
    "version": 3
   },
   "file_extension": ".py",
   "mimetype": "text/x-python",
   "name": "python",
   "nbconvert_exporter": "python",
   "pygments_lexer": "ipython3",
   "version": "3.11.2"
  },
  "orig_nbformat": 4
 },
 "nbformat": 4,
 "nbformat_minor": 2
}
